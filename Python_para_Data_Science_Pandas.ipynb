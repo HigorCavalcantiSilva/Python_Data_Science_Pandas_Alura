{
  "cells": [
    {
      "cell_type": "markdown",
      "metadata": {
        "id": "W4bTJkJED0-t"
      },
      "source": [
        "# <font color=green> PYTHON PARA DATA SCIENCE - PANDAS\n",
        "---"
      ]
    },
    {
      "cell_type": "markdown",
      "metadata": {
        "id": "GOEcCc62D0-x"
      },
      "source": [
        "# <font color=green> 1. INTRODUÇÃO AO PYTHON\n",
        "---"
      ]
    },
    {
      "cell_type": "markdown",
      "metadata": {
        "id": "oGvoOJ-XD0-y"
      },
      "source": [
        "# 1.1 Introdução"
      ]
    },
    {
      "cell_type": "markdown",
      "metadata": {
        "id": "fam3BM0aD0-z"
      },
      "source": [
        "> Python é uma linguagem de programação de alto nível com suporte a múltiplos paradigmas de programação. É um projeto *open source* e desde seu surgimento, em 1991, vem se tornando uma das linguagens de programação interpretadas mais populares. \n",
        ">\n",
        "> Nos últimos anos Python desenvolveu uma comunidade ativa de processamento científico e análise de dados e vem se destacando como uma das linguagens mais relevantes quando o assundo é ciência de dados e machine learning, tanto no ambiente acadêmico como também no mercado."
      ]
    },
    {
      "cell_type": "markdown",
      "metadata": {
        "id": "6kH5DY-vD0-1"
      },
      "source": [
        "# 1.2 Instalação e ambiente de desenvolvimento"
      ]
    },
    {
      "cell_type": "markdown",
      "metadata": {
        "id": "BTpm79I2D0-2"
      },
      "source": [
        "### Instalação Local\n",
        "\n",
        "### https://www.python.org/downloads/\n",
        "### ou\n",
        "### https://www.anaconda.com/distribution/"
      ]
    },
    {
      "cell_type": "markdown",
      "metadata": {
        "id": "AuPS_XwRD0-3"
      },
      "source": [
        "### Google Colaboratory\n",
        "\n",
        "### https://colab.research.google.com"
      ]
    },
    {
      "cell_type": "markdown",
      "metadata": {
        "id": "4rUYsPrXD0-4"
      },
      "source": [
        "### Verificando versão"
      ]
    },
    {
      "cell_type": "code",
      "execution_count": null,
      "metadata": {
        "colab": {
          "base_uri": "https://localhost:8080/"
        },
        "id": "PgTCVRB2D0-5",
        "outputId": "9be156d9-f1b7-4598-f2cd-cf40edfab5de"
      },
      "outputs": [
        {
          "name": "stderr",
          "output_type": "stream",
          "text": [
            "Python 2.7.15\n"
          ]
        }
      ],
      "source": [
        "!python -V"
      ]
    },
    {
      "cell_type": "markdown",
      "metadata": {
        "id": "lTtI6so4D0-9"
      },
      "source": [
        "# 1.3 Trabalhando com dados"
      ]
    },
    {
      "cell_type": "code",
      "execution_count": null,
      "metadata": {
        "id": "E_n4FUUWD0-9"
      },
      "outputs": [],
      "source": [
        "import pandas as pd\n",
        "# pd.set_option('display.max_rows', 1000)\n",
        "# pd.set_option('display.max_columns', 1000)"
      ]
    },
    {
      "cell_type": "code",
      "execution_count": null,
      "metadata": {
        "id": "Kq-JdRHFD0-_",
        "outputId": "c4dc94b0-e45c-43db-cd13-8b4f51e060d5"
      },
      "outputs": [
        {
          "ename": "FileNotFoundError",
          "evalue": "[Errno 2] No such file or directory: 'db.csv'",
          "output_type": "error",
          "traceback": [
            "\u001b[1;31m---------------------------------------------------------------------------\u001b[0m",
            "\u001b[1;31mFileNotFoundError\u001b[0m                         Traceback (most recent call last)",
            "\u001b[1;32m<ipython-input-3-94f1bdcad8ed>\u001b[0m in \u001b[0;36m<module>\u001b[1;34m\u001b[0m\n\u001b[1;32m----> 1\u001b[1;33m \u001b[0mdataset\u001b[0m \u001b[1;33m=\u001b[0m \u001b[0mpd\u001b[0m\u001b[1;33m.\u001b[0m\u001b[0mread_csv\u001b[0m\u001b[1;33m(\u001b[0m\u001b[1;34m'db.csv'\u001b[0m\u001b[1;33m,\u001b[0m \u001b[0msep\u001b[0m \u001b[1;33m=\u001b[0m \u001b[1;34m';'\u001b[0m\u001b[1;33m)\u001b[0m\u001b[1;33m\u001b[0m\u001b[1;33m\u001b[0m\u001b[0m\n\u001b[0m",
            "\u001b[1;32mD:\\Softwares\\Anaconda\\lib\\site-packages\\pandas\\io\\parsers.py\u001b[0m in \u001b[0;36mread_csv\u001b[1;34m(filepath_or_buffer, sep, delimiter, header, names, index_col, usecols, squeeze, prefix, mangle_dupe_cols, dtype, engine, converters, true_values, false_values, skipinitialspace, skiprows, skipfooter, nrows, na_values, keep_default_na, na_filter, verbose, skip_blank_lines, parse_dates, infer_datetime_format, keep_date_col, date_parser, dayfirst, cache_dates, iterator, chunksize, compression, thousands, decimal, lineterminator, quotechar, quoting, doublequote, escapechar, comment, encoding, dialect, error_bad_lines, warn_bad_lines, delim_whitespace, low_memory, memory_map, float_precision, storage_options)\u001b[0m\n\u001b[0;32m    608\u001b[0m     \u001b[0mkwds\u001b[0m\u001b[1;33m.\u001b[0m\u001b[0mupdate\u001b[0m\u001b[1;33m(\u001b[0m\u001b[0mkwds_defaults\u001b[0m\u001b[1;33m)\u001b[0m\u001b[1;33m\u001b[0m\u001b[1;33m\u001b[0m\u001b[0m\n\u001b[0;32m    609\u001b[0m \u001b[1;33m\u001b[0m\u001b[0m\n\u001b[1;32m--> 610\u001b[1;33m     \u001b[1;32mreturn\u001b[0m \u001b[0m_read\u001b[0m\u001b[1;33m(\u001b[0m\u001b[0mfilepath_or_buffer\u001b[0m\u001b[1;33m,\u001b[0m \u001b[0mkwds\u001b[0m\u001b[1;33m)\u001b[0m\u001b[1;33m\u001b[0m\u001b[1;33m\u001b[0m\u001b[0m\n\u001b[0m\u001b[0;32m    611\u001b[0m \u001b[1;33m\u001b[0m\u001b[0m\n\u001b[0;32m    612\u001b[0m \u001b[1;33m\u001b[0m\u001b[0m\n",
            "\u001b[1;32mD:\\Softwares\\Anaconda\\lib\\site-packages\\pandas\\io\\parsers.py\u001b[0m in \u001b[0;36m_read\u001b[1;34m(filepath_or_buffer, kwds)\u001b[0m\n\u001b[0;32m    460\u001b[0m \u001b[1;33m\u001b[0m\u001b[0m\n\u001b[0;32m    461\u001b[0m     \u001b[1;31m# Create the parser.\u001b[0m\u001b[1;33m\u001b[0m\u001b[1;33m\u001b[0m\u001b[1;33m\u001b[0m\u001b[0m\n\u001b[1;32m--> 462\u001b[1;33m     \u001b[0mparser\u001b[0m \u001b[1;33m=\u001b[0m \u001b[0mTextFileReader\u001b[0m\u001b[1;33m(\u001b[0m\u001b[0mfilepath_or_buffer\u001b[0m\u001b[1;33m,\u001b[0m \u001b[1;33m**\u001b[0m\u001b[0mkwds\u001b[0m\u001b[1;33m)\u001b[0m\u001b[1;33m\u001b[0m\u001b[1;33m\u001b[0m\u001b[0m\n\u001b[0m\u001b[0;32m    463\u001b[0m \u001b[1;33m\u001b[0m\u001b[0m\n\u001b[0;32m    464\u001b[0m     \u001b[1;32mif\u001b[0m \u001b[0mchunksize\u001b[0m \u001b[1;32mor\u001b[0m \u001b[0miterator\u001b[0m\u001b[1;33m:\u001b[0m\u001b[1;33m\u001b[0m\u001b[1;33m\u001b[0m\u001b[0m\n",
            "\u001b[1;32mD:\\Softwares\\Anaconda\\lib\\site-packages\\pandas\\io\\parsers.py\u001b[0m in \u001b[0;36m__init__\u001b[1;34m(self, f, engine, **kwds)\u001b[0m\n\u001b[0;32m    817\u001b[0m             \u001b[0mself\u001b[0m\u001b[1;33m.\u001b[0m\u001b[0moptions\u001b[0m\u001b[1;33m[\u001b[0m\u001b[1;34m\"has_index_names\"\u001b[0m\u001b[1;33m]\u001b[0m \u001b[1;33m=\u001b[0m \u001b[0mkwds\u001b[0m\u001b[1;33m[\u001b[0m\u001b[1;34m\"has_index_names\"\u001b[0m\u001b[1;33m]\u001b[0m\u001b[1;33m\u001b[0m\u001b[1;33m\u001b[0m\u001b[0m\n\u001b[0;32m    818\u001b[0m \u001b[1;33m\u001b[0m\u001b[0m\n\u001b[1;32m--> 819\u001b[1;33m         \u001b[0mself\u001b[0m\u001b[1;33m.\u001b[0m\u001b[0m_engine\u001b[0m \u001b[1;33m=\u001b[0m \u001b[0mself\u001b[0m\u001b[1;33m.\u001b[0m\u001b[0m_make_engine\u001b[0m\u001b[1;33m(\u001b[0m\u001b[0mself\u001b[0m\u001b[1;33m.\u001b[0m\u001b[0mengine\u001b[0m\u001b[1;33m)\u001b[0m\u001b[1;33m\u001b[0m\u001b[1;33m\u001b[0m\u001b[0m\n\u001b[0m\u001b[0;32m    820\u001b[0m \u001b[1;33m\u001b[0m\u001b[0m\n\u001b[0;32m    821\u001b[0m     \u001b[1;32mdef\u001b[0m \u001b[0mclose\u001b[0m\u001b[1;33m(\u001b[0m\u001b[0mself\u001b[0m\u001b[1;33m)\u001b[0m\u001b[1;33m:\u001b[0m\u001b[1;33m\u001b[0m\u001b[1;33m\u001b[0m\u001b[0m\n",
            "\u001b[1;32mD:\\Softwares\\Anaconda\\lib\\site-packages\\pandas\\io\\parsers.py\u001b[0m in \u001b[0;36m_make_engine\u001b[1;34m(self, engine)\u001b[0m\n\u001b[0;32m   1048\u001b[0m             )\n\u001b[0;32m   1049\u001b[0m         \u001b[1;31m# error: Too many arguments for \"ParserBase\"\u001b[0m\u001b[1;33m\u001b[0m\u001b[1;33m\u001b[0m\u001b[1;33m\u001b[0m\u001b[0m\n\u001b[1;32m-> 1050\u001b[1;33m         \u001b[1;32mreturn\u001b[0m \u001b[0mmapping\u001b[0m\u001b[1;33m[\u001b[0m\u001b[0mengine\u001b[0m\u001b[1;33m]\u001b[0m\u001b[1;33m(\u001b[0m\u001b[0mself\u001b[0m\u001b[1;33m.\u001b[0m\u001b[0mf\u001b[0m\u001b[1;33m,\u001b[0m \u001b[1;33m**\u001b[0m\u001b[0mself\u001b[0m\u001b[1;33m.\u001b[0m\u001b[0moptions\u001b[0m\u001b[1;33m)\u001b[0m  \u001b[1;31m# type: ignore[call-arg]\u001b[0m\u001b[1;33m\u001b[0m\u001b[1;33m\u001b[0m\u001b[0m\n\u001b[0m\u001b[0;32m   1051\u001b[0m \u001b[1;33m\u001b[0m\u001b[0m\n\u001b[0;32m   1052\u001b[0m     \u001b[1;32mdef\u001b[0m \u001b[0m_failover_to_python\u001b[0m\u001b[1;33m(\u001b[0m\u001b[0mself\u001b[0m\u001b[1;33m)\u001b[0m\u001b[1;33m:\u001b[0m\u001b[1;33m\u001b[0m\u001b[1;33m\u001b[0m\u001b[0m\n",
            "\u001b[1;32mD:\\Softwares\\Anaconda\\lib\\site-packages\\pandas\\io\\parsers.py\u001b[0m in \u001b[0;36m__init__\u001b[1;34m(self, src, **kwds)\u001b[0m\n\u001b[0;32m   1865\u001b[0m \u001b[1;33m\u001b[0m\u001b[0m\n\u001b[0;32m   1866\u001b[0m         \u001b[1;31m# open handles\u001b[0m\u001b[1;33m\u001b[0m\u001b[1;33m\u001b[0m\u001b[1;33m\u001b[0m\u001b[0m\n\u001b[1;32m-> 1867\u001b[1;33m         \u001b[0mself\u001b[0m\u001b[1;33m.\u001b[0m\u001b[0m_open_handles\u001b[0m\u001b[1;33m(\u001b[0m\u001b[0msrc\u001b[0m\u001b[1;33m,\u001b[0m \u001b[0mkwds\u001b[0m\u001b[1;33m)\u001b[0m\u001b[1;33m\u001b[0m\u001b[1;33m\u001b[0m\u001b[0m\n\u001b[0m\u001b[0;32m   1868\u001b[0m         \u001b[1;32massert\u001b[0m \u001b[0mself\u001b[0m\u001b[1;33m.\u001b[0m\u001b[0mhandles\u001b[0m \u001b[1;32mis\u001b[0m \u001b[1;32mnot\u001b[0m \u001b[1;32mNone\u001b[0m\u001b[1;33m\u001b[0m\u001b[1;33m\u001b[0m\u001b[0m\n\u001b[0;32m   1869\u001b[0m         \u001b[1;32mfor\u001b[0m \u001b[0mkey\u001b[0m \u001b[1;32min\u001b[0m \u001b[1;33m(\u001b[0m\u001b[1;34m\"storage_options\"\u001b[0m\u001b[1;33m,\u001b[0m \u001b[1;34m\"encoding\"\u001b[0m\u001b[1;33m,\u001b[0m \u001b[1;34m\"memory_map\"\u001b[0m\u001b[1;33m,\u001b[0m \u001b[1;34m\"compression\"\u001b[0m\u001b[1;33m)\u001b[0m\u001b[1;33m:\u001b[0m\u001b[1;33m\u001b[0m\u001b[1;33m\u001b[0m\u001b[0m\n",
            "\u001b[1;32mD:\\Softwares\\Anaconda\\lib\\site-packages\\pandas\\io\\parsers.py\u001b[0m in \u001b[0;36m_open_handles\u001b[1;34m(self, src, kwds)\u001b[0m\n\u001b[0;32m   1360\u001b[0m         \u001b[0mLet\u001b[0m \u001b[0mthe\u001b[0m \u001b[0mreaders\u001b[0m \u001b[0mopen\u001b[0m \u001b[0mIOHanldes\u001b[0m \u001b[0mafter\u001b[0m \u001b[0mthey\u001b[0m \u001b[0mare\u001b[0m \u001b[0mdone\u001b[0m \u001b[1;32mwith\u001b[0m \u001b[0mtheir\u001b[0m \u001b[0mpotential\u001b[0m \u001b[0mraises\u001b[0m\u001b[1;33m.\u001b[0m\u001b[1;33m\u001b[0m\u001b[1;33m\u001b[0m\u001b[0m\n\u001b[0;32m   1361\u001b[0m         \"\"\"\n\u001b[1;32m-> 1362\u001b[1;33m         self.handles = get_handle(\n\u001b[0m\u001b[0;32m   1363\u001b[0m             \u001b[0msrc\u001b[0m\u001b[1;33m,\u001b[0m\u001b[1;33m\u001b[0m\u001b[1;33m\u001b[0m\u001b[0m\n\u001b[0;32m   1364\u001b[0m             \u001b[1;34m\"r\"\u001b[0m\u001b[1;33m,\u001b[0m\u001b[1;33m\u001b[0m\u001b[1;33m\u001b[0m\u001b[0m\n",
            "\u001b[1;32mD:\\Softwares\\Anaconda\\lib\\site-packages\\pandas\\io\\common.py\u001b[0m in \u001b[0;36mget_handle\u001b[1;34m(path_or_buf, mode, encoding, compression, memory_map, is_text, errors, storage_options)\u001b[0m\n\u001b[0;32m    640\u001b[0m                 \u001b[0merrors\u001b[0m \u001b[1;33m=\u001b[0m \u001b[1;34m\"replace\"\u001b[0m\u001b[1;33m\u001b[0m\u001b[1;33m\u001b[0m\u001b[0m\n\u001b[0;32m    641\u001b[0m             \u001b[1;31m# Encoding\u001b[0m\u001b[1;33m\u001b[0m\u001b[1;33m\u001b[0m\u001b[1;33m\u001b[0m\u001b[0m\n\u001b[1;32m--> 642\u001b[1;33m             handle = open(\n\u001b[0m\u001b[0;32m    643\u001b[0m                 \u001b[0mhandle\u001b[0m\u001b[1;33m,\u001b[0m\u001b[1;33m\u001b[0m\u001b[1;33m\u001b[0m\u001b[0m\n\u001b[0;32m    644\u001b[0m                 \u001b[0mioargs\u001b[0m\u001b[1;33m.\u001b[0m\u001b[0mmode\u001b[0m\u001b[1;33m,\u001b[0m\u001b[1;33m\u001b[0m\u001b[1;33m\u001b[0m\u001b[0m\n",
            "\u001b[1;31mFileNotFoundError\u001b[0m: [Errno 2] No such file or directory: 'db.csv'"
          ]
        }
      ],
      "source": [
        "dataset = pd.read_csv('db.csv', sep = ';')"
      ]
    },
    {
      "cell_type": "code",
      "execution_count": null,
      "metadata": {
        "id": "mOV1rCA6D0_A",
        "scrolled": true
      },
      "outputs": [],
      "source": [
        "dataset"
      ]
    },
    {
      "cell_type": "code",
      "execution_count": null,
      "metadata": {
        "id": "5D739PzJD0_B"
      },
      "outputs": [],
      "source": [
        "dataset.dtypes"
      ]
    },
    {
      "cell_type": "code",
      "execution_count": null,
      "metadata": {
        "id": "r_qUf16LD0_D"
      },
      "outputs": [],
      "source": [
        "dataset[['Quilometragem', 'Valor']].describe()"
      ]
    },
    {
      "cell_type": "code",
      "execution_count": null,
      "metadata": {
        "id": "0R-_7PH5D0_E"
      },
      "outputs": [],
      "source": [
        "dataset.info()"
      ]
    },
    {
      "cell_type": "markdown",
      "metadata": {
        "id": "htjoBLwiD0_F"
      },
      "source": [
        "# <font color=green> 2. TRABALHANDO COM TUPLAS\n",
        "---"
      ]
    },
    {
      "cell_type": "markdown",
      "metadata": {
        "id": "MZH5_QnYD0_G"
      },
      "source": [
        "# 2.1 Criando tuplas\n",
        "\n",
        "Tuplas são sequências imutáveis que são utilizadas para armazenar coleções de itens, geralmente heterogêneos. Podem ser construídas de várias formas:\n",
        "```\n",
        "- Utilizando um par de parênteses: ( )\n",
        "- Utilizando uma vírgula à direita: x,\n",
        "- Utilizando um par de parênteses com itens separados por vírgulas: ( x, y, z )\n",
        "- Utilizando: tuple() ou tuple(iterador)\n",
        "```"
      ]
    },
    {
      "cell_type": "code",
      "execution_count": null,
      "metadata": {
        "id": "xzcs9fzeD0_G"
      },
      "outputs": [],
      "source": [
        "()"
      ]
    },
    {
      "cell_type": "code",
      "execution_count": null,
      "metadata": {
        "id": "qJq7a2qTD0_I"
      },
      "outputs": [],
      "source": [
        "1,2,3"
      ]
    },
    {
      "cell_type": "code",
      "execution_count": null,
      "metadata": {
        "id": "sg7LdvptD0_J"
      },
      "outputs": [],
      "source": [
        "nome = 'Passat'\n",
        "valor = 153000\n",
        "(nome, valor)"
      ]
    },
    {
      "cell_type": "code",
      "execution_count": null,
      "metadata": {
        "id": "XSSMebXjD0_K"
      },
      "outputs": [],
      "source": [
        "nomes_carros = tuple(['Jetta Variant', 'Passat', 'Crossfox', 'DS5'])\n",
        "nomes_carros"
      ]
    },
    {
      "cell_type": "code",
      "execution_count": null,
      "metadata": {
        "id": "dpkdzrzRD0_M"
      },
      "outputs": [],
      "source": [
        "type(nomes_carros)"
      ]
    },
    {
      "cell_type": "markdown",
      "metadata": {
        "id": "iKUY2DOUD0_N"
      },
      "source": [
        "# 2.2 Seleções em tuplas"
      ]
    },
    {
      "cell_type": "code",
      "execution_count": null,
      "metadata": {
        "id": "hBEeAM7_D0_N"
      },
      "outputs": [],
      "source": [
        "nomes_carros = tuple(['Jetta Variant', 'Passat', 'Crossfox', 'DS5'])\n",
        "nomes_carros"
      ]
    },
    {
      "cell_type": "code",
      "execution_count": null,
      "metadata": {
        "id": "-mx_1E_tD0_P"
      },
      "outputs": [],
      "source": [
        "nomes_carros[0]"
      ]
    },
    {
      "cell_type": "code",
      "execution_count": null,
      "metadata": {
        "id": "LMhyqnFID0_Q"
      },
      "outputs": [],
      "source": [
        "nomes_carros[1]"
      ]
    },
    {
      "cell_type": "code",
      "execution_count": null,
      "metadata": {
        "id": "6btHff4BD0_T"
      },
      "outputs": [],
      "source": [
        "nomes_carros[-1]"
      ]
    },
    {
      "cell_type": "code",
      "execution_count": null,
      "metadata": {
        "id": "K_Dc12xBD0_U"
      },
      "outputs": [],
      "source": [
        "nomes_carros[1:3]"
      ]
    },
    {
      "cell_type": "code",
      "execution_count": null,
      "metadata": {
        "id": "zvrWYkkeD0_W"
      },
      "outputs": [],
      "source": [
        "nomes_carros = ('Jetta Variant', 'Passat', 'Crossfox', 'DS5', ('Fusca', 'Gol', 'C4'))\n",
        "nomes_carros"
      ]
    },
    {
      "cell_type": "code",
      "execution_count": null,
      "metadata": {
        "id": "Dw7tbM2ED0_Z"
      },
      "outputs": [],
      "source": [
        "nomes_carros[-1]"
      ]
    },
    {
      "cell_type": "code",
      "execution_count": null,
      "metadata": {
        "id": "SAMD3BtXD0_b"
      },
      "outputs": [],
      "source": [
        "nomes_carros[-1][1]"
      ]
    },
    {
      "cell_type": "markdown",
      "metadata": {
        "id": "KLMxh4-0D0_c"
      },
      "source": [
        "# 2.3 Iterando em tuplas"
      ]
    },
    {
      "cell_type": "code",
      "execution_count": null,
      "metadata": {
        "id": "K53elKsYD0_c"
      },
      "outputs": [],
      "source": [
        "nomes_carros = ('Jetta Variant', 'Passat', 'Crossfox', 'DS5')\n",
        "nomes_carros"
      ]
    },
    {
      "cell_type": "code",
      "execution_count": null,
      "metadata": {
        "id": "igZhZ5zdD0_d"
      },
      "outputs": [],
      "source": [
        "for item in nomes_carros:\n",
        "    print(item)"
      ]
    },
    {
      "cell_type": "markdown",
      "metadata": {
        "id": "AOBjxBk8D0_f"
      },
      "source": [
        "### Desempacotamento de tuplas"
      ]
    },
    {
      "cell_type": "code",
      "execution_count": null,
      "metadata": {
        "id": "UoEFnumhD0_f"
      },
      "outputs": [],
      "source": [
        "nomes_carros = ('Jetta Variant', 'Passat', 'Crossfox', 'DS5')\n",
        "nomes_carros"
      ]
    },
    {
      "cell_type": "code",
      "execution_count": null,
      "metadata": {
        "id": "AaCLcNYTD0_g"
      },
      "outputs": [],
      "source": [
        "carro_1, carro_2, carro_3, carro_4 = nomes_carros"
      ]
    },
    {
      "cell_type": "code",
      "execution_count": null,
      "metadata": {
        "id": "TA71S9egD0_h"
      },
      "outputs": [],
      "source": [
        "carro_1"
      ]
    },
    {
      "cell_type": "code",
      "execution_count": null,
      "metadata": {
        "id": "CHoJ034MD0_i"
      },
      "outputs": [],
      "source": [
        "carro_2"
      ]
    },
    {
      "cell_type": "code",
      "execution_count": null,
      "metadata": {
        "id": "oxJrOuCSD0_j"
      },
      "outputs": [],
      "source": [
        "carro_3"
      ]
    },
    {
      "cell_type": "code",
      "execution_count": null,
      "metadata": {
        "id": "BbR9sB4BD0_k"
      },
      "outputs": [],
      "source": [
        "carro_4"
      ]
    },
    {
      "cell_type": "code",
      "execution_count": null,
      "metadata": {
        "id": "aZvokrjPD0_m"
      },
      "outputs": [],
      "source": [
        "_, A, _, B = nomes_carros"
      ]
    },
    {
      "cell_type": "code",
      "execution_count": null,
      "metadata": {
        "id": "wZXDbVg0D0_o"
      },
      "outputs": [],
      "source": [
        "A"
      ]
    },
    {
      "cell_type": "code",
      "execution_count": null,
      "metadata": {
        "id": "aWgDMBXiD0_p"
      },
      "outputs": [],
      "source": [
        "B"
      ]
    },
    {
      "cell_type": "code",
      "execution_count": null,
      "metadata": {
        "id": "OdpgNh-ND0_q"
      },
      "outputs": [],
      "source": [
        "_, C, *_ = nomes_carros"
      ]
    },
    {
      "cell_type": "code",
      "execution_count": null,
      "metadata": {
        "id": "upVYFnMdD0_r"
      },
      "outputs": [],
      "source": [
        "C"
      ]
    },
    {
      "cell_type": "markdown",
      "metadata": {
        "id": "u85Aou8WD0_s"
      },
      "source": [
        "## *zip()*\n",
        "\n",
        "https://docs.python.org/3.6/library/functions.html#zip"
      ]
    },
    {
      "cell_type": "code",
      "execution_count": null,
      "metadata": {
        "id": "PaC2oXGED0_t"
      },
      "outputs": [],
      "source": [
        "carros = ['Jetta Variant', 'Passat', 'Crossfox', 'DS5']\n",
        "carros"
      ]
    },
    {
      "cell_type": "code",
      "execution_count": null,
      "metadata": {
        "id": "_02O1VnHD0_u"
      },
      "outputs": [],
      "source": [
        "valores = [88078.64, 106161.94, 72832.16, 124549.07]\n",
        "valores"
      ]
    },
    {
      "cell_type": "code",
      "execution_count": null,
      "metadata": {
        "id": "roQK5nYRD0_v"
      },
      "outputs": [],
      "source": [
        "list(zip(carros, valores))"
      ]
    },
    {
      "cell_type": "code",
      "execution_count": null,
      "metadata": {
        "id": "_WRxIRHrD0_w"
      },
      "outputs": [],
      "source": [
        "for item in zip(carros, valores):\n",
        "    print(item)"
      ]
    },
    {
      "cell_type": "code",
      "execution_count": null,
      "metadata": {
        "id": "2zIuhIILD0_x"
      },
      "outputs": [],
      "source": [
        "for carro, valor in zip(carros, valores):\n",
        "    print(carro, valor)"
      ]
    },
    {
      "cell_type": "code",
      "execution_count": null,
      "metadata": {
        "id": "ZJaL62IpD0_y"
      },
      "outputs": [],
      "source": [
        "for carro, valor in zip(carros, valores):\n",
        "    if(valor > 100000):\n",
        "        print(carro, valor)"
      ]
    },
    {
      "cell_type": "markdown",
      "metadata": {
        "id": "xo76nR8rD0_0"
      },
      "source": [
        "# <font color=green> 3. TRABALHANDO COM DICIONÁRIOS\n",
        "---"
      ]
    },
    {
      "cell_type": "markdown",
      "metadata": {
        "id": "wfWzOuztD0_0"
      },
      "source": [
        "# 3.1 Criando dicionários\n",
        "\n",
        "Listas são coleções sequenciais, isto é, os itens destas sequências estão ordenados e utilizam índices (números inteiros) para acessar os valores.\n",
        "\n",
        "Os dicionários são coleções um pouco diferentes. São estruturas de dados que representam um tipo de mapeamento. Mapeamentos são coleções de associações entre pares de valores onde o primeiro elemento do par é conhecido como chave (*key*) e o segundo como valor (*value*).\n",
        "\n",
        "```\n",
        "dicionario = {key_1: value_1, key_2: value_2, ..., key_n: value_n}\n",
        "```\n",
        "\n",
        "https://docs.python.org/3.6/library/stdtypes.html#typesmapping"
      ]
    },
    {
      "cell_type": "code",
      "execution_count": null,
      "metadata": {
        "id": "YIFVkWT6D0_1"
      },
      "outputs": [],
      "source": [
        "carros = ['Jetta Variant', 'Passat', 'Crossfox']\n",
        "carros"
      ]
    },
    {
      "cell_type": "code",
      "execution_count": null,
      "metadata": {
        "id": "2LHiBn3-D0_2"
      },
      "outputs": [],
      "source": [
        "valores = [88078.64, 106161.94, 72832.16]\n",
        "valores"
      ]
    },
    {
      "cell_type": "code",
      "execution_count": null,
      "metadata": {
        "id": "YxLAx_sqD0_4"
      },
      "outputs": [],
      "source": [
        "carros.index('Passat')"
      ]
    },
    {
      "cell_type": "code",
      "execution_count": null,
      "metadata": {
        "id": "WITNWExID0_7"
      },
      "outputs": [],
      "source": [
        "valores[carros.index('Passat')]"
      ]
    },
    {
      "cell_type": "code",
      "execution_count": null,
      "metadata": {
        "id": "bHNqoDbTD0_8"
      },
      "outputs": [],
      "source": [
        "dados = {'Jetta Variant': 88078.64, 'Passat': 106161.94, 'Crossfox': 72832.16}\n",
        "dados"
      ]
    },
    {
      "cell_type": "code",
      "execution_count": null,
      "metadata": {
        "id": "4FyQgmcAD0_9"
      },
      "outputs": [],
      "source": [
        "type(dados)"
      ]
    },
    {
      "cell_type": "markdown",
      "metadata": {
        "id": "PQg-MLkGD0_-"
      },
      "source": [
        "### Criando dicionários com *zip()*"
      ]
    },
    {
      "cell_type": "code",
      "execution_count": null,
      "metadata": {
        "id": "iB4Q_gbND0__"
      },
      "outputs": [],
      "source": [
        "list(zip(carros, valores))"
      ]
    },
    {
      "cell_type": "code",
      "execution_count": null,
      "metadata": {
        "id": "mIgZqdKKD1AA"
      },
      "outputs": [],
      "source": [
        "dados = dict(zip(carros, valores))\n",
        "dados"
      ]
    },
    {
      "cell_type": "markdown",
      "metadata": {
        "id": "KYeRqavFD1AD"
      },
      "source": [
        "# 3.2 Operações com dicionários"
      ]
    },
    {
      "cell_type": "markdown",
      "metadata": {
        "id": "KzmWbEltD1AD"
      },
      "source": [
        "## *dict[ key ]*\n",
        "\n",
        "Retorna o valor correspondente à chave (*key*) no dicionário."
      ]
    },
    {
      "cell_type": "code",
      "execution_count": null,
      "metadata": {
        "id": "hFFDz6wKD1AD"
      },
      "outputs": [],
      "source": [
        "dados['Passat']"
      ]
    },
    {
      "cell_type": "markdown",
      "metadata": {
        "id": "SWlE6VTBD1AE"
      },
      "source": [
        "## *key in dict*\n",
        "\n",
        "Retorna **True** se a chave (*key*) for encontrada no dicionário."
      ]
    },
    {
      "cell_type": "code",
      "execution_count": null,
      "metadata": {
        "id": "Iy88SxBtD1AE"
      },
      "outputs": [],
      "source": [
        "'Passat' in dados"
      ]
    },
    {
      "cell_type": "code",
      "execution_count": null,
      "metadata": {
        "id": "Oma56NkAD1AF"
      },
      "outputs": [],
      "source": [
        "'Fusca' in dados"
      ]
    },
    {
      "cell_type": "code",
      "execution_count": null,
      "metadata": {
        "id": "yS2U-_8gD1AG"
      },
      "outputs": [],
      "source": [
        "'Fusca' not in dados"
      ]
    },
    {
      "cell_type": "markdown",
      "metadata": {
        "id": "oWbWyDd0D1AI"
      },
      "source": [
        "## *len(dict)*\n",
        "\n",
        "Retorna o número de itens do dicionário."
      ]
    },
    {
      "cell_type": "code",
      "execution_count": null,
      "metadata": {
        "id": "k08YkCc1D1AJ"
      },
      "outputs": [],
      "source": [
        "len(dados)"
      ]
    },
    {
      "cell_type": "markdown",
      "metadata": {
        "id": "yYNqIHJBD1AK"
      },
      "source": [
        "## *dict[ key ] = value*\n",
        "\n",
        "Inclui um item ao dicionário."
      ]
    },
    {
      "cell_type": "code",
      "execution_count": null,
      "metadata": {
        "id": "5jj3i52bD1AK"
      },
      "outputs": [],
      "source": [
        "dados['DS5'] = 124549.07"
      ]
    },
    {
      "cell_type": "code",
      "execution_count": null,
      "metadata": {
        "id": "y6rso5hLD1AL"
      },
      "outputs": [],
      "source": [
        "dados"
      ]
    },
    {
      "cell_type": "markdown",
      "metadata": {
        "id": "_z0JySuqD1AL"
      },
      "source": [
        "## *del dict[ key ]*\n",
        "\n",
        "Remove o item de chave (*key*) do dicionário."
      ]
    },
    {
      "cell_type": "code",
      "execution_count": null,
      "metadata": {
        "id": "PPfh6sfID1AM"
      },
      "outputs": [],
      "source": [
        "dados"
      ]
    },
    {
      "cell_type": "code",
      "execution_count": null,
      "metadata": {
        "id": "BtjGpXtGD1AN"
      },
      "outputs": [],
      "source": [
        "del dados['Passat']\n",
        "dados"
      ]
    },
    {
      "cell_type": "markdown",
      "metadata": {
        "id": "FodJVx5sD1AP"
      },
      "source": [
        "# 3.3 Métodos de dicionários"
      ]
    },
    {
      "cell_type": "markdown",
      "metadata": {
        "id": "7pqdPOkYD1AP"
      },
      "source": [
        "## *dict.update()*\n",
        "\n",
        "Atualiza o dicionário."
      ]
    },
    {
      "cell_type": "code",
      "execution_count": null,
      "metadata": {
        "id": "DUySYxKQD1AQ"
      },
      "outputs": [],
      "source": [
        "dados"
      ]
    },
    {
      "cell_type": "code",
      "execution_count": null,
      "metadata": {
        "id": "DLsqp71cD1AR"
      },
      "outputs": [],
      "source": [
        "dados.update({'Passat': 106161.94})\n",
        "dados"
      ]
    },
    {
      "cell_type": "code",
      "execution_count": null,
      "metadata": {
        "id": "dVDiduOnToBh"
      },
      "outputs": [],
      "source": [
        "dados.update({'Passat': 106161.95, 'Fusca': 150000})\n",
        "dados"
      ]
    },
    {
      "cell_type": "markdown",
      "metadata": {
        "id": "JLs5c0DeD1AR"
      },
      "source": [
        "## *dict.copy()*\n",
        "\n",
        "Cria uma cópia do dicionário."
      ]
    },
    {
      "cell_type": "code",
      "execution_count": null,
      "metadata": {
        "id": "X9F7OB3eD1AS"
      },
      "outputs": [],
      "source": [
        "dadosCopy = dados.copy()"
      ]
    },
    {
      "cell_type": "code",
      "execution_count": null,
      "metadata": {
        "id": "v0rL0bveD1AS"
      },
      "outputs": [],
      "source": [
        "dadosCopy"
      ]
    },
    {
      "cell_type": "code",
      "execution_count": null,
      "metadata": {
        "id": "M-abRGGrD1AT"
      },
      "outputs": [],
      "source": [
        "del dadosCopy['Fusca']\n",
        "dadosCopy"
      ]
    },
    {
      "cell_type": "code",
      "execution_count": null,
      "metadata": {
        "id": "ETBD0TkND1AU"
      },
      "outputs": [],
      "source": [
        "dados"
      ]
    },
    {
      "cell_type": "markdown",
      "metadata": {
        "id": "mNODkmHCD1AV"
      },
      "source": [
        "## *dict.pop(key[, default ])*\n",
        "\n",
        "Se a chave for encontrada no dicionário, o item é removido e seu valor é retornado. Caso contrário, o valor especificado como *default* é retornado. Se o valor *default* não for fornecido e a chave não for encontrada no dicionário um erro será gerado."
      ]
    },
    {
      "cell_type": "code",
      "execution_count": null,
      "metadata": {
        "id": "_4QEPwScD1AW"
      },
      "outputs": [],
      "source": [
        "dadosCopy"
      ]
    },
    {
      "cell_type": "code",
      "execution_count": null,
      "metadata": {
        "id": "Hjh0MuymD1AX"
      },
      "outputs": [],
      "source": [
        "dadosCopy.pop('Passat')"
      ]
    },
    {
      "cell_type": "code",
      "execution_count": null,
      "metadata": {
        "id": "f51rKjkuD1AX"
      },
      "outputs": [],
      "source": [
        "dadosCopy"
      ]
    },
    {
      "cell_type": "code",
      "execution_count": null,
      "metadata": {
        "id": "Ah4sZ7axD1AZ"
      },
      "outputs": [],
      "source": [
        "#dadosCopy.pop('Passat')"
      ]
    },
    {
      "cell_type": "code",
      "execution_count": null,
      "metadata": {
        "id": "SJATRY8RD1Aa"
      },
      "outputs": [],
      "source": [
        "dadosCopy.pop('Passat', 'Chave não encontrada')"
      ]
    },
    {
      "cell_type": "code",
      "execution_count": null,
      "metadata": {
        "id": "V36wHdzmD1Ab"
      },
      "outputs": [],
      "source": [
        "dadosCopy.pop('DS5', 'Chave não encontrada')"
      ]
    },
    {
      "cell_type": "code",
      "execution_count": null,
      "metadata": {
        "id": "LJ0lQIrdD1Ac"
      },
      "outputs": [],
      "source": [
        "dadosCopy"
      ]
    },
    {
      "cell_type": "markdown",
      "metadata": {
        "id": "Q5J0R7d3D1Ag"
      },
      "source": [
        "## *dict.clear()*\n",
        "\n",
        "Remove todos os itens do dicionário."
      ]
    },
    {
      "cell_type": "code",
      "execution_count": null,
      "metadata": {
        "id": "AvkP_8mND1Ag"
      },
      "outputs": [],
      "source": [
        "dadosCopy.clear()"
      ]
    },
    {
      "cell_type": "code",
      "execution_count": null,
      "metadata": {
        "id": "S69pMYboD1Ah"
      },
      "outputs": [],
      "source": [
        "dadosCopy"
      ]
    },
    {
      "cell_type": "markdown",
      "metadata": {
        "id": "QhoSRfPsD1Ai"
      },
      "source": [
        "# 3.4 Iterando em dicionários"
      ]
    },
    {
      "cell_type": "markdown",
      "metadata": {
        "id": "E-agaqakD1Ai"
      },
      "source": [
        "## *dict.keys()*\n",
        "\n",
        "Retorna uma lista contendo as chaves (*keys*) do dicionário."
      ]
    },
    {
      "cell_type": "code",
      "execution_count": null,
      "metadata": {
        "id": "qFADEYmBD1Aj"
      },
      "outputs": [],
      "source": [
        "dados.keys()"
      ]
    },
    {
      "cell_type": "code",
      "execution_count": null,
      "metadata": {
        "id": "niwh9AgDD1Aj"
      },
      "outputs": [],
      "source": [
        "for key in dados.keys():\n",
        "  print(dados[key])"
      ]
    },
    {
      "cell_type": "markdown",
      "metadata": {
        "id": "qFj6Cc7dD1Ak"
      },
      "source": [
        "## *dict.values()*\n",
        "\n",
        "Retorna uma lista com todos os valores (*values*) do dicionário."
      ]
    },
    {
      "cell_type": "code",
      "execution_count": null,
      "metadata": {
        "id": "nfpLxrQVD1Al"
      },
      "outputs": [],
      "source": [
        "dados.values()"
      ]
    },
    {
      "cell_type": "markdown",
      "metadata": {
        "id": "-NGRwX0AD1Al"
      },
      "source": [
        "## *dict.items()*\n",
        "\n",
        "Retorna uma lista contendo uma tupla para cada par chave-valor (*key-value*) do dicionário."
      ]
    },
    {
      "cell_type": "code",
      "execution_count": null,
      "metadata": {
        "id": "Q2I9_6YvD1Am"
      },
      "outputs": [],
      "source": [
        "dados.items()"
      ]
    },
    {
      "cell_type": "code",
      "execution_count": null,
      "metadata": {
        "id": "0j41ZqgQD1Am"
      },
      "outputs": [],
      "source": [
        "for item in dados.items():\n",
        "  print(item)"
      ]
    },
    {
      "cell_type": "code",
      "execution_count": null,
      "metadata": {
        "id": "OVY9rIwFD1An"
      },
      "outputs": [],
      "source": [
        "for key, value in dados.items():\n",
        "    print(key, value)"
      ]
    },
    {
      "cell_type": "code",
      "execution_count": null,
      "metadata": {
        "id": "ma2Ol8vcD1Ap"
      },
      "outputs": [],
      "source": [
        "for key, value in dados.items():\n",
        "  if(value > 100000):\n",
        "    print(key)"
      ]
    },
    {
      "cell_type": "markdown",
      "metadata": {
        "id": "-q3AlSg3D1Aq"
      },
      "source": [
        "# <font color=green> 4. FUNÇÕES E PACOTES\n",
        "---\n",
        "    \n",
        "Funções são unidades de código reutilizáveis que realizam uma tarefa específica, podem receber alguma entrada e também podem retornar alguma resultado."
      ]
    },
    {
      "cell_type": "markdown",
      "metadata": {
        "id": "5CfEcU58D1Aq"
      },
      "source": [
        "# 4.1 Built-in function\n",
        "\n",
        "A linguagem Python possui várias funções integradas que estão sempre acessíveis. Algumas já utilizamos em nosso treinamento: type(), print(), zip(), len(), set() etc.\n",
        "\n",
        "https://docs.python.org/3.6/library/functions.html"
      ]
    },
    {
      "cell_type": "code",
      "execution_count": null,
      "metadata": {
        "id": "DP7cmY7xD1Aq",
        "outputId": "d24a286e-25ac-43f6-e9ec-053df434cb93"
      },
      "outputs": [
        {
          "data": {
            "text/plain": [
              "{'Jetta Variant': 88078.64, 'Passat': 106161.94, 'Crossfox': 72832.16}"
            ]
          },
          "execution_count": 2,
          "metadata": {},
          "output_type": "execute_result"
        }
      ],
      "source": [
        "dados = {'Jetta Variant': 88078.64, 'Passat': 106161.94, 'Crossfox': 72832.16}\n",
        "dados"
      ]
    },
    {
      "cell_type": "code",
      "execution_count": null,
      "metadata": {
        "id": "5zAcGSCbD1Ar",
        "outputId": "3793b5fd-4fd2-4838-b248-6dd890ebde46"
      },
      "outputs": [
        {
          "data": {
            "text/plain": [
              "[88078.64, 106161.94, 72832.16]"
            ]
          },
          "execution_count": 3,
          "metadata": {},
          "output_type": "execute_result"
        }
      ],
      "source": [
        "valores = []\n",
        "for valor in dados.values():\n",
        "    valores.append(valor)\n",
        "valores"
      ]
    },
    {
      "cell_type": "code",
      "execution_count": null,
      "metadata": {
        "id": "zG9_jU_1D1At",
        "outputId": "e93b36aa-9b9c-4879-9f9d-8f1295bd7b1c"
      },
      "outputs": [
        {
          "data": {
            "text/plain": [
              "267072.74"
            ]
          },
          "execution_count": 4,
          "metadata": {},
          "output_type": "execute_result"
        }
      ],
      "source": [
        "soma = 0\n",
        "for valor in dados.values():\n",
        "    soma += valor\n",
        "soma"
      ]
    },
    {
      "cell_type": "code",
      "execution_count": null,
      "metadata": {
        "id": "jn0O3uXZD1Au",
        "outputId": "cd0f9f8b-4d42-4ba6-90da-e9677583b351"
      },
      "outputs": [
        {
          "data": {
            "text/plain": [
              "[88078.64, 106161.94, 72832.16]"
            ]
          },
          "execution_count": 5,
          "metadata": {},
          "output_type": "execute_result"
        }
      ],
      "source": [
        "list(dados.values())"
      ]
    },
    {
      "cell_type": "code",
      "execution_count": null,
      "metadata": {
        "id": "lnUjKVnoD1Aw",
        "outputId": "02da93d4-06ba-4f16-dd18-070b29b4451f"
      },
      "outputs": [
        {
          "data": {
            "text/plain": [
              "267072.74"
            ]
          },
          "execution_count": 6,
          "metadata": {},
          "output_type": "execute_result"
        }
      ],
      "source": [
        "sum(dados.values())"
      ]
    },
    {
      "cell_type": "code",
      "execution_count": null,
      "metadata": {
        "id": "WdEuYXe2D1Ay",
        "scrolled": false,
        "outputId": "01636462-a1bc-400d-df7f-2f9ab2948f18"
      },
      "outputs": [
        {
          "name": "stdout",
          "output_type": "stream",
          "text": [
            "Help on built-in function print in module builtins:\n",
            "\n",
            "print(...)\n",
            "    print(value, ..., sep=' ', end='\\n', file=sys.stdout, flush=False)\n",
            "    \n",
            "    Prints the values to a stream, or to sys.stdout by default.\n",
            "    Optional keyword arguments:\n",
            "    file:  a file-like object (stream); defaults to the current sys.stdout.\n",
            "    sep:   string inserted between values, default a space.\n",
            "    end:   string appended after the last value, default a newline.\n",
            "    flush: whether to forcibly flush the stream.\n",
            "\n"
          ]
        }
      ],
      "source": [
        "help(print)"
      ]
    },
    {
      "cell_type": "code",
      "execution_count": null,
      "metadata": {
        "id": "hIA29O3tD1Az",
        "outputId": "49944ca9-1203-46aa-d3eb-42739bd02f8a"
      },
      "outputs": [
        {
          "name": "stdout",
          "output_type": "stream",
          "text": [
            "\u001b[1;31mDocstring:\u001b[0m\n",
            "print(value, ..., sep=' ', end='\\n', file=sys.stdout, flush=False)\n",
            "\n",
            "Prints the values to a stream, or to sys.stdout by default.\n",
            "Optional keyword arguments:\n",
            "file:  a file-like object (stream); defaults to the current sys.stdout.\n",
            "sep:   string inserted between values, default a space.\n",
            "end:   string appended after the last value, default a newline.\n",
            "flush: whether to forcibly flush the stream.\n",
            "\u001b[1;31mType:\u001b[0m      builtin_function_or_method\n"
          ]
        }
      ],
      "source": [
        "print?"
      ]
    },
    {
      "cell_type": "markdown",
      "metadata": {
        "id": "6w62Sl5ZD1A0"
      },
      "source": [
        "# 4.2 Definindo funções sem e com parâmetros"
      ]
    },
    {
      "cell_type": "markdown",
      "metadata": {
        "id": "OADZiBP2D1A0"
      },
      "source": [
        "### Funções sem parâmetros\n",
        "\n",
        "#### Formato padrão\n",
        "\n",
        "```\n",
        "def <nome>():\n",
        "    <instruções>\n",
        "```"
      ]
    },
    {
      "cell_type": "code",
      "execution_count": null,
      "metadata": {
        "id": "uCkplEpQD1A0"
      },
      "outputs": [],
      "source": [
        "def media():\n",
        "    valor = (1 + 2 + 3) / 3\n",
        "    print(valor)"
      ]
    },
    {
      "cell_type": "code",
      "execution_count": null,
      "metadata": {
        "id": "fOCEGq5VD1A1",
        "outputId": "874f3d94-2925-4441-83ed-b40e2daa41a2"
      },
      "outputs": [
        {
          "name": "stdout",
          "output_type": "stream",
          "text": [
            "2.0\n"
          ]
        }
      ],
      "source": [
        "media()"
      ]
    },
    {
      "cell_type": "markdown",
      "metadata": {
        "id": "PwSlYSVAD1A2"
      },
      "source": [
        "### Funções com parâmetros\n",
        "\n",
        "#### Formato padrão\n",
        "\n",
        "```\n",
        "def <nome>(<param_1>, <param_2>, ..., <param_n>):\n",
        "    <instruções>\n",
        "```"
      ]
    },
    {
      "cell_type": "code",
      "execution_count": null,
      "metadata": {
        "id": "A3YnBUduD1A3"
      },
      "outputs": [],
      "source": [
        "def media(number_1, number_2, number_3):\n",
        "    valor = (number_1 + number_2 + number_3) / 3\n",
        "    print(valor)"
      ]
    },
    {
      "cell_type": "code",
      "execution_count": null,
      "metadata": {
        "id": "rGUZbRERD1A3",
        "outputId": "1f356181-5ddd-4381-bc96-e281b7766784"
      },
      "outputs": [
        {
          "name": "stdout",
          "output_type": "stream",
          "text": [
            "2.0\n"
          ]
        }
      ],
      "source": [
        "media(1, 2, 3)"
      ]
    },
    {
      "cell_type": "code",
      "execution_count": null,
      "metadata": {
        "id": "B9WDlRE7D1A5",
        "outputId": "4320ebd8-0029-48f8-9481-f2033a63a526"
      },
      "outputs": [
        {
          "name": "stdout",
          "output_type": "stream",
          "text": [
            "45.0\n"
          ]
        }
      ],
      "source": [
        "media(23, 45, 67)"
      ]
    },
    {
      "cell_type": "code",
      "execution_count": null,
      "metadata": {
        "id": "1HAy8OK_D1A6"
      },
      "outputs": [],
      "source": [
        "def media(lista):\n",
        "    valor = sum(lista) / len(lista)\n",
        "    print(valor)"
      ]
    },
    {
      "cell_type": "code",
      "execution_count": null,
      "metadata": {
        "id": "_CDa4oOfD1A6",
        "outputId": "5952f1f9-1d8c-4247-e09b-f8fd62153765"
      },
      "outputs": [
        {
          "name": "stdout",
          "output_type": "stream",
          "text": [
            "5.0\n"
          ]
        }
      ],
      "source": [
        "resultado = media([1,2,3,4,5,6,7,8,9])"
      ]
    },
    {
      "cell_type": "code",
      "execution_count": null,
      "metadata": {
        "id": "xH-mxqYAD1A8"
      },
      "outputs": [],
      "source": [
        "resultado"
      ]
    },
    {
      "cell_type": "code",
      "execution_count": null,
      "metadata": {
        "id": "WXXC_UidD1A8",
        "outputId": "825522d4-6269-4bf1-abc0-92eff8b01452"
      },
      "outputs": [
        {
          "data": {
            "text/plain": [
              "NoneType"
            ]
          },
          "execution_count": 22,
          "metadata": {},
          "output_type": "execute_result"
        }
      ],
      "source": [
        "type(resultado)"
      ]
    },
    {
      "cell_type": "markdown",
      "metadata": {
        "id": "8zNYrmFbD1A9"
      },
      "source": [
        "# 4.3 Definindo funções que retornam valores"
      ]
    },
    {
      "cell_type": "markdown",
      "metadata": {
        "id": "J44K-dMOD1A9"
      },
      "source": [
        "### Funções que retornam um valor\n",
        "\n",
        "#### Formato padrão\n",
        "\n",
        "```\n",
        "def <nome>(<param_1>, <param_2>, ..., <param_n>):\n",
        "    <instruções>\n",
        "    return <resultado>\n",
        "```"
      ]
    },
    {
      "cell_type": "code",
      "execution_count": null,
      "metadata": {
        "id": "-UG42RQJD1A9"
      },
      "outputs": [],
      "source": [
        "def media(lista):\n",
        "    valor = sum(lista) / len(lista)\n",
        "    return valor"
      ]
    },
    {
      "cell_type": "code",
      "execution_count": null,
      "metadata": {
        "id": "AgAeJkpND1A-",
        "outputId": "46b35696-8bab-4191-a989-d6bc28d7c30d"
      },
      "outputs": [
        {
          "data": {
            "text/plain": [
              "4.5"
            ]
          },
          "execution_count": 34,
          "metadata": {},
          "output_type": "execute_result"
        }
      ],
      "source": [
        "media([1,2,3,4,5,6,7,8])"
      ]
    },
    {
      "cell_type": "code",
      "execution_count": null,
      "metadata": {
        "id": "CAX9GA9jhv79"
      },
      "outputs": [],
      "source": [
        "resultado = media([1,2,3,4,5,6,7,8])"
      ]
    },
    {
      "cell_type": "code",
      "execution_count": null,
      "metadata": {
        "id": "_r616TevD1A_",
        "outputId": "a8394c01-9281-45e4-e191-5d62fa823abd"
      },
      "outputs": [
        {
          "data": {
            "text/plain": [
              "4.5"
            ]
          },
          "execution_count": 36,
          "metadata": {},
          "output_type": "execute_result"
        }
      ],
      "source": [
        "resultado"
      ]
    },
    {
      "cell_type": "markdown",
      "metadata": {
        "id": "MQaK8GV5D1BA"
      },
      "source": [
        "### Funções que retornam mais de um valor\n",
        "\n",
        "#### Formato padrão\n",
        "\n",
        "```\n",
        "def <nome>(<param_1>, <param_2>, ..., <param_n>):\n",
        "    <instruções>\n",
        "    return (<resultado_1>, <resultado_2>, ..., <resultado_n>)\n",
        "```"
      ]
    },
    {
      "cell_type": "code",
      "execution_count": null,
      "metadata": {
        "id": "v0PUMegVD1BA"
      },
      "outputs": [],
      "source": [
        "def media(lista):\n",
        "    valor = sum(lista) / len(lista)\n",
        "    return (valor, len(lista))"
      ]
    },
    {
      "cell_type": "code",
      "execution_count": null,
      "metadata": {
        "id": "LERrvkMHD1BC",
        "outputId": "e1accc83-a24b-48b9-e070-3453bb85f545"
      },
      "outputs": [
        {
          "data": {
            "text/plain": [
              "(5.0, 9)"
            ]
          },
          "execution_count": 38,
          "metadata": {},
          "output_type": "execute_result"
        }
      ],
      "source": [
        "media([1,2,3,4,5,6,7,8,9])"
      ]
    },
    {
      "cell_type": "code",
      "execution_count": null,
      "metadata": {
        "id": "sqoFOWSsD1BC"
      },
      "outputs": [],
      "source": [
        "resultado, n = media([1,2,3,4,5,6,7,8,9])"
      ]
    },
    {
      "cell_type": "code",
      "execution_count": null,
      "metadata": {
        "id": "NdB_Jyw_D1BD",
        "outputId": "30261000-4fdc-458a-8c81-cedb94393259"
      },
      "outputs": [
        {
          "data": {
            "text/plain": [
              "5.0"
            ]
          },
          "execution_count": 40,
          "metadata": {},
          "output_type": "execute_result"
        }
      ],
      "source": [
        "resultado"
      ]
    },
    {
      "cell_type": "code",
      "execution_count": null,
      "metadata": {
        "id": "L9vUQX3dhv7-",
        "outputId": "eb818501-ebb4-4483-c134-0233ea0b9656"
      },
      "outputs": [
        {
          "data": {
            "text/plain": [
              "9"
            ]
          },
          "execution_count": 41,
          "metadata": {},
          "output_type": "execute_result"
        }
      ],
      "source": [
        "n"
      ]
    },
    {
      "cell_type": "markdown",
      "metadata": {
        "id": "uQ5lNnKrD1BD"
      },
      "source": [
        "# <font color=green> 5. PANDAS BÁSICO\n",
        "---\n",
        "\n",
        "**versão: 0.25.2**\n",
        "  \n",
        "Pandas é uma ferramenta de manipulação de dados de alto nível, construída com base no pacote Numpy. O pacote pandas possui estruturas de dados bastante interessantes para manipulação de dados e por isso é muito utilizado por cientistas de dados.\n",
        "\n",
        "\n",
        "## Estruturas de Dados\n",
        "\n",
        "### Series\n",
        "\n",
        "Series são arrays unidimensionais rotulados capazes de armazenar qualquer tipo de dado. Os rótulos das linhas são chamados de **index**. A forma básica de criação de uma Series é a seguinte:\n",
        "\n",
        "\n",
        "```\n",
        "    s = pd.Series(dados, index = index)\n",
        "```\n",
        "\n",
        "O argumento *dados* pode ser um dicionário, uma lista, um array Numpy ou uma constante.\n",
        "\n",
        "### DataFrames\n",
        "\n",
        "DataFrame é uma estrutura de dados tabular bidimensional com rótulos nas linha e colunas. Como a Series, os DataFrames são capazes de armazenar qualquer tipo de dados.\n",
        "\n",
        "\n",
        "```\n",
        "    df = pd.DataFrame(dados, index = index, columns = columns)\n",
        "```\n",
        "\n",
        "O argumento *dados* pode ser um dicionário, uma lista, um array Numpy, uma Series e outro DataFrame.\n",
        "\n",
        "**Documentação:** https://pandas.pydata.org/pandas-docs/version/0.25/"
      ]
    },
    {
      "cell_type": "markdown",
      "metadata": {
        "id": "2qa7RC03D1BD"
      },
      "source": [
        "# 5.1 Estruturas de dados"
      ]
    },
    {
      "cell_type": "code",
      "execution_count": 1,
      "metadata": {
        "id": "4QyFDeS4D1BD"
      },
      "outputs": [],
      "source": [
        "import pandas as pd"
      ]
    },
    {
      "cell_type": "markdown",
      "metadata": {
        "id": "kIey8_OcD1BF"
      },
      "source": [
        "### Criando uma Series a partir de uma lista"
      ]
    },
    {
      "cell_type": "code",
      "execution_count": 3,
      "metadata": {
        "id": "yEZR6DWiD1BF",
        "outputId": "0da14967-3f32-4ac4-e3e4-93866ce31d61",
        "colab": {
          "base_uri": "https://localhost:8080/"
        }
      },
      "outputs": [
        {
          "output_type": "execute_result",
          "data": {
            "text/plain": [
              "['Jetta Variant', 'Passat', 'Crossfox']"
            ]
          },
          "metadata": {},
          "execution_count": 3
        }
      ],
      "source": [
        "carros = ['Jetta Variant', 'Passat', 'Crossfox']\n",
        "carros"
      ]
    },
    {
      "cell_type": "code",
      "execution_count": 4,
      "metadata": {
        "id": "rLudWKZ_D1BF",
        "outputId": "52678e9d-5fac-401c-a8d0-2c3ae200d8ff",
        "colab": {
          "base_uri": "https://localhost:8080/"
        }
      },
      "outputs": [
        {
          "output_type": "execute_result",
          "data": {
            "text/plain": [
              "0    Jetta Variant\n",
              "1           Passat\n",
              "2         Crossfox\n",
              "dtype: object"
            ]
          },
          "metadata": {},
          "execution_count": 4
        }
      ],
      "source": [
        "pd.Series(carros)"
      ]
    },
    {
      "cell_type": "markdown",
      "metadata": {
        "id": "VYVIKd1-D1BG"
      },
      "source": [
        "### Criando um DataFrame a partir de uma lista de dicionários"
      ]
    },
    {
      "cell_type": "code",
      "execution_count": 5,
      "metadata": {
        "id": "QFNS9PckD1BG"
      },
      "outputs": [],
      "source": [
        "dados = [\n",
        "    {'Nome': 'Jetta Variant', 'Motor': 'Motor 4.0 Turbo', 'Ano': 2003, 'Quilometragem': 44410.0, 'Zero_km': False, 'Valor': 88078.64},\n",
        "    {'Nome': 'Passat', 'Motor': 'Motor Diesel', 'Ano': 1991, 'Quilometragem': 5712.0, 'Zero_km': False, 'Valor': 106161.94},\n",
        "    {'Nome': 'Crossfox', 'Motor': 'Motor Diesel V8', 'Ano': 1990, 'Quilometragem': 37123.0, 'Zero_km': False, 'Valor': 72832.16}\n",
        "]"
      ]
    },
    {
      "cell_type": "code",
      "execution_count": 6,
      "metadata": {
        "id": "WDQb9AnKD1BH"
      },
      "outputs": [],
      "source": [
        "dataset = pd.DataFrame(dados)"
      ]
    },
    {
      "cell_type": "code",
      "execution_count": 7,
      "metadata": {
        "id": "-2-jGvmGD1BI",
        "outputId": "4d821a73-475c-48fd-c356-fa7970706687",
        "colab": {
          "base_uri": "https://localhost:8080/",
          "height": 143
        }
      },
      "outputs": [
        {
          "output_type": "execute_result",
          "data": {
            "text/plain": [
              "            Nome            Motor   Ano  Quilometragem  Zero_km      Valor\n",
              "0  Jetta Variant  Motor 4.0 Turbo  2003        44410.0    False   88078.64\n",
              "1         Passat     Motor Diesel  1991         5712.0    False  106161.94\n",
              "2       Crossfox  Motor Diesel V8  1990        37123.0    False   72832.16"
            ],
            "text/html": [
              "\n",
              "  <div id=\"df-5afa2da8-abaf-4cf9-8981-c72561fcbb85\">\n",
              "    <div class=\"colab-df-container\">\n",
              "      <div>\n",
              "<style scoped>\n",
              "    .dataframe tbody tr th:only-of-type {\n",
              "        vertical-align: middle;\n",
              "    }\n",
              "\n",
              "    .dataframe tbody tr th {\n",
              "        vertical-align: top;\n",
              "    }\n",
              "\n",
              "    .dataframe thead th {\n",
              "        text-align: right;\n",
              "    }\n",
              "</style>\n",
              "<table border=\"1\" class=\"dataframe\">\n",
              "  <thead>\n",
              "    <tr style=\"text-align: right;\">\n",
              "      <th></th>\n",
              "      <th>Nome</th>\n",
              "      <th>Motor</th>\n",
              "      <th>Ano</th>\n",
              "      <th>Quilometragem</th>\n",
              "      <th>Zero_km</th>\n",
              "      <th>Valor</th>\n",
              "    </tr>\n",
              "  </thead>\n",
              "  <tbody>\n",
              "    <tr>\n",
              "      <th>0</th>\n",
              "      <td>Jetta Variant</td>\n",
              "      <td>Motor 4.0 Turbo</td>\n",
              "      <td>2003</td>\n",
              "      <td>44410.0</td>\n",
              "      <td>False</td>\n",
              "      <td>88078.64</td>\n",
              "    </tr>\n",
              "    <tr>\n",
              "      <th>1</th>\n",
              "      <td>Passat</td>\n",
              "      <td>Motor Diesel</td>\n",
              "      <td>1991</td>\n",
              "      <td>5712.0</td>\n",
              "      <td>False</td>\n",
              "      <td>106161.94</td>\n",
              "    </tr>\n",
              "    <tr>\n",
              "      <th>2</th>\n",
              "      <td>Crossfox</td>\n",
              "      <td>Motor Diesel V8</td>\n",
              "      <td>1990</td>\n",
              "      <td>37123.0</td>\n",
              "      <td>False</td>\n",
              "      <td>72832.16</td>\n",
              "    </tr>\n",
              "  </tbody>\n",
              "</table>\n",
              "</div>\n",
              "      <button class=\"colab-df-convert\" onclick=\"convertToInteractive('df-5afa2da8-abaf-4cf9-8981-c72561fcbb85')\"\n",
              "              title=\"Convert this dataframe to an interactive table.\"\n",
              "              style=\"display:none;\">\n",
              "        \n",
              "  <svg xmlns=\"http://www.w3.org/2000/svg\" height=\"24px\"viewBox=\"0 0 24 24\"\n",
              "       width=\"24px\">\n",
              "    <path d=\"M0 0h24v24H0V0z\" fill=\"none\"/>\n",
              "    <path d=\"M18.56 5.44l.94 2.06.94-2.06 2.06-.94-2.06-.94-.94-2.06-.94 2.06-2.06.94zm-11 1L8.5 8.5l.94-2.06 2.06-.94-2.06-.94L8.5 2.5l-.94 2.06-2.06.94zm10 10l.94 2.06.94-2.06 2.06-.94-2.06-.94-.94-2.06-.94 2.06-2.06.94z\"/><path d=\"M17.41 7.96l-1.37-1.37c-.4-.4-.92-.59-1.43-.59-.52 0-1.04.2-1.43.59L10.3 9.45l-7.72 7.72c-.78.78-.78 2.05 0 2.83L4 21.41c.39.39.9.59 1.41.59.51 0 1.02-.2 1.41-.59l7.78-7.78 2.81-2.81c.8-.78.8-2.07 0-2.86zM5.41 20L4 18.59l7.72-7.72 1.47 1.35L5.41 20z\"/>\n",
              "  </svg>\n",
              "      </button>\n",
              "      \n",
              "  <style>\n",
              "    .colab-df-container {\n",
              "      display:flex;\n",
              "      flex-wrap:wrap;\n",
              "      gap: 12px;\n",
              "    }\n",
              "\n",
              "    .colab-df-convert {\n",
              "      background-color: #E8F0FE;\n",
              "      border: none;\n",
              "      border-radius: 50%;\n",
              "      cursor: pointer;\n",
              "      display: none;\n",
              "      fill: #1967D2;\n",
              "      height: 32px;\n",
              "      padding: 0 0 0 0;\n",
              "      width: 32px;\n",
              "    }\n",
              "\n",
              "    .colab-df-convert:hover {\n",
              "      background-color: #E2EBFA;\n",
              "      box-shadow: 0px 1px 2px rgba(60, 64, 67, 0.3), 0px 1px 3px 1px rgba(60, 64, 67, 0.15);\n",
              "      fill: #174EA6;\n",
              "    }\n",
              "\n",
              "    [theme=dark] .colab-df-convert {\n",
              "      background-color: #3B4455;\n",
              "      fill: #D2E3FC;\n",
              "    }\n",
              "\n",
              "    [theme=dark] .colab-df-convert:hover {\n",
              "      background-color: #434B5C;\n",
              "      box-shadow: 0px 1px 3px 1px rgba(0, 0, 0, 0.15);\n",
              "      filter: drop-shadow(0px 1px 2px rgba(0, 0, 0, 0.3));\n",
              "      fill: #FFFFFF;\n",
              "    }\n",
              "  </style>\n",
              "\n",
              "      <script>\n",
              "        const buttonEl =\n",
              "          document.querySelector('#df-5afa2da8-abaf-4cf9-8981-c72561fcbb85 button.colab-df-convert');\n",
              "        buttonEl.style.display =\n",
              "          google.colab.kernel.accessAllowed ? 'block' : 'none';\n",
              "\n",
              "        async function convertToInteractive(key) {\n",
              "          const element = document.querySelector('#df-5afa2da8-abaf-4cf9-8981-c72561fcbb85');\n",
              "          const dataTable =\n",
              "            await google.colab.kernel.invokeFunction('convertToInteractive',\n",
              "                                                     [key], {});\n",
              "          if (!dataTable) return;\n",
              "\n",
              "          const docLinkHtml = 'Like what you see? Visit the ' +\n",
              "            '<a target=\"_blank\" href=https://colab.research.google.com/notebooks/data_table.ipynb>data table notebook</a>'\n",
              "            + ' to learn more about interactive tables.';\n",
              "          element.innerHTML = '';\n",
              "          dataTable['output_type'] = 'display_data';\n",
              "          await google.colab.output.renderOutput(dataTable, element);\n",
              "          const docLink = document.createElement('div');\n",
              "          docLink.innerHTML = docLinkHtml;\n",
              "          element.appendChild(docLink);\n",
              "        }\n",
              "      </script>\n",
              "    </div>\n",
              "  </div>\n",
              "  "
            ]
          },
          "metadata": {},
          "execution_count": 7
        }
      ],
      "source": [
        "dataset"
      ]
    },
    {
      "cell_type": "code",
      "execution_count": 10,
      "metadata": {
        "id": "2kbyOThiD1BJ",
        "outputId": "013b4d25-c8b8-4657-c6b5-0e7a9d8c4f4d",
        "colab": {
          "base_uri": "https://localhost:8080/",
          "height": 143
        }
      },
      "outputs": [
        {
          "output_type": "execute_result",
          "data": {
            "text/plain": [
              "            Nome            Motor   Ano  Quilometragem  Zero_km      Valor\n",
              "0  Jetta Variant  Motor 4.0 Turbo  2003        44410.0    False   88078.64\n",
              "1         Passat     Motor Diesel  1991         5712.0    False  106161.94\n",
              "2       Crossfox  Motor Diesel V8  1990        37123.0    False   72832.16"
            ],
            "text/html": [
              "\n",
              "  <div id=\"df-343ccb33-28e2-41f5-89fd-f0950530dfd5\">\n",
              "    <div class=\"colab-df-container\">\n",
              "      <div>\n",
              "<style scoped>\n",
              "    .dataframe tbody tr th:only-of-type {\n",
              "        vertical-align: middle;\n",
              "    }\n",
              "\n",
              "    .dataframe tbody tr th {\n",
              "        vertical-align: top;\n",
              "    }\n",
              "\n",
              "    .dataframe thead th {\n",
              "        text-align: right;\n",
              "    }\n",
              "</style>\n",
              "<table border=\"1\" class=\"dataframe\">\n",
              "  <thead>\n",
              "    <tr style=\"text-align: right;\">\n",
              "      <th></th>\n",
              "      <th>Nome</th>\n",
              "      <th>Motor</th>\n",
              "      <th>Ano</th>\n",
              "      <th>Quilometragem</th>\n",
              "      <th>Zero_km</th>\n",
              "      <th>Valor</th>\n",
              "    </tr>\n",
              "  </thead>\n",
              "  <tbody>\n",
              "    <tr>\n",
              "      <th>0</th>\n",
              "      <td>Jetta Variant</td>\n",
              "      <td>Motor 4.0 Turbo</td>\n",
              "      <td>2003</td>\n",
              "      <td>44410.0</td>\n",
              "      <td>False</td>\n",
              "      <td>88078.64</td>\n",
              "    </tr>\n",
              "    <tr>\n",
              "      <th>1</th>\n",
              "      <td>Passat</td>\n",
              "      <td>Motor Diesel</td>\n",
              "      <td>1991</td>\n",
              "      <td>5712.0</td>\n",
              "      <td>False</td>\n",
              "      <td>106161.94</td>\n",
              "    </tr>\n",
              "    <tr>\n",
              "      <th>2</th>\n",
              "      <td>Crossfox</td>\n",
              "      <td>Motor Diesel V8</td>\n",
              "      <td>1990</td>\n",
              "      <td>37123.0</td>\n",
              "      <td>False</td>\n",
              "      <td>72832.16</td>\n",
              "    </tr>\n",
              "  </tbody>\n",
              "</table>\n",
              "</div>\n",
              "      <button class=\"colab-df-convert\" onclick=\"convertToInteractive('df-343ccb33-28e2-41f5-89fd-f0950530dfd5')\"\n",
              "              title=\"Convert this dataframe to an interactive table.\"\n",
              "              style=\"display:none;\">\n",
              "        \n",
              "  <svg xmlns=\"http://www.w3.org/2000/svg\" height=\"24px\"viewBox=\"0 0 24 24\"\n",
              "       width=\"24px\">\n",
              "    <path d=\"M0 0h24v24H0V0z\" fill=\"none\"/>\n",
              "    <path d=\"M18.56 5.44l.94 2.06.94-2.06 2.06-.94-2.06-.94-.94-2.06-.94 2.06-2.06.94zm-11 1L8.5 8.5l.94-2.06 2.06-.94-2.06-.94L8.5 2.5l-.94 2.06-2.06.94zm10 10l.94 2.06.94-2.06 2.06-.94-2.06-.94-.94-2.06-.94 2.06-2.06.94z\"/><path d=\"M17.41 7.96l-1.37-1.37c-.4-.4-.92-.59-1.43-.59-.52 0-1.04.2-1.43.59L10.3 9.45l-7.72 7.72c-.78.78-.78 2.05 0 2.83L4 21.41c.39.39.9.59 1.41.59.51 0 1.02-.2 1.41-.59l7.78-7.78 2.81-2.81c.8-.78.8-2.07 0-2.86zM5.41 20L4 18.59l7.72-7.72 1.47 1.35L5.41 20z\"/>\n",
              "  </svg>\n",
              "      </button>\n",
              "      \n",
              "  <style>\n",
              "    .colab-df-container {\n",
              "      display:flex;\n",
              "      flex-wrap:wrap;\n",
              "      gap: 12px;\n",
              "    }\n",
              "\n",
              "    .colab-df-convert {\n",
              "      background-color: #E8F0FE;\n",
              "      border: none;\n",
              "      border-radius: 50%;\n",
              "      cursor: pointer;\n",
              "      display: none;\n",
              "      fill: #1967D2;\n",
              "      height: 32px;\n",
              "      padding: 0 0 0 0;\n",
              "      width: 32px;\n",
              "    }\n",
              "\n",
              "    .colab-df-convert:hover {\n",
              "      background-color: #E2EBFA;\n",
              "      box-shadow: 0px 1px 2px rgba(60, 64, 67, 0.3), 0px 1px 3px 1px rgba(60, 64, 67, 0.15);\n",
              "      fill: #174EA6;\n",
              "    }\n",
              "\n",
              "    [theme=dark] .colab-df-convert {\n",
              "      background-color: #3B4455;\n",
              "      fill: #D2E3FC;\n",
              "    }\n",
              "\n",
              "    [theme=dark] .colab-df-convert:hover {\n",
              "      background-color: #434B5C;\n",
              "      box-shadow: 0px 1px 3px 1px rgba(0, 0, 0, 0.15);\n",
              "      filter: drop-shadow(0px 1px 2px rgba(0, 0, 0, 0.3));\n",
              "      fill: #FFFFFF;\n",
              "    }\n",
              "  </style>\n",
              "\n",
              "      <script>\n",
              "        const buttonEl =\n",
              "          document.querySelector('#df-343ccb33-28e2-41f5-89fd-f0950530dfd5 button.colab-df-convert');\n",
              "        buttonEl.style.display =\n",
              "          google.colab.kernel.accessAllowed ? 'block' : 'none';\n",
              "\n",
              "        async function convertToInteractive(key) {\n",
              "          const element = document.querySelector('#df-343ccb33-28e2-41f5-89fd-f0950530dfd5');\n",
              "          const dataTable =\n",
              "            await google.colab.kernel.invokeFunction('convertToInteractive',\n",
              "                                                     [key], {});\n",
              "          if (!dataTable) return;\n",
              "\n",
              "          const docLinkHtml = 'Like what you see? Visit the ' +\n",
              "            '<a target=\"_blank\" href=https://colab.research.google.com/notebooks/data_table.ipynb>data table notebook</a>'\n",
              "            + ' to learn more about interactive tables.';\n",
              "          element.innerHTML = '';\n",
              "          dataTable['output_type'] = 'display_data';\n",
              "          await google.colab.output.renderOutput(dataTable, element);\n",
              "          const docLink = document.createElement('div');\n",
              "          docLink.innerHTML = docLinkHtml;\n",
              "          element.appendChild(docLink);\n",
              "        }\n",
              "      </script>\n",
              "    </div>\n",
              "  </div>\n",
              "  "
            ]
          },
          "metadata": {},
          "execution_count": 10
        }
      ],
      "source": [
        "dataset[['Nome', 'Motor', 'Ano', 'Quilometragem', 'Zero_km', 'Valor']]"
      ]
    },
    {
      "cell_type": "markdown",
      "metadata": {
        "id": "pJK2tQgYD1BK"
      },
      "source": [
        "### Criando um DataFrame a partir de um dicionário"
      ]
    },
    {
      "cell_type": "code",
      "execution_count": 11,
      "metadata": {
        "id": "WKNQwKucD1BK"
      },
      "outputs": [],
      "source": [
        "dados = {\n",
        "    'Nome': ['Jetta Variant', 'Passat', 'Crossfox'], \n",
        "    'Motor': ['Motor 4.0 Turbo', 'Motor Diesel', 'Motor Diesel V8'],\n",
        "    'Ano': [2003, 1991, 1990],\n",
        "    'Quilometragem': [44410.0, 5712.0, 37123.0],\n",
        "    'Zero_km': [False, False, False],\n",
        "    'Valor': [88078.64, 106161.94, 72832.16]\n",
        "}"
      ]
    },
    {
      "cell_type": "code",
      "execution_count": 12,
      "metadata": {
        "id": "lKnuZfzcD1BK"
      },
      "outputs": [],
      "source": [
        "dataset = pd.DataFrame(dados)"
      ]
    },
    {
      "cell_type": "code",
      "execution_count": 13,
      "metadata": {
        "id": "PNqTytC-D1BL",
        "outputId": "c74ece09-aa1d-47ca-b8ef-d0db201f3182",
        "colab": {
          "base_uri": "https://localhost:8080/",
          "height": 143
        }
      },
      "outputs": [
        {
          "output_type": "execute_result",
          "data": {
            "text/plain": [
              "            Nome            Motor   Ano  Quilometragem  Zero_km      Valor\n",
              "0  Jetta Variant  Motor 4.0 Turbo  2003        44410.0    False   88078.64\n",
              "1         Passat     Motor Diesel  1991         5712.0    False  106161.94\n",
              "2       Crossfox  Motor Diesel V8  1990        37123.0    False   72832.16"
            ],
            "text/html": [
              "\n",
              "  <div id=\"df-c1d06ba7-00be-4424-b3ab-ae9a35ea920a\">\n",
              "    <div class=\"colab-df-container\">\n",
              "      <div>\n",
              "<style scoped>\n",
              "    .dataframe tbody tr th:only-of-type {\n",
              "        vertical-align: middle;\n",
              "    }\n",
              "\n",
              "    .dataframe tbody tr th {\n",
              "        vertical-align: top;\n",
              "    }\n",
              "\n",
              "    .dataframe thead th {\n",
              "        text-align: right;\n",
              "    }\n",
              "</style>\n",
              "<table border=\"1\" class=\"dataframe\">\n",
              "  <thead>\n",
              "    <tr style=\"text-align: right;\">\n",
              "      <th></th>\n",
              "      <th>Nome</th>\n",
              "      <th>Motor</th>\n",
              "      <th>Ano</th>\n",
              "      <th>Quilometragem</th>\n",
              "      <th>Zero_km</th>\n",
              "      <th>Valor</th>\n",
              "    </tr>\n",
              "  </thead>\n",
              "  <tbody>\n",
              "    <tr>\n",
              "      <th>0</th>\n",
              "      <td>Jetta Variant</td>\n",
              "      <td>Motor 4.0 Turbo</td>\n",
              "      <td>2003</td>\n",
              "      <td>44410.0</td>\n",
              "      <td>False</td>\n",
              "      <td>88078.64</td>\n",
              "    </tr>\n",
              "    <tr>\n",
              "      <th>1</th>\n",
              "      <td>Passat</td>\n",
              "      <td>Motor Diesel</td>\n",
              "      <td>1991</td>\n",
              "      <td>5712.0</td>\n",
              "      <td>False</td>\n",
              "      <td>106161.94</td>\n",
              "    </tr>\n",
              "    <tr>\n",
              "      <th>2</th>\n",
              "      <td>Crossfox</td>\n",
              "      <td>Motor Diesel V8</td>\n",
              "      <td>1990</td>\n",
              "      <td>37123.0</td>\n",
              "      <td>False</td>\n",
              "      <td>72832.16</td>\n",
              "    </tr>\n",
              "  </tbody>\n",
              "</table>\n",
              "</div>\n",
              "      <button class=\"colab-df-convert\" onclick=\"convertToInteractive('df-c1d06ba7-00be-4424-b3ab-ae9a35ea920a')\"\n",
              "              title=\"Convert this dataframe to an interactive table.\"\n",
              "              style=\"display:none;\">\n",
              "        \n",
              "  <svg xmlns=\"http://www.w3.org/2000/svg\" height=\"24px\"viewBox=\"0 0 24 24\"\n",
              "       width=\"24px\">\n",
              "    <path d=\"M0 0h24v24H0V0z\" fill=\"none\"/>\n",
              "    <path d=\"M18.56 5.44l.94 2.06.94-2.06 2.06-.94-2.06-.94-.94-2.06-.94 2.06-2.06.94zm-11 1L8.5 8.5l.94-2.06 2.06-.94-2.06-.94L8.5 2.5l-.94 2.06-2.06.94zm10 10l.94 2.06.94-2.06 2.06-.94-2.06-.94-.94-2.06-.94 2.06-2.06.94z\"/><path d=\"M17.41 7.96l-1.37-1.37c-.4-.4-.92-.59-1.43-.59-.52 0-1.04.2-1.43.59L10.3 9.45l-7.72 7.72c-.78.78-.78 2.05 0 2.83L4 21.41c.39.39.9.59 1.41.59.51 0 1.02-.2 1.41-.59l7.78-7.78 2.81-2.81c.8-.78.8-2.07 0-2.86zM5.41 20L4 18.59l7.72-7.72 1.47 1.35L5.41 20z\"/>\n",
              "  </svg>\n",
              "      </button>\n",
              "      \n",
              "  <style>\n",
              "    .colab-df-container {\n",
              "      display:flex;\n",
              "      flex-wrap:wrap;\n",
              "      gap: 12px;\n",
              "    }\n",
              "\n",
              "    .colab-df-convert {\n",
              "      background-color: #E8F0FE;\n",
              "      border: none;\n",
              "      border-radius: 50%;\n",
              "      cursor: pointer;\n",
              "      display: none;\n",
              "      fill: #1967D2;\n",
              "      height: 32px;\n",
              "      padding: 0 0 0 0;\n",
              "      width: 32px;\n",
              "    }\n",
              "\n",
              "    .colab-df-convert:hover {\n",
              "      background-color: #E2EBFA;\n",
              "      box-shadow: 0px 1px 2px rgba(60, 64, 67, 0.3), 0px 1px 3px 1px rgba(60, 64, 67, 0.15);\n",
              "      fill: #174EA6;\n",
              "    }\n",
              "\n",
              "    [theme=dark] .colab-df-convert {\n",
              "      background-color: #3B4455;\n",
              "      fill: #D2E3FC;\n",
              "    }\n",
              "\n",
              "    [theme=dark] .colab-df-convert:hover {\n",
              "      background-color: #434B5C;\n",
              "      box-shadow: 0px 1px 3px 1px rgba(0, 0, 0, 0.15);\n",
              "      filter: drop-shadow(0px 1px 2px rgba(0, 0, 0, 0.3));\n",
              "      fill: #FFFFFF;\n",
              "    }\n",
              "  </style>\n",
              "\n",
              "      <script>\n",
              "        const buttonEl =\n",
              "          document.querySelector('#df-c1d06ba7-00be-4424-b3ab-ae9a35ea920a button.colab-df-convert');\n",
              "        buttonEl.style.display =\n",
              "          google.colab.kernel.accessAllowed ? 'block' : 'none';\n",
              "\n",
              "        async function convertToInteractive(key) {\n",
              "          const element = document.querySelector('#df-c1d06ba7-00be-4424-b3ab-ae9a35ea920a');\n",
              "          const dataTable =\n",
              "            await google.colab.kernel.invokeFunction('convertToInteractive',\n",
              "                                                     [key], {});\n",
              "          if (!dataTable) return;\n",
              "\n",
              "          const docLinkHtml = 'Like what you see? Visit the ' +\n",
              "            '<a target=\"_blank\" href=https://colab.research.google.com/notebooks/data_table.ipynb>data table notebook</a>'\n",
              "            + ' to learn more about interactive tables.';\n",
              "          element.innerHTML = '';\n",
              "          dataTable['output_type'] = 'display_data';\n",
              "          await google.colab.output.renderOutput(dataTable, element);\n",
              "          const docLink = document.createElement('div');\n",
              "          docLink.innerHTML = docLinkHtml;\n",
              "          element.appendChild(docLink);\n",
              "        }\n",
              "      </script>\n",
              "    </div>\n",
              "  </div>\n",
              "  "
            ]
          },
          "metadata": {},
          "execution_count": 13
        }
      ],
      "source": [
        "dataset"
      ]
    },
    {
      "cell_type": "markdown",
      "metadata": {
        "id": "fCCXs0reD1BL"
      },
      "source": [
        "### Criando um DataFrame a partir de uma arquivo externo"
      ]
    },
    {
      "cell_type": "code",
      "execution_count": 16,
      "metadata": {
        "id": "78PRHGeZD1BL"
      },
      "outputs": [],
      "source": [
        "dataset = pd.read_csv('db.csv', sep = ';', index_col = 0)"
      ]
    },
    {
      "cell_type": "code",
      "execution_count": 17,
      "metadata": {
        "id": "1o1YlnVPD1BM",
        "scrolled": true,
        "outputId": "256c80d1-6eda-47c9-8a95-cf8a17a91fc9",
        "colab": {
          "base_uri": "https://localhost:8080/",
          "height": 455
        }
      },
      "outputs": [
        {
          "output_type": "execute_result",
          "data": {
            "text/plain": [
              "                                       Motor   Ano  Quilometragem  Zero_km  \\\n",
              "Nome                                                                         \n",
              "Jetta Variant                Motor 4.0 Turbo  2003        44410.0    False   \n",
              "Passat                          Motor Diesel  1991         5712.0    False   \n",
              "Crossfox                     Motor Diesel V8  1990        37123.0    False   \n",
              "DS5                          Motor 2.4 Turbo  2019            NaN     True   \n",
              "Aston Martin DB4             Motor 2.4 Turbo  2006        25757.0    False   \n",
              "...                                      ...   ...            ...      ...   \n",
              "Phantom 2013                        Motor V8  2014        27505.0    False   \n",
              "Cadillac Ciel concept               Motor V8  1991        29981.0    False   \n",
              "Classe GLK             Motor 5.0 V8 Bi-Turbo  2002        52637.0    False   \n",
              "Aston Martin DB5                Motor Diesel  1996         7685.0    False   \n",
              "Macan                        Motor Diesel V6  1992        50188.0    False   \n",
              "\n",
              "                                                              Acessórios  \\\n",
              "Nome                                                                       \n",
              "Jetta Variant          ['Rodas de liga', 'Travas elétricas', 'Piloto ...   \n",
              "Passat                 ['Central multimídia', 'Teto panorâmico', 'Fre...   \n",
              "Crossfox               ['Piloto automático', 'Controle de estabilidad...   \n",
              "DS5                    ['Travas elétricas', '4 X 4', 'Vidros elétrico...   \n",
              "Aston Martin DB4       ['Rodas de liga', '4 X 4', 'Central multimídia...   \n",
              "...                                                                  ...   \n",
              "Phantom 2013           ['Controle de estabilidade', 'Piloto automátic...   \n",
              "Cadillac Ciel concept  ['Bancos de couro', 'Painel digital', 'Sensor ...   \n",
              "Classe GLK             ['Rodas de liga', 'Controle de tração', 'Câmbi...   \n",
              "Aston Martin DB5       ['Ar condicionado', '4 X 4', 'Câmbio automátic...   \n",
              "Macan                  ['Central multimídia', 'Teto panorâmico', 'Vid...   \n",
              "\n",
              "                           Valor  \n",
              "Nome                              \n",
              "Jetta Variant           88078.64  \n",
              "Passat                 106161.94  \n",
              "Crossfox                72832.16  \n",
              "DS5                    124549.07  \n",
              "Aston Martin DB4        92612.10  \n",
              "...                          ...  \n",
              "Phantom 2013            51759.58  \n",
              "Cadillac Ciel concept   51667.06  \n",
              "Classe GLK              68934.03  \n",
              "Aston Martin DB5       122110.90  \n",
              "Macan                   90381.47  \n",
              "\n",
              "[258 rows x 6 columns]"
            ],
            "text/html": [
              "\n",
              "  <div id=\"df-2d20bf37-4bd4-4a17-a9bf-a09841fedf75\">\n",
              "    <div class=\"colab-df-container\">\n",
              "      <div>\n",
              "<style scoped>\n",
              "    .dataframe tbody tr th:only-of-type {\n",
              "        vertical-align: middle;\n",
              "    }\n",
              "\n",
              "    .dataframe tbody tr th {\n",
              "        vertical-align: top;\n",
              "    }\n",
              "\n",
              "    .dataframe thead th {\n",
              "        text-align: right;\n",
              "    }\n",
              "</style>\n",
              "<table border=\"1\" class=\"dataframe\">\n",
              "  <thead>\n",
              "    <tr style=\"text-align: right;\">\n",
              "      <th></th>\n",
              "      <th>Motor</th>\n",
              "      <th>Ano</th>\n",
              "      <th>Quilometragem</th>\n",
              "      <th>Zero_km</th>\n",
              "      <th>Acessórios</th>\n",
              "      <th>Valor</th>\n",
              "    </tr>\n",
              "    <tr>\n",
              "      <th>Nome</th>\n",
              "      <th></th>\n",
              "      <th></th>\n",
              "      <th></th>\n",
              "      <th></th>\n",
              "      <th></th>\n",
              "      <th></th>\n",
              "    </tr>\n",
              "  </thead>\n",
              "  <tbody>\n",
              "    <tr>\n",
              "      <th>Jetta Variant</th>\n",
              "      <td>Motor 4.0 Turbo</td>\n",
              "      <td>2003</td>\n",
              "      <td>44410.0</td>\n",
              "      <td>False</td>\n",
              "      <td>['Rodas de liga', 'Travas elétricas', 'Piloto ...</td>\n",
              "      <td>88078.64</td>\n",
              "    </tr>\n",
              "    <tr>\n",
              "      <th>Passat</th>\n",
              "      <td>Motor Diesel</td>\n",
              "      <td>1991</td>\n",
              "      <td>5712.0</td>\n",
              "      <td>False</td>\n",
              "      <td>['Central multimídia', 'Teto panorâmico', 'Fre...</td>\n",
              "      <td>106161.94</td>\n",
              "    </tr>\n",
              "    <tr>\n",
              "      <th>Crossfox</th>\n",
              "      <td>Motor Diesel V8</td>\n",
              "      <td>1990</td>\n",
              "      <td>37123.0</td>\n",
              "      <td>False</td>\n",
              "      <td>['Piloto automático', 'Controle de estabilidad...</td>\n",
              "      <td>72832.16</td>\n",
              "    </tr>\n",
              "    <tr>\n",
              "      <th>DS5</th>\n",
              "      <td>Motor 2.4 Turbo</td>\n",
              "      <td>2019</td>\n",
              "      <td>NaN</td>\n",
              "      <td>True</td>\n",
              "      <td>['Travas elétricas', '4 X 4', 'Vidros elétrico...</td>\n",
              "      <td>124549.07</td>\n",
              "    </tr>\n",
              "    <tr>\n",
              "      <th>Aston Martin DB4</th>\n",
              "      <td>Motor 2.4 Turbo</td>\n",
              "      <td>2006</td>\n",
              "      <td>25757.0</td>\n",
              "      <td>False</td>\n",
              "      <td>['Rodas de liga', '4 X 4', 'Central multimídia...</td>\n",
              "      <td>92612.10</td>\n",
              "    </tr>\n",
              "    <tr>\n",
              "      <th>...</th>\n",
              "      <td>...</td>\n",
              "      <td>...</td>\n",
              "      <td>...</td>\n",
              "      <td>...</td>\n",
              "      <td>...</td>\n",
              "      <td>...</td>\n",
              "    </tr>\n",
              "    <tr>\n",
              "      <th>Phantom 2013</th>\n",
              "      <td>Motor V8</td>\n",
              "      <td>2014</td>\n",
              "      <td>27505.0</td>\n",
              "      <td>False</td>\n",
              "      <td>['Controle de estabilidade', 'Piloto automátic...</td>\n",
              "      <td>51759.58</td>\n",
              "    </tr>\n",
              "    <tr>\n",
              "      <th>Cadillac Ciel concept</th>\n",
              "      <td>Motor V8</td>\n",
              "      <td>1991</td>\n",
              "      <td>29981.0</td>\n",
              "      <td>False</td>\n",
              "      <td>['Bancos de couro', 'Painel digital', 'Sensor ...</td>\n",
              "      <td>51667.06</td>\n",
              "    </tr>\n",
              "    <tr>\n",
              "      <th>Classe GLK</th>\n",
              "      <td>Motor 5.0 V8 Bi-Turbo</td>\n",
              "      <td>2002</td>\n",
              "      <td>52637.0</td>\n",
              "      <td>False</td>\n",
              "      <td>['Rodas de liga', 'Controle de tração', 'Câmbi...</td>\n",
              "      <td>68934.03</td>\n",
              "    </tr>\n",
              "    <tr>\n",
              "      <th>Aston Martin DB5</th>\n",
              "      <td>Motor Diesel</td>\n",
              "      <td>1996</td>\n",
              "      <td>7685.0</td>\n",
              "      <td>False</td>\n",
              "      <td>['Ar condicionado', '4 X 4', 'Câmbio automátic...</td>\n",
              "      <td>122110.90</td>\n",
              "    </tr>\n",
              "    <tr>\n",
              "      <th>Macan</th>\n",
              "      <td>Motor Diesel V6</td>\n",
              "      <td>1992</td>\n",
              "      <td>50188.0</td>\n",
              "      <td>False</td>\n",
              "      <td>['Central multimídia', 'Teto panorâmico', 'Vid...</td>\n",
              "      <td>90381.47</td>\n",
              "    </tr>\n",
              "  </tbody>\n",
              "</table>\n",
              "<p>258 rows × 6 columns</p>\n",
              "</div>\n",
              "      <button class=\"colab-df-convert\" onclick=\"convertToInteractive('df-2d20bf37-4bd4-4a17-a9bf-a09841fedf75')\"\n",
              "              title=\"Convert this dataframe to an interactive table.\"\n",
              "              style=\"display:none;\">\n",
              "        \n",
              "  <svg xmlns=\"http://www.w3.org/2000/svg\" height=\"24px\"viewBox=\"0 0 24 24\"\n",
              "       width=\"24px\">\n",
              "    <path d=\"M0 0h24v24H0V0z\" fill=\"none\"/>\n",
              "    <path d=\"M18.56 5.44l.94 2.06.94-2.06 2.06-.94-2.06-.94-.94-2.06-.94 2.06-2.06.94zm-11 1L8.5 8.5l.94-2.06 2.06-.94-2.06-.94L8.5 2.5l-.94 2.06-2.06.94zm10 10l.94 2.06.94-2.06 2.06-.94-2.06-.94-.94-2.06-.94 2.06-2.06.94z\"/><path d=\"M17.41 7.96l-1.37-1.37c-.4-.4-.92-.59-1.43-.59-.52 0-1.04.2-1.43.59L10.3 9.45l-7.72 7.72c-.78.78-.78 2.05 0 2.83L4 21.41c.39.39.9.59 1.41.59.51 0 1.02-.2 1.41-.59l7.78-7.78 2.81-2.81c.8-.78.8-2.07 0-2.86zM5.41 20L4 18.59l7.72-7.72 1.47 1.35L5.41 20z\"/>\n",
              "  </svg>\n",
              "      </button>\n",
              "      \n",
              "  <style>\n",
              "    .colab-df-container {\n",
              "      display:flex;\n",
              "      flex-wrap:wrap;\n",
              "      gap: 12px;\n",
              "    }\n",
              "\n",
              "    .colab-df-convert {\n",
              "      background-color: #E8F0FE;\n",
              "      border: none;\n",
              "      border-radius: 50%;\n",
              "      cursor: pointer;\n",
              "      display: none;\n",
              "      fill: #1967D2;\n",
              "      height: 32px;\n",
              "      padding: 0 0 0 0;\n",
              "      width: 32px;\n",
              "    }\n",
              "\n",
              "    .colab-df-convert:hover {\n",
              "      background-color: #E2EBFA;\n",
              "      box-shadow: 0px 1px 2px rgba(60, 64, 67, 0.3), 0px 1px 3px 1px rgba(60, 64, 67, 0.15);\n",
              "      fill: #174EA6;\n",
              "    }\n",
              "\n",
              "    [theme=dark] .colab-df-convert {\n",
              "      background-color: #3B4455;\n",
              "      fill: #D2E3FC;\n",
              "    }\n",
              "\n",
              "    [theme=dark] .colab-df-convert:hover {\n",
              "      background-color: #434B5C;\n",
              "      box-shadow: 0px 1px 3px 1px rgba(0, 0, 0, 0.15);\n",
              "      filter: drop-shadow(0px 1px 2px rgba(0, 0, 0, 0.3));\n",
              "      fill: #FFFFFF;\n",
              "    }\n",
              "  </style>\n",
              "\n",
              "      <script>\n",
              "        const buttonEl =\n",
              "          document.querySelector('#df-2d20bf37-4bd4-4a17-a9bf-a09841fedf75 button.colab-df-convert');\n",
              "        buttonEl.style.display =\n",
              "          google.colab.kernel.accessAllowed ? 'block' : 'none';\n",
              "\n",
              "        async function convertToInteractive(key) {\n",
              "          const element = document.querySelector('#df-2d20bf37-4bd4-4a17-a9bf-a09841fedf75');\n",
              "          const dataTable =\n",
              "            await google.colab.kernel.invokeFunction('convertToInteractive',\n",
              "                                                     [key], {});\n",
              "          if (!dataTable) return;\n",
              "\n",
              "          const docLinkHtml = 'Like what you see? Visit the ' +\n",
              "            '<a target=\"_blank\" href=https://colab.research.google.com/notebooks/data_table.ipynb>data table notebook</a>'\n",
              "            + ' to learn more about interactive tables.';\n",
              "          element.innerHTML = '';\n",
              "          dataTable['output_type'] = 'display_data';\n",
              "          await google.colab.output.renderOutput(dataTable, element);\n",
              "          const docLink = document.createElement('div');\n",
              "          docLink.innerHTML = docLinkHtml;\n",
              "          element.appendChild(docLink);\n",
              "        }\n",
              "      </script>\n",
              "    </div>\n",
              "  </div>\n",
              "  "
            ]
          },
          "metadata": {},
          "execution_count": 17
        }
      ],
      "source": [
        "dataset"
      ]
    },
    {
      "cell_type": "markdown",
      "metadata": {
        "id": "y5V-1AK-D1BN"
      },
      "source": [
        "# 5.2 Seleções com DataFrames"
      ]
    },
    {
      "cell_type": "markdown",
      "metadata": {
        "id": "wZjqlHe9D1BN"
      },
      "source": [
        "### Selecionando colunas"
      ]
    },
    {
      "cell_type": "code",
      "execution_count": 18,
      "metadata": {
        "id": "gM3LbtzlD1BN",
        "scrolled": true,
        "outputId": "d662a889-460e-45de-aad7-435703969d63",
        "colab": {
          "base_uri": "https://localhost:8080/",
          "height": 237
        }
      },
      "outputs": [
        {
          "output_type": "execute_result",
          "data": {
            "text/plain": [
              "                            Motor   Ano  Quilometragem  Zero_km  \\\n",
              "Nome                                                              \n",
              "Jetta Variant     Motor 4.0 Turbo  2003        44410.0    False   \n",
              "Passat               Motor Diesel  1991         5712.0    False   \n",
              "Crossfox          Motor Diesel V8  1990        37123.0    False   \n",
              "DS5               Motor 2.4 Turbo  2019            NaN     True   \n",
              "Aston Martin DB4  Motor 2.4 Turbo  2006        25757.0    False   \n",
              "\n",
              "                                                         Acessórios      Valor  \n",
              "Nome                                                                            \n",
              "Jetta Variant     ['Rodas de liga', 'Travas elétricas', 'Piloto ...   88078.64  \n",
              "Passat            ['Central multimídia', 'Teto panorâmico', 'Fre...  106161.94  \n",
              "Crossfox          ['Piloto automático', 'Controle de estabilidad...   72832.16  \n",
              "DS5               ['Travas elétricas', '4 X 4', 'Vidros elétrico...  124549.07  \n",
              "Aston Martin DB4  ['Rodas de liga', '4 X 4', 'Central multimídia...   92612.10  "
            ],
            "text/html": [
              "\n",
              "  <div id=\"df-e0b6d200-7d94-43ec-89ad-7dad354905a3\">\n",
              "    <div class=\"colab-df-container\">\n",
              "      <div>\n",
              "<style scoped>\n",
              "    .dataframe tbody tr th:only-of-type {\n",
              "        vertical-align: middle;\n",
              "    }\n",
              "\n",
              "    .dataframe tbody tr th {\n",
              "        vertical-align: top;\n",
              "    }\n",
              "\n",
              "    .dataframe thead th {\n",
              "        text-align: right;\n",
              "    }\n",
              "</style>\n",
              "<table border=\"1\" class=\"dataframe\">\n",
              "  <thead>\n",
              "    <tr style=\"text-align: right;\">\n",
              "      <th></th>\n",
              "      <th>Motor</th>\n",
              "      <th>Ano</th>\n",
              "      <th>Quilometragem</th>\n",
              "      <th>Zero_km</th>\n",
              "      <th>Acessórios</th>\n",
              "      <th>Valor</th>\n",
              "    </tr>\n",
              "    <tr>\n",
              "      <th>Nome</th>\n",
              "      <th></th>\n",
              "      <th></th>\n",
              "      <th></th>\n",
              "      <th></th>\n",
              "      <th></th>\n",
              "      <th></th>\n",
              "    </tr>\n",
              "  </thead>\n",
              "  <tbody>\n",
              "    <tr>\n",
              "      <th>Jetta Variant</th>\n",
              "      <td>Motor 4.0 Turbo</td>\n",
              "      <td>2003</td>\n",
              "      <td>44410.0</td>\n",
              "      <td>False</td>\n",
              "      <td>['Rodas de liga', 'Travas elétricas', 'Piloto ...</td>\n",
              "      <td>88078.64</td>\n",
              "    </tr>\n",
              "    <tr>\n",
              "      <th>Passat</th>\n",
              "      <td>Motor Diesel</td>\n",
              "      <td>1991</td>\n",
              "      <td>5712.0</td>\n",
              "      <td>False</td>\n",
              "      <td>['Central multimídia', 'Teto panorâmico', 'Fre...</td>\n",
              "      <td>106161.94</td>\n",
              "    </tr>\n",
              "    <tr>\n",
              "      <th>Crossfox</th>\n",
              "      <td>Motor Diesel V8</td>\n",
              "      <td>1990</td>\n",
              "      <td>37123.0</td>\n",
              "      <td>False</td>\n",
              "      <td>['Piloto automático', 'Controle de estabilidad...</td>\n",
              "      <td>72832.16</td>\n",
              "    </tr>\n",
              "    <tr>\n",
              "      <th>DS5</th>\n",
              "      <td>Motor 2.4 Turbo</td>\n",
              "      <td>2019</td>\n",
              "      <td>NaN</td>\n",
              "      <td>True</td>\n",
              "      <td>['Travas elétricas', '4 X 4', 'Vidros elétrico...</td>\n",
              "      <td>124549.07</td>\n",
              "    </tr>\n",
              "    <tr>\n",
              "      <th>Aston Martin DB4</th>\n",
              "      <td>Motor 2.4 Turbo</td>\n",
              "      <td>2006</td>\n",
              "      <td>25757.0</td>\n",
              "      <td>False</td>\n",
              "      <td>['Rodas de liga', '4 X 4', 'Central multimídia...</td>\n",
              "      <td>92612.10</td>\n",
              "    </tr>\n",
              "  </tbody>\n",
              "</table>\n",
              "</div>\n",
              "      <button class=\"colab-df-convert\" onclick=\"convertToInteractive('df-e0b6d200-7d94-43ec-89ad-7dad354905a3')\"\n",
              "              title=\"Convert this dataframe to an interactive table.\"\n",
              "              style=\"display:none;\">\n",
              "        \n",
              "  <svg xmlns=\"http://www.w3.org/2000/svg\" height=\"24px\"viewBox=\"0 0 24 24\"\n",
              "       width=\"24px\">\n",
              "    <path d=\"M0 0h24v24H0V0z\" fill=\"none\"/>\n",
              "    <path d=\"M18.56 5.44l.94 2.06.94-2.06 2.06-.94-2.06-.94-.94-2.06-.94 2.06-2.06.94zm-11 1L8.5 8.5l.94-2.06 2.06-.94-2.06-.94L8.5 2.5l-.94 2.06-2.06.94zm10 10l.94 2.06.94-2.06 2.06-.94-2.06-.94-.94-2.06-.94 2.06-2.06.94z\"/><path d=\"M17.41 7.96l-1.37-1.37c-.4-.4-.92-.59-1.43-.59-.52 0-1.04.2-1.43.59L10.3 9.45l-7.72 7.72c-.78.78-.78 2.05 0 2.83L4 21.41c.39.39.9.59 1.41.59.51 0 1.02-.2 1.41-.59l7.78-7.78 2.81-2.81c.8-.78.8-2.07 0-2.86zM5.41 20L4 18.59l7.72-7.72 1.47 1.35L5.41 20z\"/>\n",
              "  </svg>\n",
              "      </button>\n",
              "      \n",
              "  <style>\n",
              "    .colab-df-container {\n",
              "      display:flex;\n",
              "      flex-wrap:wrap;\n",
              "      gap: 12px;\n",
              "    }\n",
              "\n",
              "    .colab-df-convert {\n",
              "      background-color: #E8F0FE;\n",
              "      border: none;\n",
              "      border-radius: 50%;\n",
              "      cursor: pointer;\n",
              "      display: none;\n",
              "      fill: #1967D2;\n",
              "      height: 32px;\n",
              "      padding: 0 0 0 0;\n",
              "      width: 32px;\n",
              "    }\n",
              "\n",
              "    .colab-df-convert:hover {\n",
              "      background-color: #E2EBFA;\n",
              "      box-shadow: 0px 1px 2px rgba(60, 64, 67, 0.3), 0px 1px 3px 1px rgba(60, 64, 67, 0.15);\n",
              "      fill: #174EA6;\n",
              "    }\n",
              "\n",
              "    [theme=dark] .colab-df-convert {\n",
              "      background-color: #3B4455;\n",
              "      fill: #D2E3FC;\n",
              "    }\n",
              "\n",
              "    [theme=dark] .colab-df-convert:hover {\n",
              "      background-color: #434B5C;\n",
              "      box-shadow: 0px 1px 3px 1px rgba(0, 0, 0, 0.15);\n",
              "      filter: drop-shadow(0px 1px 2px rgba(0, 0, 0, 0.3));\n",
              "      fill: #FFFFFF;\n",
              "    }\n",
              "  </style>\n",
              "\n",
              "      <script>\n",
              "        const buttonEl =\n",
              "          document.querySelector('#df-e0b6d200-7d94-43ec-89ad-7dad354905a3 button.colab-df-convert');\n",
              "        buttonEl.style.display =\n",
              "          google.colab.kernel.accessAllowed ? 'block' : 'none';\n",
              "\n",
              "        async function convertToInteractive(key) {\n",
              "          const element = document.querySelector('#df-e0b6d200-7d94-43ec-89ad-7dad354905a3');\n",
              "          const dataTable =\n",
              "            await google.colab.kernel.invokeFunction('convertToInteractive',\n",
              "                                                     [key], {});\n",
              "          if (!dataTable) return;\n",
              "\n",
              "          const docLinkHtml = 'Like what you see? Visit the ' +\n",
              "            '<a target=\"_blank\" href=https://colab.research.google.com/notebooks/data_table.ipynb>data table notebook</a>'\n",
              "            + ' to learn more about interactive tables.';\n",
              "          element.innerHTML = '';\n",
              "          dataTable['output_type'] = 'display_data';\n",
              "          await google.colab.output.renderOutput(dataTable, element);\n",
              "          const docLink = document.createElement('div');\n",
              "          docLink.innerHTML = docLinkHtml;\n",
              "          element.appendChild(docLink);\n",
              "        }\n",
              "      </script>\n",
              "    </div>\n",
              "  </div>\n",
              "  "
            ]
          },
          "metadata": {},
          "execution_count": 18
        }
      ],
      "source": [
        "dataset.head()"
      ]
    },
    {
      "cell_type": "code",
      "execution_count": 19,
      "metadata": {
        "id": "R2FWgCM_D1BO",
        "outputId": "118ca079-0c56-44a8-ecdb-a7f01ebb012c",
        "colab": {
          "base_uri": "https://localhost:8080/"
        }
      },
      "outputs": [
        {
          "output_type": "execute_result",
          "data": {
            "text/plain": [
              "Nome\n",
              "Jetta Variant             88078.64\n",
              "Passat                   106161.94\n",
              "Crossfox                  72832.16\n",
              "DS5                      124549.07\n",
              "Aston Martin DB4          92612.10\n",
              "                           ...    \n",
              "Phantom 2013              51759.58\n",
              "Cadillac Ciel concept     51667.06\n",
              "Classe GLK                68934.03\n",
              "Aston Martin DB5         122110.90\n",
              "Macan                     90381.47\n",
              "Name: Valor, Length: 258, dtype: float64"
            ]
          },
          "metadata": {},
          "execution_count": 19
        }
      ],
      "source": [
        "dataset['Valor']"
      ]
    },
    {
      "cell_type": "code",
      "execution_count": 20,
      "metadata": {
        "id": "lCCumsxsD1BP",
        "scrolled": true,
        "outputId": "ad594006-5ba0-4f45-88ca-d690b95b9ce7",
        "colab": {
          "base_uri": "https://localhost:8080/"
        }
      },
      "outputs": [
        {
          "output_type": "execute_result",
          "data": {
            "text/plain": [
              "pandas.core.series.Series"
            ]
          },
          "metadata": {},
          "execution_count": 20
        }
      ],
      "source": [
        "type(dataset['Valor'])"
      ]
    },
    {
      "cell_type": "code",
      "execution_count": 21,
      "metadata": {
        "id": "zxlyC3B8D1BP",
        "outputId": "5f8c69b5-70b5-40c2-b308-5b0434eaa4ba",
        "colab": {
          "base_uri": "https://localhost:8080/",
          "height": 455
        }
      },
      "outputs": [
        {
          "output_type": "execute_result",
          "data": {
            "text/plain": [
              "                           Valor\n",
              "Nome                            \n",
              "Jetta Variant           88078.64\n",
              "Passat                 106161.94\n",
              "Crossfox                72832.16\n",
              "DS5                    124549.07\n",
              "Aston Martin DB4        92612.10\n",
              "...                          ...\n",
              "Phantom 2013            51759.58\n",
              "Cadillac Ciel concept   51667.06\n",
              "Classe GLK              68934.03\n",
              "Aston Martin DB5       122110.90\n",
              "Macan                   90381.47\n",
              "\n",
              "[258 rows x 1 columns]"
            ],
            "text/html": [
              "\n",
              "  <div id=\"df-0726a35d-b8c5-427b-b56d-c8553d685bba\">\n",
              "    <div class=\"colab-df-container\">\n",
              "      <div>\n",
              "<style scoped>\n",
              "    .dataframe tbody tr th:only-of-type {\n",
              "        vertical-align: middle;\n",
              "    }\n",
              "\n",
              "    .dataframe tbody tr th {\n",
              "        vertical-align: top;\n",
              "    }\n",
              "\n",
              "    .dataframe thead th {\n",
              "        text-align: right;\n",
              "    }\n",
              "</style>\n",
              "<table border=\"1\" class=\"dataframe\">\n",
              "  <thead>\n",
              "    <tr style=\"text-align: right;\">\n",
              "      <th></th>\n",
              "      <th>Valor</th>\n",
              "    </tr>\n",
              "    <tr>\n",
              "      <th>Nome</th>\n",
              "      <th></th>\n",
              "    </tr>\n",
              "  </thead>\n",
              "  <tbody>\n",
              "    <tr>\n",
              "      <th>Jetta Variant</th>\n",
              "      <td>88078.64</td>\n",
              "    </tr>\n",
              "    <tr>\n",
              "      <th>Passat</th>\n",
              "      <td>106161.94</td>\n",
              "    </tr>\n",
              "    <tr>\n",
              "      <th>Crossfox</th>\n",
              "      <td>72832.16</td>\n",
              "    </tr>\n",
              "    <tr>\n",
              "      <th>DS5</th>\n",
              "      <td>124549.07</td>\n",
              "    </tr>\n",
              "    <tr>\n",
              "      <th>Aston Martin DB4</th>\n",
              "      <td>92612.10</td>\n",
              "    </tr>\n",
              "    <tr>\n",
              "      <th>...</th>\n",
              "      <td>...</td>\n",
              "    </tr>\n",
              "    <tr>\n",
              "      <th>Phantom 2013</th>\n",
              "      <td>51759.58</td>\n",
              "    </tr>\n",
              "    <tr>\n",
              "      <th>Cadillac Ciel concept</th>\n",
              "      <td>51667.06</td>\n",
              "    </tr>\n",
              "    <tr>\n",
              "      <th>Classe GLK</th>\n",
              "      <td>68934.03</td>\n",
              "    </tr>\n",
              "    <tr>\n",
              "      <th>Aston Martin DB5</th>\n",
              "      <td>122110.90</td>\n",
              "    </tr>\n",
              "    <tr>\n",
              "      <th>Macan</th>\n",
              "      <td>90381.47</td>\n",
              "    </tr>\n",
              "  </tbody>\n",
              "</table>\n",
              "<p>258 rows × 1 columns</p>\n",
              "</div>\n",
              "      <button class=\"colab-df-convert\" onclick=\"convertToInteractive('df-0726a35d-b8c5-427b-b56d-c8553d685bba')\"\n",
              "              title=\"Convert this dataframe to an interactive table.\"\n",
              "              style=\"display:none;\">\n",
              "        \n",
              "  <svg xmlns=\"http://www.w3.org/2000/svg\" height=\"24px\"viewBox=\"0 0 24 24\"\n",
              "       width=\"24px\">\n",
              "    <path d=\"M0 0h24v24H0V0z\" fill=\"none\"/>\n",
              "    <path d=\"M18.56 5.44l.94 2.06.94-2.06 2.06-.94-2.06-.94-.94-2.06-.94 2.06-2.06.94zm-11 1L8.5 8.5l.94-2.06 2.06-.94-2.06-.94L8.5 2.5l-.94 2.06-2.06.94zm10 10l.94 2.06.94-2.06 2.06-.94-2.06-.94-.94-2.06-.94 2.06-2.06.94z\"/><path d=\"M17.41 7.96l-1.37-1.37c-.4-.4-.92-.59-1.43-.59-.52 0-1.04.2-1.43.59L10.3 9.45l-7.72 7.72c-.78.78-.78 2.05 0 2.83L4 21.41c.39.39.9.59 1.41.59.51 0 1.02-.2 1.41-.59l7.78-7.78 2.81-2.81c.8-.78.8-2.07 0-2.86zM5.41 20L4 18.59l7.72-7.72 1.47 1.35L5.41 20z\"/>\n",
              "  </svg>\n",
              "      </button>\n",
              "      \n",
              "  <style>\n",
              "    .colab-df-container {\n",
              "      display:flex;\n",
              "      flex-wrap:wrap;\n",
              "      gap: 12px;\n",
              "    }\n",
              "\n",
              "    .colab-df-convert {\n",
              "      background-color: #E8F0FE;\n",
              "      border: none;\n",
              "      border-radius: 50%;\n",
              "      cursor: pointer;\n",
              "      display: none;\n",
              "      fill: #1967D2;\n",
              "      height: 32px;\n",
              "      padding: 0 0 0 0;\n",
              "      width: 32px;\n",
              "    }\n",
              "\n",
              "    .colab-df-convert:hover {\n",
              "      background-color: #E2EBFA;\n",
              "      box-shadow: 0px 1px 2px rgba(60, 64, 67, 0.3), 0px 1px 3px 1px rgba(60, 64, 67, 0.15);\n",
              "      fill: #174EA6;\n",
              "    }\n",
              "\n",
              "    [theme=dark] .colab-df-convert {\n",
              "      background-color: #3B4455;\n",
              "      fill: #D2E3FC;\n",
              "    }\n",
              "\n",
              "    [theme=dark] .colab-df-convert:hover {\n",
              "      background-color: #434B5C;\n",
              "      box-shadow: 0px 1px 3px 1px rgba(0, 0, 0, 0.15);\n",
              "      filter: drop-shadow(0px 1px 2px rgba(0, 0, 0, 0.3));\n",
              "      fill: #FFFFFF;\n",
              "    }\n",
              "  </style>\n",
              "\n",
              "      <script>\n",
              "        const buttonEl =\n",
              "          document.querySelector('#df-0726a35d-b8c5-427b-b56d-c8553d685bba button.colab-df-convert');\n",
              "        buttonEl.style.display =\n",
              "          google.colab.kernel.accessAllowed ? 'block' : 'none';\n",
              "\n",
              "        async function convertToInteractive(key) {\n",
              "          const element = document.querySelector('#df-0726a35d-b8c5-427b-b56d-c8553d685bba');\n",
              "          const dataTable =\n",
              "            await google.colab.kernel.invokeFunction('convertToInteractive',\n",
              "                                                     [key], {});\n",
              "          if (!dataTable) return;\n",
              "\n",
              "          const docLinkHtml = 'Like what you see? Visit the ' +\n",
              "            '<a target=\"_blank\" href=https://colab.research.google.com/notebooks/data_table.ipynb>data table notebook</a>'\n",
              "            + ' to learn more about interactive tables.';\n",
              "          element.innerHTML = '';\n",
              "          dataTable['output_type'] = 'display_data';\n",
              "          await google.colab.output.renderOutput(dataTable, element);\n",
              "          const docLink = document.createElement('div');\n",
              "          docLink.innerHTML = docLinkHtml;\n",
              "          element.appendChild(docLink);\n",
              "        }\n",
              "      </script>\n",
              "    </div>\n",
              "  </div>\n",
              "  "
            ]
          },
          "metadata": {},
          "execution_count": 21
        }
      ],
      "source": [
        "dataset[['Valor']]"
      ]
    },
    {
      "cell_type": "code",
      "source": [
        "type(dataset[['Valor']])"
      ],
      "metadata": {
        "id": "OuJlAg0rkrrz",
        "outputId": "6272c1df-b54d-4a57-9f7b-43868b05a922",
        "colab": {
          "base_uri": "https://localhost:8080/"
        }
      },
      "execution_count": 22,
      "outputs": [
        {
          "output_type": "execute_result",
          "data": {
            "text/plain": [
              "pandas.core.frame.DataFrame"
            ]
          },
          "metadata": {},
          "execution_count": 22
        }
      ]
    },
    {
      "cell_type": "markdown",
      "metadata": {
        "id": "7RPXPm1XD1BQ"
      },
      "source": [
        "### Selecionando linhas - [ i : j ] \n",
        "\n",
        "<font color=red>**Observação:**</font> A indexação tem origem no zero e nos fatiamentos (*slices*) a linha com índice i é **incluída** e a linha com índice j **não é incluída** no resultado."
      ]
    },
    {
      "cell_type": "code",
      "execution_count": 23,
      "metadata": {
        "id": "PdDUwPw3D1BQ",
        "outputId": "9a6f2cc4-2086-4fd8-ffb0-b158cfd372f8",
        "colab": {
          "base_uri": "https://localhost:8080/",
          "height": 175
        }
      },
      "outputs": [
        {
          "output_type": "execute_result",
          "data": {
            "text/plain": [
              "                         Motor   Ano  Quilometragem  Zero_km  \\\n",
              "Nome                                                           \n",
              "Jetta Variant  Motor 4.0 Turbo  2003        44410.0    False   \n",
              "Passat            Motor Diesel  1991         5712.0    False   \n",
              "Crossfox       Motor Diesel V8  1990        37123.0    False   \n",
              "\n",
              "                                                      Acessórios      Valor  \n",
              "Nome                                                                         \n",
              "Jetta Variant  ['Rodas de liga', 'Travas elétricas', 'Piloto ...   88078.64  \n",
              "Passat         ['Central multimídia', 'Teto panorâmico', 'Fre...  106161.94  \n",
              "Crossfox       ['Piloto automático', 'Controle de estabilidad...   72832.16  "
            ],
            "text/html": [
              "\n",
              "  <div id=\"df-907e8f4b-2bd8-47fc-9395-8dd0c048ed83\">\n",
              "    <div class=\"colab-df-container\">\n",
              "      <div>\n",
              "<style scoped>\n",
              "    .dataframe tbody tr th:only-of-type {\n",
              "        vertical-align: middle;\n",
              "    }\n",
              "\n",
              "    .dataframe tbody tr th {\n",
              "        vertical-align: top;\n",
              "    }\n",
              "\n",
              "    .dataframe thead th {\n",
              "        text-align: right;\n",
              "    }\n",
              "</style>\n",
              "<table border=\"1\" class=\"dataframe\">\n",
              "  <thead>\n",
              "    <tr style=\"text-align: right;\">\n",
              "      <th></th>\n",
              "      <th>Motor</th>\n",
              "      <th>Ano</th>\n",
              "      <th>Quilometragem</th>\n",
              "      <th>Zero_km</th>\n",
              "      <th>Acessórios</th>\n",
              "      <th>Valor</th>\n",
              "    </tr>\n",
              "    <tr>\n",
              "      <th>Nome</th>\n",
              "      <th></th>\n",
              "      <th></th>\n",
              "      <th></th>\n",
              "      <th></th>\n",
              "      <th></th>\n",
              "      <th></th>\n",
              "    </tr>\n",
              "  </thead>\n",
              "  <tbody>\n",
              "    <tr>\n",
              "      <th>Jetta Variant</th>\n",
              "      <td>Motor 4.0 Turbo</td>\n",
              "      <td>2003</td>\n",
              "      <td>44410.0</td>\n",
              "      <td>False</td>\n",
              "      <td>['Rodas de liga', 'Travas elétricas', 'Piloto ...</td>\n",
              "      <td>88078.64</td>\n",
              "    </tr>\n",
              "    <tr>\n",
              "      <th>Passat</th>\n",
              "      <td>Motor Diesel</td>\n",
              "      <td>1991</td>\n",
              "      <td>5712.0</td>\n",
              "      <td>False</td>\n",
              "      <td>['Central multimídia', 'Teto panorâmico', 'Fre...</td>\n",
              "      <td>106161.94</td>\n",
              "    </tr>\n",
              "    <tr>\n",
              "      <th>Crossfox</th>\n",
              "      <td>Motor Diesel V8</td>\n",
              "      <td>1990</td>\n",
              "      <td>37123.0</td>\n",
              "      <td>False</td>\n",
              "      <td>['Piloto automático', 'Controle de estabilidad...</td>\n",
              "      <td>72832.16</td>\n",
              "    </tr>\n",
              "  </tbody>\n",
              "</table>\n",
              "</div>\n",
              "      <button class=\"colab-df-convert\" onclick=\"convertToInteractive('df-907e8f4b-2bd8-47fc-9395-8dd0c048ed83')\"\n",
              "              title=\"Convert this dataframe to an interactive table.\"\n",
              "              style=\"display:none;\">\n",
              "        \n",
              "  <svg xmlns=\"http://www.w3.org/2000/svg\" height=\"24px\"viewBox=\"0 0 24 24\"\n",
              "       width=\"24px\">\n",
              "    <path d=\"M0 0h24v24H0V0z\" fill=\"none\"/>\n",
              "    <path d=\"M18.56 5.44l.94 2.06.94-2.06 2.06-.94-2.06-.94-.94-2.06-.94 2.06-2.06.94zm-11 1L8.5 8.5l.94-2.06 2.06-.94-2.06-.94L8.5 2.5l-.94 2.06-2.06.94zm10 10l.94 2.06.94-2.06 2.06-.94-2.06-.94-.94-2.06-.94 2.06-2.06.94z\"/><path d=\"M17.41 7.96l-1.37-1.37c-.4-.4-.92-.59-1.43-.59-.52 0-1.04.2-1.43.59L10.3 9.45l-7.72 7.72c-.78.78-.78 2.05 0 2.83L4 21.41c.39.39.9.59 1.41.59.51 0 1.02-.2 1.41-.59l7.78-7.78 2.81-2.81c.8-.78.8-2.07 0-2.86zM5.41 20L4 18.59l7.72-7.72 1.47 1.35L5.41 20z\"/>\n",
              "  </svg>\n",
              "      </button>\n",
              "      \n",
              "  <style>\n",
              "    .colab-df-container {\n",
              "      display:flex;\n",
              "      flex-wrap:wrap;\n",
              "      gap: 12px;\n",
              "    }\n",
              "\n",
              "    .colab-df-convert {\n",
              "      background-color: #E8F0FE;\n",
              "      border: none;\n",
              "      border-radius: 50%;\n",
              "      cursor: pointer;\n",
              "      display: none;\n",
              "      fill: #1967D2;\n",
              "      height: 32px;\n",
              "      padding: 0 0 0 0;\n",
              "      width: 32px;\n",
              "    }\n",
              "\n",
              "    .colab-df-convert:hover {\n",
              "      background-color: #E2EBFA;\n",
              "      box-shadow: 0px 1px 2px rgba(60, 64, 67, 0.3), 0px 1px 3px 1px rgba(60, 64, 67, 0.15);\n",
              "      fill: #174EA6;\n",
              "    }\n",
              "\n",
              "    [theme=dark] .colab-df-convert {\n",
              "      background-color: #3B4455;\n",
              "      fill: #D2E3FC;\n",
              "    }\n",
              "\n",
              "    [theme=dark] .colab-df-convert:hover {\n",
              "      background-color: #434B5C;\n",
              "      box-shadow: 0px 1px 3px 1px rgba(0, 0, 0, 0.15);\n",
              "      filter: drop-shadow(0px 1px 2px rgba(0, 0, 0, 0.3));\n",
              "      fill: #FFFFFF;\n",
              "    }\n",
              "  </style>\n",
              "\n",
              "      <script>\n",
              "        const buttonEl =\n",
              "          document.querySelector('#df-907e8f4b-2bd8-47fc-9395-8dd0c048ed83 button.colab-df-convert');\n",
              "        buttonEl.style.display =\n",
              "          google.colab.kernel.accessAllowed ? 'block' : 'none';\n",
              "\n",
              "        async function convertToInteractive(key) {\n",
              "          const element = document.querySelector('#df-907e8f4b-2bd8-47fc-9395-8dd0c048ed83');\n",
              "          const dataTable =\n",
              "            await google.colab.kernel.invokeFunction('convertToInteractive',\n",
              "                                                     [key], {});\n",
              "          if (!dataTable) return;\n",
              "\n",
              "          const docLinkHtml = 'Like what you see? Visit the ' +\n",
              "            '<a target=\"_blank\" href=https://colab.research.google.com/notebooks/data_table.ipynb>data table notebook</a>'\n",
              "            + ' to learn more about interactive tables.';\n",
              "          element.innerHTML = '';\n",
              "          dataTable['output_type'] = 'display_data';\n",
              "          await google.colab.output.renderOutput(dataTable, element);\n",
              "          const docLink = document.createElement('div');\n",
              "          docLink.innerHTML = docLinkHtml;\n",
              "          element.appendChild(docLink);\n",
              "        }\n",
              "      </script>\n",
              "    </div>\n",
              "  </div>\n",
              "  "
            ]
          },
          "metadata": {},
          "execution_count": 23
        }
      ],
      "source": [
        "dataset[0:3]"
      ]
    },
    {
      "cell_type": "markdown",
      "metadata": {
        "id": "G3DMSk97D1BR"
      },
      "source": [
        "### Utilizando .loc para seleções\n",
        "\n",
        "<font color=red>**Observação:**</font> Seleciona um grupo de linhas e colunas segundo os rótulos ou uma matriz booleana."
      ]
    },
    {
      "cell_type": "code",
      "execution_count": 24,
      "metadata": {
        "id": "Ftg-hNOoD1BR",
        "outputId": "0268fb07-20c0-47ff-c464-d3df97f4f3fe",
        "colab": {
          "base_uri": "https://localhost:8080/"
        }
      },
      "outputs": [
        {
          "output_type": "execute_result",
          "data": {
            "text/plain": [
              "Motor                                                 Motor Diesel\n",
              "Ano                                                           1991\n",
              "Quilometragem                                               5712.0\n",
              "Zero_km                                                      False\n",
              "Acessórios       ['Central multimídia', 'Teto panorâmico', 'Fre...\n",
              "Valor                                                    106161.94\n",
              "Name: Passat, dtype: object"
            ]
          },
          "metadata": {},
          "execution_count": 24
        }
      ],
      "source": [
        "dataset.loc['Passat']"
      ]
    },
    {
      "cell_type": "code",
      "execution_count": 25,
      "metadata": {
        "id": "xdxkDrHvD1BS",
        "outputId": "510cd371-dc3a-42a8-ec21-2ae0b330743e",
        "colab": {
          "base_uri": "https://localhost:8080/",
          "height": 143
        }
      },
      "outputs": [
        {
          "output_type": "execute_result",
          "data": {
            "text/plain": [
              "                  Motor   Ano  Quilometragem  Zero_km  \\\n",
              "Nome                                                    \n",
              "Passat     Motor Diesel  1991         5712.0    False   \n",
              "DS5     Motor 2.4 Turbo  2019            NaN     True   \n",
              "\n",
              "                                               Acessórios      Valor  \n",
              "Nome                                                                  \n",
              "Passat  ['Central multimídia', 'Teto panorâmico', 'Fre...  106161.94  \n",
              "DS5     ['Travas elétricas', '4 X 4', 'Vidros elétrico...  124549.07  "
            ],
            "text/html": [
              "\n",
              "  <div id=\"df-55564fe4-b4ce-44cd-a198-7fad5b090e0f\">\n",
              "    <div class=\"colab-df-container\">\n",
              "      <div>\n",
              "<style scoped>\n",
              "    .dataframe tbody tr th:only-of-type {\n",
              "        vertical-align: middle;\n",
              "    }\n",
              "\n",
              "    .dataframe tbody tr th {\n",
              "        vertical-align: top;\n",
              "    }\n",
              "\n",
              "    .dataframe thead th {\n",
              "        text-align: right;\n",
              "    }\n",
              "</style>\n",
              "<table border=\"1\" class=\"dataframe\">\n",
              "  <thead>\n",
              "    <tr style=\"text-align: right;\">\n",
              "      <th></th>\n",
              "      <th>Motor</th>\n",
              "      <th>Ano</th>\n",
              "      <th>Quilometragem</th>\n",
              "      <th>Zero_km</th>\n",
              "      <th>Acessórios</th>\n",
              "      <th>Valor</th>\n",
              "    </tr>\n",
              "    <tr>\n",
              "      <th>Nome</th>\n",
              "      <th></th>\n",
              "      <th></th>\n",
              "      <th></th>\n",
              "      <th></th>\n",
              "      <th></th>\n",
              "      <th></th>\n",
              "    </tr>\n",
              "  </thead>\n",
              "  <tbody>\n",
              "    <tr>\n",
              "      <th>Passat</th>\n",
              "      <td>Motor Diesel</td>\n",
              "      <td>1991</td>\n",
              "      <td>5712.0</td>\n",
              "      <td>False</td>\n",
              "      <td>['Central multimídia', 'Teto panorâmico', 'Fre...</td>\n",
              "      <td>106161.94</td>\n",
              "    </tr>\n",
              "    <tr>\n",
              "      <th>DS5</th>\n",
              "      <td>Motor 2.4 Turbo</td>\n",
              "      <td>2019</td>\n",
              "      <td>NaN</td>\n",
              "      <td>True</td>\n",
              "      <td>['Travas elétricas', '4 X 4', 'Vidros elétrico...</td>\n",
              "      <td>124549.07</td>\n",
              "    </tr>\n",
              "  </tbody>\n",
              "</table>\n",
              "</div>\n",
              "      <button class=\"colab-df-convert\" onclick=\"convertToInteractive('df-55564fe4-b4ce-44cd-a198-7fad5b090e0f')\"\n",
              "              title=\"Convert this dataframe to an interactive table.\"\n",
              "              style=\"display:none;\">\n",
              "        \n",
              "  <svg xmlns=\"http://www.w3.org/2000/svg\" height=\"24px\"viewBox=\"0 0 24 24\"\n",
              "       width=\"24px\">\n",
              "    <path d=\"M0 0h24v24H0V0z\" fill=\"none\"/>\n",
              "    <path d=\"M18.56 5.44l.94 2.06.94-2.06 2.06-.94-2.06-.94-.94-2.06-.94 2.06-2.06.94zm-11 1L8.5 8.5l.94-2.06 2.06-.94-2.06-.94L8.5 2.5l-.94 2.06-2.06.94zm10 10l.94 2.06.94-2.06 2.06-.94-2.06-.94-.94-2.06-.94 2.06-2.06.94z\"/><path d=\"M17.41 7.96l-1.37-1.37c-.4-.4-.92-.59-1.43-.59-.52 0-1.04.2-1.43.59L10.3 9.45l-7.72 7.72c-.78.78-.78 2.05 0 2.83L4 21.41c.39.39.9.59 1.41.59.51 0 1.02-.2 1.41-.59l7.78-7.78 2.81-2.81c.8-.78.8-2.07 0-2.86zM5.41 20L4 18.59l7.72-7.72 1.47 1.35L5.41 20z\"/>\n",
              "  </svg>\n",
              "      </button>\n",
              "      \n",
              "  <style>\n",
              "    .colab-df-container {\n",
              "      display:flex;\n",
              "      flex-wrap:wrap;\n",
              "      gap: 12px;\n",
              "    }\n",
              "\n",
              "    .colab-df-convert {\n",
              "      background-color: #E8F0FE;\n",
              "      border: none;\n",
              "      border-radius: 50%;\n",
              "      cursor: pointer;\n",
              "      display: none;\n",
              "      fill: #1967D2;\n",
              "      height: 32px;\n",
              "      padding: 0 0 0 0;\n",
              "      width: 32px;\n",
              "    }\n",
              "\n",
              "    .colab-df-convert:hover {\n",
              "      background-color: #E2EBFA;\n",
              "      box-shadow: 0px 1px 2px rgba(60, 64, 67, 0.3), 0px 1px 3px 1px rgba(60, 64, 67, 0.15);\n",
              "      fill: #174EA6;\n",
              "    }\n",
              "\n",
              "    [theme=dark] .colab-df-convert {\n",
              "      background-color: #3B4455;\n",
              "      fill: #D2E3FC;\n",
              "    }\n",
              "\n",
              "    [theme=dark] .colab-df-convert:hover {\n",
              "      background-color: #434B5C;\n",
              "      box-shadow: 0px 1px 3px 1px rgba(0, 0, 0, 0.15);\n",
              "      filter: drop-shadow(0px 1px 2px rgba(0, 0, 0, 0.3));\n",
              "      fill: #FFFFFF;\n",
              "    }\n",
              "  </style>\n",
              "\n",
              "      <script>\n",
              "        const buttonEl =\n",
              "          document.querySelector('#df-55564fe4-b4ce-44cd-a198-7fad5b090e0f button.colab-df-convert');\n",
              "        buttonEl.style.display =\n",
              "          google.colab.kernel.accessAllowed ? 'block' : 'none';\n",
              "\n",
              "        async function convertToInteractive(key) {\n",
              "          const element = document.querySelector('#df-55564fe4-b4ce-44cd-a198-7fad5b090e0f');\n",
              "          const dataTable =\n",
              "            await google.colab.kernel.invokeFunction('convertToInteractive',\n",
              "                                                     [key], {});\n",
              "          if (!dataTable) return;\n",
              "\n",
              "          const docLinkHtml = 'Like what you see? Visit the ' +\n",
              "            '<a target=\"_blank\" href=https://colab.research.google.com/notebooks/data_table.ipynb>data table notebook</a>'\n",
              "            + ' to learn more about interactive tables.';\n",
              "          element.innerHTML = '';\n",
              "          dataTable['output_type'] = 'display_data';\n",
              "          await google.colab.output.renderOutput(dataTable, element);\n",
              "          const docLink = document.createElement('div');\n",
              "          docLink.innerHTML = docLinkHtml;\n",
              "          element.appendChild(docLink);\n",
              "        }\n",
              "      </script>\n",
              "    </div>\n",
              "  </div>\n",
              "  "
            ]
          },
          "metadata": {},
          "execution_count": 25
        }
      ],
      "source": [
        "dataset.loc[['Passat', 'DS5']]"
      ]
    },
    {
      "cell_type": "code",
      "execution_count": 27,
      "metadata": {
        "id": "pMN3U1KjD1BS",
        "outputId": "26bc58dc-3943-4c6c-ee77-334b5fbcafc3",
        "colab": {
          "base_uri": "https://localhost:8080/",
          "height": 143
        }
      },
      "outputs": [
        {
          "output_type": "execute_result",
          "data": {
            "text/plain": [
              "                  Motor      Valor\n",
              "Nome                              \n",
              "Passat     Motor Diesel  106161.94\n",
              "DS5     Motor 2.4 Turbo  124549.07"
            ],
            "text/html": [
              "\n",
              "  <div id=\"df-78f70204-e444-4e59-99b8-e25a38231810\">\n",
              "    <div class=\"colab-df-container\">\n",
              "      <div>\n",
              "<style scoped>\n",
              "    .dataframe tbody tr th:only-of-type {\n",
              "        vertical-align: middle;\n",
              "    }\n",
              "\n",
              "    .dataframe tbody tr th {\n",
              "        vertical-align: top;\n",
              "    }\n",
              "\n",
              "    .dataframe thead th {\n",
              "        text-align: right;\n",
              "    }\n",
              "</style>\n",
              "<table border=\"1\" class=\"dataframe\">\n",
              "  <thead>\n",
              "    <tr style=\"text-align: right;\">\n",
              "      <th></th>\n",
              "      <th>Motor</th>\n",
              "      <th>Valor</th>\n",
              "    </tr>\n",
              "    <tr>\n",
              "      <th>Nome</th>\n",
              "      <th></th>\n",
              "      <th></th>\n",
              "    </tr>\n",
              "  </thead>\n",
              "  <tbody>\n",
              "    <tr>\n",
              "      <th>Passat</th>\n",
              "      <td>Motor Diesel</td>\n",
              "      <td>106161.94</td>\n",
              "    </tr>\n",
              "    <tr>\n",
              "      <th>DS5</th>\n",
              "      <td>Motor 2.4 Turbo</td>\n",
              "      <td>124549.07</td>\n",
              "    </tr>\n",
              "  </tbody>\n",
              "</table>\n",
              "</div>\n",
              "      <button class=\"colab-df-convert\" onclick=\"convertToInteractive('df-78f70204-e444-4e59-99b8-e25a38231810')\"\n",
              "              title=\"Convert this dataframe to an interactive table.\"\n",
              "              style=\"display:none;\">\n",
              "        \n",
              "  <svg xmlns=\"http://www.w3.org/2000/svg\" height=\"24px\"viewBox=\"0 0 24 24\"\n",
              "       width=\"24px\">\n",
              "    <path d=\"M0 0h24v24H0V0z\" fill=\"none\"/>\n",
              "    <path d=\"M18.56 5.44l.94 2.06.94-2.06 2.06-.94-2.06-.94-.94-2.06-.94 2.06-2.06.94zm-11 1L8.5 8.5l.94-2.06 2.06-.94-2.06-.94L8.5 2.5l-.94 2.06-2.06.94zm10 10l.94 2.06.94-2.06 2.06-.94-2.06-.94-.94-2.06-.94 2.06-2.06.94z\"/><path d=\"M17.41 7.96l-1.37-1.37c-.4-.4-.92-.59-1.43-.59-.52 0-1.04.2-1.43.59L10.3 9.45l-7.72 7.72c-.78.78-.78 2.05 0 2.83L4 21.41c.39.39.9.59 1.41.59.51 0 1.02-.2 1.41-.59l7.78-7.78 2.81-2.81c.8-.78.8-2.07 0-2.86zM5.41 20L4 18.59l7.72-7.72 1.47 1.35L5.41 20z\"/>\n",
              "  </svg>\n",
              "      </button>\n",
              "      \n",
              "  <style>\n",
              "    .colab-df-container {\n",
              "      display:flex;\n",
              "      flex-wrap:wrap;\n",
              "      gap: 12px;\n",
              "    }\n",
              "\n",
              "    .colab-df-convert {\n",
              "      background-color: #E8F0FE;\n",
              "      border: none;\n",
              "      border-radius: 50%;\n",
              "      cursor: pointer;\n",
              "      display: none;\n",
              "      fill: #1967D2;\n",
              "      height: 32px;\n",
              "      padding: 0 0 0 0;\n",
              "      width: 32px;\n",
              "    }\n",
              "\n",
              "    .colab-df-convert:hover {\n",
              "      background-color: #E2EBFA;\n",
              "      box-shadow: 0px 1px 2px rgba(60, 64, 67, 0.3), 0px 1px 3px 1px rgba(60, 64, 67, 0.15);\n",
              "      fill: #174EA6;\n",
              "    }\n",
              "\n",
              "    [theme=dark] .colab-df-convert {\n",
              "      background-color: #3B4455;\n",
              "      fill: #D2E3FC;\n",
              "    }\n",
              "\n",
              "    [theme=dark] .colab-df-convert:hover {\n",
              "      background-color: #434B5C;\n",
              "      box-shadow: 0px 1px 3px 1px rgba(0, 0, 0, 0.15);\n",
              "      filter: drop-shadow(0px 1px 2px rgba(0, 0, 0, 0.3));\n",
              "      fill: #FFFFFF;\n",
              "    }\n",
              "  </style>\n",
              "\n",
              "      <script>\n",
              "        const buttonEl =\n",
              "          document.querySelector('#df-78f70204-e444-4e59-99b8-e25a38231810 button.colab-df-convert');\n",
              "        buttonEl.style.display =\n",
              "          google.colab.kernel.accessAllowed ? 'block' : 'none';\n",
              "\n",
              "        async function convertToInteractive(key) {\n",
              "          const element = document.querySelector('#df-78f70204-e444-4e59-99b8-e25a38231810');\n",
              "          const dataTable =\n",
              "            await google.colab.kernel.invokeFunction('convertToInteractive',\n",
              "                                                     [key], {});\n",
              "          if (!dataTable) return;\n",
              "\n",
              "          const docLinkHtml = 'Like what you see? Visit the ' +\n",
              "            '<a target=\"_blank\" href=https://colab.research.google.com/notebooks/data_table.ipynb>data table notebook</a>'\n",
              "            + ' to learn more about interactive tables.';\n",
              "          element.innerHTML = '';\n",
              "          dataTable['output_type'] = 'display_data';\n",
              "          await google.colab.output.renderOutput(dataTable, element);\n",
              "          const docLink = document.createElement('div');\n",
              "          docLink.innerHTML = docLinkHtml;\n",
              "          element.appendChild(docLink);\n",
              "        }\n",
              "      </script>\n",
              "    </div>\n",
              "  </div>\n",
              "  "
            ]
          },
          "metadata": {},
          "execution_count": 27
        }
      ],
      "source": [
        "dataset.loc[['Passat', 'DS5'], ['Motor', 'Valor']]"
      ]
    },
    {
      "cell_type": "code",
      "execution_count": 28,
      "metadata": {
        "id": "oOEO72uZD1BT",
        "scrolled": true,
        "outputId": "254a7d42-6fec-40df-d327-5366b522914e",
        "colab": {
          "base_uri": "https://localhost:8080/",
          "height": 455
        }
      },
      "outputs": [
        {
          "output_type": "execute_result",
          "data": {
            "text/plain": [
              "                                       Motor      Valor\n",
              "Nome                                                   \n",
              "Jetta Variant                Motor 4.0 Turbo   88078.64\n",
              "Passat                          Motor Diesel  106161.94\n",
              "Crossfox                     Motor Diesel V8   72832.16\n",
              "DS5                          Motor 2.4 Turbo  124549.07\n",
              "Aston Martin DB4             Motor 2.4 Turbo   92612.10\n",
              "...                                      ...        ...\n",
              "Phantom 2013                        Motor V8   51759.58\n",
              "Cadillac Ciel concept               Motor V8   51667.06\n",
              "Classe GLK             Motor 5.0 V8 Bi-Turbo   68934.03\n",
              "Aston Martin DB5                Motor Diesel  122110.90\n",
              "Macan                        Motor Diesel V6   90381.47\n",
              "\n",
              "[258 rows x 2 columns]"
            ],
            "text/html": [
              "\n",
              "  <div id=\"df-4122c79a-6cb3-473f-9cd8-35f2fd9e4a4c\">\n",
              "    <div class=\"colab-df-container\">\n",
              "      <div>\n",
              "<style scoped>\n",
              "    .dataframe tbody tr th:only-of-type {\n",
              "        vertical-align: middle;\n",
              "    }\n",
              "\n",
              "    .dataframe tbody tr th {\n",
              "        vertical-align: top;\n",
              "    }\n",
              "\n",
              "    .dataframe thead th {\n",
              "        text-align: right;\n",
              "    }\n",
              "</style>\n",
              "<table border=\"1\" class=\"dataframe\">\n",
              "  <thead>\n",
              "    <tr style=\"text-align: right;\">\n",
              "      <th></th>\n",
              "      <th>Motor</th>\n",
              "      <th>Valor</th>\n",
              "    </tr>\n",
              "    <tr>\n",
              "      <th>Nome</th>\n",
              "      <th></th>\n",
              "      <th></th>\n",
              "    </tr>\n",
              "  </thead>\n",
              "  <tbody>\n",
              "    <tr>\n",
              "      <th>Jetta Variant</th>\n",
              "      <td>Motor 4.0 Turbo</td>\n",
              "      <td>88078.64</td>\n",
              "    </tr>\n",
              "    <tr>\n",
              "      <th>Passat</th>\n",
              "      <td>Motor Diesel</td>\n",
              "      <td>106161.94</td>\n",
              "    </tr>\n",
              "    <tr>\n",
              "      <th>Crossfox</th>\n",
              "      <td>Motor Diesel V8</td>\n",
              "      <td>72832.16</td>\n",
              "    </tr>\n",
              "    <tr>\n",
              "      <th>DS5</th>\n",
              "      <td>Motor 2.4 Turbo</td>\n",
              "      <td>124549.07</td>\n",
              "    </tr>\n",
              "    <tr>\n",
              "      <th>Aston Martin DB4</th>\n",
              "      <td>Motor 2.4 Turbo</td>\n",
              "      <td>92612.10</td>\n",
              "    </tr>\n",
              "    <tr>\n",
              "      <th>...</th>\n",
              "      <td>...</td>\n",
              "      <td>...</td>\n",
              "    </tr>\n",
              "    <tr>\n",
              "      <th>Phantom 2013</th>\n",
              "      <td>Motor V8</td>\n",
              "      <td>51759.58</td>\n",
              "    </tr>\n",
              "    <tr>\n",
              "      <th>Cadillac Ciel concept</th>\n",
              "      <td>Motor V8</td>\n",
              "      <td>51667.06</td>\n",
              "    </tr>\n",
              "    <tr>\n",
              "      <th>Classe GLK</th>\n",
              "      <td>Motor 5.0 V8 Bi-Turbo</td>\n",
              "      <td>68934.03</td>\n",
              "    </tr>\n",
              "    <tr>\n",
              "      <th>Aston Martin DB5</th>\n",
              "      <td>Motor Diesel</td>\n",
              "      <td>122110.90</td>\n",
              "    </tr>\n",
              "    <tr>\n",
              "      <th>Macan</th>\n",
              "      <td>Motor Diesel V6</td>\n",
              "      <td>90381.47</td>\n",
              "    </tr>\n",
              "  </tbody>\n",
              "</table>\n",
              "<p>258 rows × 2 columns</p>\n",
              "</div>\n",
              "      <button class=\"colab-df-convert\" onclick=\"convertToInteractive('df-4122c79a-6cb3-473f-9cd8-35f2fd9e4a4c')\"\n",
              "              title=\"Convert this dataframe to an interactive table.\"\n",
              "              style=\"display:none;\">\n",
              "        \n",
              "  <svg xmlns=\"http://www.w3.org/2000/svg\" height=\"24px\"viewBox=\"0 0 24 24\"\n",
              "       width=\"24px\">\n",
              "    <path d=\"M0 0h24v24H0V0z\" fill=\"none\"/>\n",
              "    <path d=\"M18.56 5.44l.94 2.06.94-2.06 2.06-.94-2.06-.94-.94-2.06-.94 2.06-2.06.94zm-11 1L8.5 8.5l.94-2.06 2.06-.94-2.06-.94L8.5 2.5l-.94 2.06-2.06.94zm10 10l.94 2.06.94-2.06 2.06-.94-2.06-.94-.94-2.06-.94 2.06-2.06.94z\"/><path d=\"M17.41 7.96l-1.37-1.37c-.4-.4-.92-.59-1.43-.59-.52 0-1.04.2-1.43.59L10.3 9.45l-7.72 7.72c-.78.78-.78 2.05 0 2.83L4 21.41c.39.39.9.59 1.41.59.51 0 1.02-.2 1.41-.59l7.78-7.78 2.81-2.81c.8-.78.8-2.07 0-2.86zM5.41 20L4 18.59l7.72-7.72 1.47 1.35L5.41 20z\"/>\n",
              "  </svg>\n",
              "      </button>\n",
              "      \n",
              "  <style>\n",
              "    .colab-df-container {\n",
              "      display:flex;\n",
              "      flex-wrap:wrap;\n",
              "      gap: 12px;\n",
              "    }\n",
              "\n",
              "    .colab-df-convert {\n",
              "      background-color: #E8F0FE;\n",
              "      border: none;\n",
              "      border-radius: 50%;\n",
              "      cursor: pointer;\n",
              "      display: none;\n",
              "      fill: #1967D2;\n",
              "      height: 32px;\n",
              "      padding: 0 0 0 0;\n",
              "      width: 32px;\n",
              "    }\n",
              "\n",
              "    .colab-df-convert:hover {\n",
              "      background-color: #E2EBFA;\n",
              "      box-shadow: 0px 1px 2px rgba(60, 64, 67, 0.3), 0px 1px 3px 1px rgba(60, 64, 67, 0.15);\n",
              "      fill: #174EA6;\n",
              "    }\n",
              "\n",
              "    [theme=dark] .colab-df-convert {\n",
              "      background-color: #3B4455;\n",
              "      fill: #D2E3FC;\n",
              "    }\n",
              "\n",
              "    [theme=dark] .colab-df-convert:hover {\n",
              "      background-color: #434B5C;\n",
              "      box-shadow: 0px 1px 3px 1px rgba(0, 0, 0, 0.15);\n",
              "      filter: drop-shadow(0px 1px 2px rgba(0, 0, 0, 0.3));\n",
              "      fill: #FFFFFF;\n",
              "    }\n",
              "  </style>\n",
              "\n",
              "      <script>\n",
              "        const buttonEl =\n",
              "          document.querySelector('#df-4122c79a-6cb3-473f-9cd8-35f2fd9e4a4c button.colab-df-convert');\n",
              "        buttonEl.style.display =\n",
              "          google.colab.kernel.accessAllowed ? 'block' : 'none';\n",
              "\n",
              "        async function convertToInteractive(key) {\n",
              "          const element = document.querySelector('#df-4122c79a-6cb3-473f-9cd8-35f2fd9e4a4c');\n",
              "          const dataTable =\n",
              "            await google.colab.kernel.invokeFunction('convertToInteractive',\n",
              "                                                     [key], {});\n",
              "          if (!dataTable) return;\n",
              "\n",
              "          const docLinkHtml = 'Like what you see? Visit the ' +\n",
              "            '<a target=\"_blank\" href=https://colab.research.google.com/notebooks/data_table.ipynb>data table notebook</a>'\n",
              "            + ' to learn more about interactive tables.';\n",
              "          element.innerHTML = '';\n",
              "          dataTable['output_type'] = 'display_data';\n",
              "          await google.colab.output.renderOutput(dataTable, element);\n",
              "          const docLink = document.createElement('div');\n",
              "          docLink.innerHTML = docLinkHtml;\n",
              "          element.appendChild(docLink);\n",
              "        }\n",
              "      </script>\n",
              "    </div>\n",
              "  </div>\n",
              "  "
            ]
          },
          "metadata": {},
          "execution_count": 28
        }
      ],
      "source": [
        "dataset.loc[:, ['Motor', 'Valor']]"
      ]
    },
    {
      "cell_type": "markdown",
      "metadata": {
        "id": "SYKEe3vCD1BT"
      },
      "source": [
        "### Utilizando .iloc para seleções\n",
        "\n",
        "<font color=red>**Observação:**</font> Seleciona com base nos índices, ou seja, se baseia na posição das informações."
      ]
    },
    {
      "cell_type": "code",
      "execution_count": 29,
      "metadata": {
        "id": "U4Bru90bD1BT",
        "outputId": "68613a8e-d21c-4fe7-9d94-5b881f0fac19",
        "colab": {
          "base_uri": "https://localhost:8080/"
        }
      },
      "outputs": [
        {
          "output_type": "execute_result",
          "data": {
            "text/plain": [
              "Motor                                                 Motor Diesel\n",
              "Ano                                                           1991\n",
              "Quilometragem                                               5712.0\n",
              "Zero_km                                                      False\n",
              "Acessórios       ['Central multimídia', 'Teto panorâmico', 'Fre...\n",
              "Valor                                                    106161.94\n",
              "Name: Passat, dtype: object"
            ]
          },
          "metadata": {},
          "execution_count": 29
        }
      ],
      "source": [
        "dataset.iloc[1]"
      ]
    },
    {
      "cell_type": "code",
      "execution_count": 32,
      "metadata": {
        "id": "iLKUyrzND1BU",
        "outputId": "b3d43799-ae11-4f80-cb7a-1e433509bd29",
        "colab": {
          "base_uri": "https://localhost:8080/",
          "height": 112
        }
      },
      "outputs": [
        {
          "output_type": "execute_result",
          "data": {
            "text/plain": [
              "               Motor   Ano  Quilometragem  Zero_km  \\\n",
              "Nome                                                 \n",
              "Passat  Motor Diesel  1991         5712.0    False   \n",
              "\n",
              "                                               Acessórios      Valor  \n",
              "Nome                                                                  \n",
              "Passat  ['Central multimídia', 'Teto panorâmico', 'Fre...  106161.94  "
            ],
            "text/html": [
              "\n",
              "  <div id=\"df-c504dea2-3d25-44c5-a109-5c31cf1147f8\">\n",
              "    <div class=\"colab-df-container\">\n",
              "      <div>\n",
              "<style scoped>\n",
              "    .dataframe tbody tr th:only-of-type {\n",
              "        vertical-align: middle;\n",
              "    }\n",
              "\n",
              "    .dataframe tbody tr th {\n",
              "        vertical-align: top;\n",
              "    }\n",
              "\n",
              "    .dataframe thead th {\n",
              "        text-align: right;\n",
              "    }\n",
              "</style>\n",
              "<table border=\"1\" class=\"dataframe\">\n",
              "  <thead>\n",
              "    <tr style=\"text-align: right;\">\n",
              "      <th></th>\n",
              "      <th>Motor</th>\n",
              "      <th>Ano</th>\n",
              "      <th>Quilometragem</th>\n",
              "      <th>Zero_km</th>\n",
              "      <th>Acessórios</th>\n",
              "      <th>Valor</th>\n",
              "    </tr>\n",
              "    <tr>\n",
              "      <th>Nome</th>\n",
              "      <th></th>\n",
              "      <th></th>\n",
              "      <th></th>\n",
              "      <th></th>\n",
              "      <th></th>\n",
              "      <th></th>\n",
              "    </tr>\n",
              "  </thead>\n",
              "  <tbody>\n",
              "    <tr>\n",
              "      <th>Passat</th>\n",
              "      <td>Motor Diesel</td>\n",
              "      <td>1991</td>\n",
              "      <td>5712.0</td>\n",
              "      <td>False</td>\n",
              "      <td>['Central multimídia', 'Teto panorâmico', 'Fre...</td>\n",
              "      <td>106161.94</td>\n",
              "    </tr>\n",
              "  </tbody>\n",
              "</table>\n",
              "</div>\n",
              "      <button class=\"colab-df-convert\" onclick=\"convertToInteractive('df-c504dea2-3d25-44c5-a109-5c31cf1147f8')\"\n",
              "              title=\"Convert this dataframe to an interactive table.\"\n",
              "              style=\"display:none;\">\n",
              "        \n",
              "  <svg xmlns=\"http://www.w3.org/2000/svg\" height=\"24px\"viewBox=\"0 0 24 24\"\n",
              "       width=\"24px\">\n",
              "    <path d=\"M0 0h24v24H0V0z\" fill=\"none\"/>\n",
              "    <path d=\"M18.56 5.44l.94 2.06.94-2.06 2.06-.94-2.06-.94-.94-2.06-.94 2.06-2.06.94zm-11 1L8.5 8.5l.94-2.06 2.06-.94-2.06-.94L8.5 2.5l-.94 2.06-2.06.94zm10 10l.94 2.06.94-2.06 2.06-.94-2.06-.94-.94-2.06-.94 2.06-2.06.94z\"/><path d=\"M17.41 7.96l-1.37-1.37c-.4-.4-.92-.59-1.43-.59-.52 0-1.04.2-1.43.59L10.3 9.45l-7.72 7.72c-.78.78-.78 2.05 0 2.83L4 21.41c.39.39.9.59 1.41.59.51 0 1.02-.2 1.41-.59l7.78-7.78 2.81-2.81c.8-.78.8-2.07 0-2.86zM5.41 20L4 18.59l7.72-7.72 1.47 1.35L5.41 20z\"/>\n",
              "  </svg>\n",
              "      </button>\n",
              "      \n",
              "  <style>\n",
              "    .colab-df-container {\n",
              "      display:flex;\n",
              "      flex-wrap:wrap;\n",
              "      gap: 12px;\n",
              "    }\n",
              "\n",
              "    .colab-df-convert {\n",
              "      background-color: #E8F0FE;\n",
              "      border: none;\n",
              "      border-radius: 50%;\n",
              "      cursor: pointer;\n",
              "      display: none;\n",
              "      fill: #1967D2;\n",
              "      height: 32px;\n",
              "      padding: 0 0 0 0;\n",
              "      width: 32px;\n",
              "    }\n",
              "\n",
              "    .colab-df-convert:hover {\n",
              "      background-color: #E2EBFA;\n",
              "      box-shadow: 0px 1px 2px rgba(60, 64, 67, 0.3), 0px 1px 3px 1px rgba(60, 64, 67, 0.15);\n",
              "      fill: #174EA6;\n",
              "    }\n",
              "\n",
              "    [theme=dark] .colab-df-convert {\n",
              "      background-color: #3B4455;\n",
              "      fill: #D2E3FC;\n",
              "    }\n",
              "\n",
              "    [theme=dark] .colab-df-convert:hover {\n",
              "      background-color: #434B5C;\n",
              "      box-shadow: 0px 1px 3px 1px rgba(0, 0, 0, 0.15);\n",
              "      filter: drop-shadow(0px 1px 2px rgba(0, 0, 0, 0.3));\n",
              "      fill: #FFFFFF;\n",
              "    }\n",
              "  </style>\n",
              "\n",
              "      <script>\n",
              "        const buttonEl =\n",
              "          document.querySelector('#df-c504dea2-3d25-44c5-a109-5c31cf1147f8 button.colab-df-convert');\n",
              "        buttonEl.style.display =\n",
              "          google.colab.kernel.accessAllowed ? 'block' : 'none';\n",
              "\n",
              "        async function convertToInteractive(key) {\n",
              "          const element = document.querySelector('#df-c504dea2-3d25-44c5-a109-5c31cf1147f8');\n",
              "          const dataTable =\n",
              "            await google.colab.kernel.invokeFunction('convertToInteractive',\n",
              "                                                     [key], {});\n",
              "          if (!dataTable) return;\n",
              "\n",
              "          const docLinkHtml = 'Like what you see? Visit the ' +\n",
              "            '<a target=\"_blank\" href=https://colab.research.google.com/notebooks/data_table.ipynb>data table notebook</a>'\n",
              "            + ' to learn more about interactive tables.';\n",
              "          element.innerHTML = '';\n",
              "          dataTable['output_type'] = 'display_data';\n",
              "          await google.colab.output.renderOutput(dataTable, element);\n",
              "          const docLink = document.createElement('div');\n",
              "          docLink.innerHTML = docLinkHtml;\n",
              "          element.appendChild(docLink);\n",
              "        }\n",
              "      </script>\n",
              "    </div>\n",
              "  </div>\n",
              "  "
            ]
          },
          "metadata": {},
          "execution_count": 32
        }
      ],
      "source": [
        "dataset.iloc[[1]]"
      ]
    },
    {
      "cell_type": "code",
      "execution_count": 33,
      "metadata": {
        "id": "KGZpixYUD1BU",
        "outputId": "11ec0f30-7556-4fdf-eb22-cc0886fa2077",
        "colab": {
          "base_uri": "https://localhost:8080/",
          "height": 175
        }
      },
      "outputs": [
        {
          "output_type": "execute_result",
          "data": {
            "text/plain": [
              "                    Motor   Ano  Quilometragem  Zero_km  \\\n",
              "Nome                                                      \n",
              "Passat       Motor Diesel  1991         5712.0    False   \n",
              "Crossfox  Motor Diesel V8  1990        37123.0    False   \n",
              "DS5       Motor 2.4 Turbo  2019            NaN     True   \n",
              "\n",
              "                                                 Acessórios      Valor  \n",
              "Nome                                                                    \n",
              "Passat    ['Central multimídia', 'Teto panorâmico', 'Fre...  106161.94  \n",
              "Crossfox  ['Piloto automático', 'Controle de estabilidad...   72832.16  \n",
              "DS5       ['Travas elétricas', '4 X 4', 'Vidros elétrico...  124549.07  "
            ],
            "text/html": [
              "\n",
              "  <div id=\"df-fe1517f9-b30c-4883-9fe5-aec2df7253ff\">\n",
              "    <div class=\"colab-df-container\">\n",
              "      <div>\n",
              "<style scoped>\n",
              "    .dataframe tbody tr th:only-of-type {\n",
              "        vertical-align: middle;\n",
              "    }\n",
              "\n",
              "    .dataframe tbody tr th {\n",
              "        vertical-align: top;\n",
              "    }\n",
              "\n",
              "    .dataframe thead th {\n",
              "        text-align: right;\n",
              "    }\n",
              "</style>\n",
              "<table border=\"1\" class=\"dataframe\">\n",
              "  <thead>\n",
              "    <tr style=\"text-align: right;\">\n",
              "      <th></th>\n",
              "      <th>Motor</th>\n",
              "      <th>Ano</th>\n",
              "      <th>Quilometragem</th>\n",
              "      <th>Zero_km</th>\n",
              "      <th>Acessórios</th>\n",
              "      <th>Valor</th>\n",
              "    </tr>\n",
              "    <tr>\n",
              "      <th>Nome</th>\n",
              "      <th></th>\n",
              "      <th></th>\n",
              "      <th></th>\n",
              "      <th></th>\n",
              "      <th></th>\n",
              "      <th></th>\n",
              "    </tr>\n",
              "  </thead>\n",
              "  <tbody>\n",
              "    <tr>\n",
              "      <th>Passat</th>\n",
              "      <td>Motor Diesel</td>\n",
              "      <td>1991</td>\n",
              "      <td>5712.0</td>\n",
              "      <td>False</td>\n",
              "      <td>['Central multimídia', 'Teto panorâmico', 'Fre...</td>\n",
              "      <td>106161.94</td>\n",
              "    </tr>\n",
              "    <tr>\n",
              "      <th>Crossfox</th>\n",
              "      <td>Motor Diesel V8</td>\n",
              "      <td>1990</td>\n",
              "      <td>37123.0</td>\n",
              "      <td>False</td>\n",
              "      <td>['Piloto automático', 'Controle de estabilidad...</td>\n",
              "      <td>72832.16</td>\n",
              "    </tr>\n",
              "    <tr>\n",
              "      <th>DS5</th>\n",
              "      <td>Motor 2.4 Turbo</td>\n",
              "      <td>2019</td>\n",
              "      <td>NaN</td>\n",
              "      <td>True</td>\n",
              "      <td>['Travas elétricas', '4 X 4', 'Vidros elétrico...</td>\n",
              "      <td>124549.07</td>\n",
              "    </tr>\n",
              "  </tbody>\n",
              "</table>\n",
              "</div>\n",
              "      <button class=\"colab-df-convert\" onclick=\"convertToInteractive('df-fe1517f9-b30c-4883-9fe5-aec2df7253ff')\"\n",
              "              title=\"Convert this dataframe to an interactive table.\"\n",
              "              style=\"display:none;\">\n",
              "        \n",
              "  <svg xmlns=\"http://www.w3.org/2000/svg\" height=\"24px\"viewBox=\"0 0 24 24\"\n",
              "       width=\"24px\">\n",
              "    <path d=\"M0 0h24v24H0V0z\" fill=\"none\"/>\n",
              "    <path d=\"M18.56 5.44l.94 2.06.94-2.06 2.06-.94-2.06-.94-.94-2.06-.94 2.06-2.06.94zm-11 1L8.5 8.5l.94-2.06 2.06-.94-2.06-.94L8.5 2.5l-.94 2.06-2.06.94zm10 10l.94 2.06.94-2.06 2.06-.94-2.06-.94-.94-2.06-.94 2.06-2.06.94z\"/><path d=\"M17.41 7.96l-1.37-1.37c-.4-.4-.92-.59-1.43-.59-.52 0-1.04.2-1.43.59L10.3 9.45l-7.72 7.72c-.78.78-.78 2.05 0 2.83L4 21.41c.39.39.9.59 1.41.59.51 0 1.02-.2 1.41-.59l7.78-7.78 2.81-2.81c.8-.78.8-2.07 0-2.86zM5.41 20L4 18.59l7.72-7.72 1.47 1.35L5.41 20z\"/>\n",
              "  </svg>\n",
              "      </button>\n",
              "      \n",
              "  <style>\n",
              "    .colab-df-container {\n",
              "      display:flex;\n",
              "      flex-wrap:wrap;\n",
              "      gap: 12px;\n",
              "    }\n",
              "\n",
              "    .colab-df-convert {\n",
              "      background-color: #E8F0FE;\n",
              "      border: none;\n",
              "      border-radius: 50%;\n",
              "      cursor: pointer;\n",
              "      display: none;\n",
              "      fill: #1967D2;\n",
              "      height: 32px;\n",
              "      padding: 0 0 0 0;\n",
              "      width: 32px;\n",
              "    }\n",
              "\n",
              "    .colab-df-convert:hover {\n",
              "      background-color: #E2EBFA;\n",
              "      box-shadow: 0px 1px 2px rgba(60, 64, 67, 0.3), 0px 1px 3px 1px rgba(60, 64, 67, 0.15);\n",
              "      fill: #174EA6;\n",
              "    }\n",
              "\n",
              "    [theme=dark] .colab-df-convert {\n",
              "      background-color: #3B4455;\n",
              "      fill: #D2E3FC;\n",
              "    }\n",
              "\n",
              "    [theme=dark] .colab-df-convert:hover {\n",
              "      background-color: #434B5C;\n",
              "      box-shadow: 0px 1px 3px 1px rgba(0, 0, 0, 0.15);\n",
              "      filter: drop-shadow(0px 1px 2px rgba(0, 0, 0, 0.3));\n",
              "      fill: #FFFFFF;\n",
              "    }\n",
              "  </style>\n",
              "\n",
              "      <script>\n",
              "        const buttonEl =\n",
              "          document.querySelector('#df-fe1517f9-b30c-4883-9fe5-aec2df7253ff button.colab-df-convert');\n",
              "        buttonEl.style.display =\n",
              "          google.colab.kernel.accessAllowed ? 'block' : 'none';\n",
              "\n",
              "        async function convertToInteractive(key) {\n",
              "          const element = document.querySelector('#df-fe1517f9-b30c-4883-9fe5-aec2df7253ff');\n",
              "          const dataTable =\n",
              "            await google.colab.kernel.invokeFunction('convertToInteractive',\n",
              "                                                     [key], {});\n",
              "          if (!dataTable) return;\n",
              "\n",
              "          const docLinkHtml = 'Like what you see? Visit the ' +\n",
              "            '<a target=\"_blank\" href=https://colab.research.google.com/notebooks/data_table.ipynb>data table notebook</a>'\n",
              "            + ' to learn more about interactive tables.';\n",
              "          element.innerHTML = '';\n",
              "          dataTable['output_type'] = 'display_data';\n",
              "          await google.colab.output.renderOutput(dataTable, element);\n",
              "          const docLink = document.createElement('div');\n",
              "          docLink.innerHTML = docLinkHtml;\n",
              "          element.appendChild(docLink);\n",
              "        }\n",
              "      </script>\n",
              "    </div>\n",
              "  </div>\n",
              "  "
            ]
          },
          "metadata": {},
          "execution_count": 33
        }
      ],
      "source": [
        "dataset.iloc[1:4]"
      ]
    },
    {
      "cell_type": "code",
      "execution_count": 34,
      "metadata": {
        "id": "GxdqIz4LD1BV",
        "outputId": "3e99c4b8-d69b-4d69-9d57-d7eed4168d99",
        "colab": {
          "base_uri": "https://localhost:8080/",
          "height": 175
        }
      },
      "outputs": [
        {
          "output_type": "execute_result",
          "data": {
            "text/plain": [
              "                    Motor      Valor  Quilometragem\n",
              "Nome                                               \n",
              "Passat       Motor Diesel  106161.94         5712.0\n",
              "Crossfox  Motor Diesel V8   72832.16        37123.0\n",
              "DS5       Motor 2.4 Turbo  124549.07            NaN"
            ],
            "text/html": [
              "\n",
              "  <div id=\"df-f9c8bec3-17f2-428f-8d10-8fdfa5326d75\">\n",
              "    <div class=\"colab-df-container\">\n",
              "      <div>\n",
              "<style scoped>\n",
              "    .dataframe tbody tr th:only-of-type {\n",
              "        vertical-align: middle;\n",
              "    }\n",
              "\n",
              "    .dataframe tbody tr th {\n",
              "        vertical-align: top;\n",
              "    }\n",
              "\n",
              "    .dataframe thead th {\n",
              "        text-align: right;\n",
              "    }\n",
              "</style>\n",
              "<table border=\"1\" class=\"dataframe\">\n",
              "  <thead>\n",
              "    <tr style=\"text-align: right;\">\n",
              "      <th></th>\n",
              "      <th>Motor</th>\n",
              "      <th>Valor</th>\n",
              "      <th>Quilometragem</th>\n",
              "    </tr>\n",
              "    <tr>\n",
              "      <th>Nome</th>\n",
              "      <th></th>\n",
              "      <th></th>\n",
              "      <th></th>\n",
              "    </tr>\n",
              "  </thead>\n",
              "  <tbody>\n",
              "    <tr>\n",
              "      <th>Passat</th>\n",
              "      <td>Motor Diesel</td>\n",
              "      <td>106161.94</td>\n",
              "      <td>5712.0</td>\n",
              "    </tr>\n",
              "    <tr>\n",
              "      <th>Crossfox</th>\n",
              "      <td>Motor Diesel V8</td>\n",
              "      <td>72832.16</td>\n",
              "      <td>37123.0</td>\n",
              "    </tr>\n",
              "    <tr>\n",
              "      <th>DS5</th>\n",
              "      <td>Motor 2.4 Turbo</td>\n",
              "      <td>124549.07</td>\n",
              "      <td>NaN</td>\n",
              "    </tr>\n",
              "  </tbody>\n",
              "</table>\n",
              "</div>\n",
              "      <button class=\"colab-df-convert\" onclick=\"convertToInteractive('df-f9c8bec3-17f2-428f-8d10-8fdfa5326d75')\"\n",
              "              title=\"Convert this dataframe to an interactive table.\"\n",
              "              style=\"display:none;\">\n",
              "        \n",
              "  <svg xmlns=\"http://www.w3.org/2000/svg\" height=\"24px\"viewBox=\"0 0 24 24\"\n",
              "       width=\"24px\">\n",
              "    <path d=\"M0 0h24v24H0V0z\" fill=\"none\"/>\n",
              "    <path d=\"M18.56 5.44l.94 2.06.94-2.06 2.06-.94-2.06-.94-.94-2.06-.94 2.06-2.06.94zm-11 1L8.5 8.5l.94-2.06 2.06-.94-2.06-.94L8.5 2.5l-.94 2.06-2.06.94zm10 10l.94 2.06.94-2.06 2.06-.94-2.06-.94-.94-2.06-.94 2.06-2.06.94z\"/><path d=\"M17.41 7.96l-1.37-1.37c-.4-.4-.92-.59-1.43-.59-.52 0-1.04.2-1.43.59L10.3 9.45l-7.72 7.72c-.78.78-.78 2.05 0 2.83L4 21.41c.39.39.9.59 1.41.59.51 0 1.02-.2 1.41-.59l7.78-7.78 2.81-2.81c.8-.78.8-2.07 0-2.86zM5.41 20L4 18.59l7.72-7.72 1.47 1.35L5.41 20z\"/>\n",
              "  </svg>\n",
              "      </button>\n",
              "      \n",
              "  <style>\n",
              "    .colab-df-container {\n",
              "      display:flex;\n",
              "      flex-wrap:wrap;\n",
              "      gap: 12px;\n",
              "    }\n",
              "\n",
              "    .colab-df-convert {\n",
              "      background-color: #E8F0FE;\n",
              "      border: none;\n",
              "      border-radius: 50%;\n",
              "      cursor: pointer;\n",
              "      display: none;\n",
              "      fill: #1967D2;\n",
              "      height: 32px;\n",
              "      padding: 0 0 0 0;\n",
              "      width: 32px;\n",
              "    }\n",
              "\n",
              "    .colab-df-convert:hover {\n",
              "      background-color: #E2EBFA;\n",
              "      box-shadow: 0px 1px 2px rgba(60, 64, 67, 0.3), 0px 1px 3px 1px rgba(60, 64, 67, 0.15);\n",
              "      fill: #174EA6;\n",
              "    }\n",
              "\n",
              "    [theme=dark] .colab-df-convert {\n",
              "      background-color: #3B4455;\n",
              "      fill: #D2E3FC;\n",
              "    }\n",
              "\n",
              "    [theme=dark] .colab-df-convert:hover {\n",
              "      background-color: #434B5C;\n",
              "      box-shadow: 0px 1px 3px 1px rgba(0, 0, 0, 0.15);\n",
              "      filter: drop-shadow(0px 1px 2px rgba(0, 0, 0, 0.3));\n",
              "      fill: #FFFFFF;\n",
              "    }\n",
              "  </style>\n",
              "\n",
              "      <script>\n",
              "        const buttonEl =\n",
              "          document.querySelector('#df-f9c8bec3-17f2-428f-8d10-8fdfa5326d75 button.colab-df-convert');\n",
              "        buttonEl.style.display =\n",
              "          google.colab.kernel.accessAllowed ? 'block' : 'none';\n",
              "\n",
              "        async function convertToInteractive(key) {\n",
              "          const element = document.querySelector('#df-f9c8bec3-17f2-428f-8d10-8fdfa5326d75');\n",
              "          const dataTable =\n",
              "            await google.colab.kernel.invokeFunction('convertToInteractive',\n",
              "                                                     [key], {});\n",
              "          if (!dataTable) return;\n",
              "\n",
              "          const docLinkHtml = 'Like what you see? Visit the ' +\n",
              "            '<a target=\"_blank\" href=https://colab.research.google.com/notebooks/data_table.ipynb>data table notebook</a>'\n",
              "            + ' to learn more about interactive tables.';\n",
              "          element.innerHTML = '';\n",
              "          dataTable['output_type'] = 'display_data';\n",
              "          await google.colab.output.renderOutput(dataTable, element);\n",
              "          const docLink = document.createElement('div');\n",
              "          docLink.innerHTML = docLinkHtml;\n",
              "          element.appendChild(docLink);\n",
              "        }\n",
              "      </script>\n",
              "    </div>\n",
              "  </div>\n",
              "  "
            ]
          },
          "metadata": {},
          "execution_count": 34
        }
      ],
      "source": [
        "dataset.iloc[1:4, [0, 5, 2]]"
      ]
    },
    {
      "cell_type": "code",
      "execution_count": 35,
      "metadata": {
        "id": "AVIhs7uLD1BW",
        "scrolled": true,
        "outputId": "179ff7a1-5364-409f-fc63-7f7a983e4b7a",
        "colab": {
          "base_uri": "https://localhost:8080/",
          "height": 175
        }
      },
      "outputs": [
        {
          "output_type": "execute_result",
          "data": {
            "text/plain": [
              "                               Motor      Valor  Quilometragem\n",
              "Nome                                                          \n",
              "Passat                  Motor Diesel  106161.94         5712.0\n",
              "Optima                 Motor 1.8 16v   86641.34            NaN\n",
              "Lamborghini Obvious  Motor Diesel V6  133529.84        98079.0"
            ],
            "text/html": [
              "\n",
              "  <div id=\"df-da90fb24-868f-48c5-877f-383721d53ab8\">\n",
              "    <div class=\"colab-df-container\">\n",
              "      <div>\n",
              "<style scoped>\n",
              "    .dataframe tbody tr th:only-of-type {\n",
              "        vertical-align: middle;\n",
              "    }\n",
              "\n",
              "    .dataframe tbody tr th {\n",
              "        vertical-align: top;\n",
              "    }\n",
              "\n",
              "    .dataframe thead th {\n",
              "        text-align: right;\n",
              "    }\n",
              "</style>\n",
              "<table border=\"1\" class=\"dataframe\">\n",
              "  <thead>\n",
              "    <tr style=\"text-align: right;\">\n",
              "      <th></th>\n",
              "      <th>Motor</th>\n",
              "      <th>Valor</th>\n",
              "      <th>Quilometragem</th>\n",
              "    </tr>\n",
              "    <tr>\n",
              "      <th>Nome</th>\n",
              "      <th></th>\n",
              "      <th></th>\n",
              "      <th></th>\n",
              "    </tr>\n",
              "  </thead>\n",
              "  <tbody>\n",
              "    <tr>\n",
              "      <th>Passat</th>\n",
              "      <td>Motor Diesel</td>\n",
              "      <td>106161.94</td>\n",
              "      <td>5712.0</td>\n",
              "    </tr>\n",
              "    <tr>\n",
              "      <th>Optima</th>\n",
              "      <td>Motor 1.8 16v</td>\n",
              "      <td>86641.34</td>\n",
              "      <td>NaN</td>\n",
              "    </tr>\n",
              "    <tr>\n",
              "      <th>Lamborghini Obvious</th>\n",
              "      <td>Motor Diesel V6</td>\n",
              "      <td>133529.84</td>\n",
              "      <td>98079.0</td>\n",
              "    </tr>\n",
              "  </tbody>\n",
              "</table>\n",
              "</div>\n",
              "      <button class=\"colab-df-convert\" onclick=\"convertToInteractive('df-da90fb24-868f-48c5-877f-383721d53ab8')\"\n",
              "              title=\"Convert this dataframe to an interactive table.\"\n",
              "              style=\"display:none;\">\n",
              "        \n",
              "  <svg xmlns=\"http://www.w3.org/2000/svg\" height=\"24px\"viewBox=\"0 0 24 24\"\n",
              "       width=\"24px\">\n",
              "    <path d=\"M0 0h24v24H0V0z\" fill=\"none\"/>\n",
              "    <path d=\"M18.56 5.44l.94 2.06.94-2.06 2.06-.94-2.06-.94-.94-2.06-.94 2.06-2.06.94zm-11 1L8.5 8.5l.94-2.06 2.06-.94-2.06-.94L8.5 2.5l-.94 2.06-2.06.94zm10 10l.94 2.06.94-2.06 2.06-.94-2.06-.94-.94-2.06-.94 2.06-2.06.94z\"/><path d=\"M17.41 7.96l-1.37-1.37c-.4-.4-.92-.59-1.43-.59-.52 0-1.04.2-1.43.59L10.3 9.45l-7.72 7.72c-.78.78-.78 2.05 0 2.83L4 21.41c.39.39.9.59 1.41.59.51 0 1.02-.2 1.41-.59l7.78-7.78 2.81-2.81c.8-.78.8-2.07 0-2.86zM5.41 20L4 18.59l7.72-7.72 1.47 1.35L5.41 20z\"/>\n",
              "  </svg>\n",
              "      </button>\n",
              "      \n",
              "  <style>\n",
              "    .colab-df-container {\n",
              "      display:flex;\n",
              "      flex-wrap:wrap;\n",
              "      gap: 12px;\n",
              "    }\n",
              "\n",
              "    .colab-df-convert {\n",
              "      background-color: #E8F0FE;\n",
              "      border: none;\n",
              "      border-radius: 50%;\n",
              "      cursor: pointer;\n",
              "      display: none;\n",
              "      fill: #1967D2;\n",
              "      height: 32px;\n",
              "      padding: 0 0 0 0;\n",
              "      width: 32px;\n",
              "    }\n",
              "\n",
              "    .colab-df-convert:hover {\n",
              "      background-color: #E2EBFA;\n",
              "      box-shadow: 0px 1px 2px rgba(60, 64, 67, 0.3), 0px 1px 3px 1px rgba(60, 64, 67, 0.15);\n",
              "      fill: #174EA6;\n",
              "    }\n",
              "\n",
              "    [theme=dark] .colab-df-convert {\n",
              "      background-color: #3B4455;\n",
              "      fill: #D2E3FC;\n",
              "    }\n",
              "\n",
              "    [theme=dark] .colab-df-convert:hover {\n",
              "      background-color: #434B5C;\n",
              "      box-shadow: 0px 1px 3px 1px rgba(0, 0, 0, 0.15);\n",
              "      filter: drop-shadow(0px 1px 2px rgba(0, 0, 0, 0.3));\n",
              "      fill: #FFFFFF;\n",
              "    }\n",
              "  </style>\n",
              "\n",
              "      <script>\n",
              "        const buttonEl =\n",
              "          document.querySelector('#df-da90fb24-868f-48c5-877f-383721d53ab8 button.colab-df-convert');\n",
              "        buttonEl.style.display =\n",
              "          google.colab.kernel.accessAllowed ? 'block' : 'none';\n",
              "\n",
              "        async function convertToInteractive(key) {\n",
              "          const element = document.querySelector('#df-da90fb24-868f-48c5-877f-383721d53ab8');\n",
              "          const dataTable =\n",
              "            await google.colab.kernel.invokeFunction('convertToInteractive',\n",
              "                                                     [key], {});\n",
              "          if (!dataTable) return;\n",
              "\n",
              "          const docLinkHtml = 'Like what you see? Visit the ' +\n",
              "            '<a target=\"_blank\" href=https://colab.research.google.com/notebooks/data_table.ipynb>data table notebook</a>'\n",
              "            + ' to learn more about interactive tables.';\n",
              "          element.innerHTML = '';\n",
              "          dataTable['output_type'] = 'display_data';\n",
              "          await google.colab.output.renderOutput(dataTable, element);\n",
              "          const docLink = document.createElement('div');\n",
              "          docLink.innerHTML = docLinkHtml;\n",
              "          element.appendChild(docLink);\n",
              "        }\n",
              "      </script>\n",
              "    </div>\n",
              "  </div>\n",
              "  "
            ]
          },
          "metadata": {},
          "execution_count": 35
        }
      ],
      "source": [
        "dataset.iloc[[1, 42, 22], [0, 5, 2]]"
      ]
    },
    {
      "cell_type": "code",
      "source": [
        "dataset.iloc[:, [0, 5, 2]]"
      ],
      "metadata": {
        "id": "82EpnLmRmDLX",
        "outputId": "a13a20c6-b98f-43ce-d699-9dc14922d1f2",
        "colab": {
          "base_uri": "https://localhost:8080/",
          "height": 455
        }
      },
      "execution_count": 36,
      "outputs": [
        {
          "output_type": "execute_result",
          "data": {
            "text/plain": [
              "                                       Motor      Valor  Quilometragem\n",
              "Nome                                                                  \n",
              "Jetta Variant                Motor 4.0 Turbo   88078.64        44410.0\n",
              "Passat                          Motor Diesel  106161.94         5712.0\n",
              "Crossfox                     Motor Diesel V8   72832.16        37123.0\n",
              "DS5                          Motor 2.4 Turbo  124549.07            NaN\n",
              "Aston Martin DB4             Motor 2.4 Turbo   92612.10        25757.0\n",
              "...                                      ...        ...            ...\n",
              "Phantom 2013                        Motor V8   51759.58        27505.0\n",
              "Cadillac Ciel concept               Motor V8   51667.06        29981.0\n",
              "Classe GLK             Motor 5.0 V8 Bi-Turbo   68934.03        52637.0\n",
              "Aston Martin DB5                Motor Diesel  122110.90         7685.0\n",
              "Macan                        Motor Diesel V6   90381.47        50188.0\n",
              "\n",
              "[258 rows x 3 columns]"
            ],
            "text/html": [
              "\n",
              "  <div id=\"df-80866bd1-b6b4-408a-81bb-1758175ef961\">\n",
              "    <div class=\"colab-df-container\">\n",
              "      <div>\n",
              "<style scoped>\n",
              "    .dataframe tbody tr th:only-of-type {\n",
              "        vertical-align: middle;\n",
              "    }\n",
              "\n",
              "    .dataframe tbody tr th {\n",
              "        vertical-align: top;\n",
              "    }\n",
              "\n",
              "    .dataframe thead th {\n",
              "        text-align: right;\n",
              "    }\n",
              "</style>\n",
              "<table border=\"1\" class=\"dataframe\">\n",
              "  <thead>\n",
              "    <tr style=\"text-align: right;\">\n",
              "      <th></th>\n",
              "      <th>Motor</th>\n",
              "      <th>Valor</th>\n",
              "      <th>Quilometragem</th>\n",
              "    </tr>\n",
              "    <tr>\n",
              "      <th>Nome</th>\n",
              "      <th></th>\n",
              "      <th></th>\n",
              "      <th></th>\n",
              "    </tr>\n",
              "  </thead>\n",
              "  <tbody>\n",
              "    <tr>\n",
              "      <th>Jetta Variant</th>\n",
              "      <td>Motor 4.0 Turbo</td>\n",
              "      <td>88078.64</td>\n",
              "      <td>44410.0</td>\n",
              "    </tr>\n",
              "    <tr>\n",
              "      <th>Passat</th>\n",
              "      <td>Motor Diesel</td>\n",
              "      <td>106161.94</td>\n",
              "      <td>5712.0</td>\n",
              "    </tr>\n",
              "    <tr>\n",
              "      <th>Crossfox</th>\n",
              "      <td>Motor Diesel V8</td>\n",
              "      <td>72832.16</td>\n",
              "      <td>37123.0</td>\n",
              "    </tr>\n",
              "    <tr>\n",
              "      <th>DS5</th>\n",
              "      <td>Motor 2.4 Turbo</td>\n",
              "      <td>124549.07</td>\n",
              "      <td>NaN</td>\n",
              "    </tr>\n",
              "    <tr>\n",
              "      <th>Aston Martin DB4</th>\n",
              "      <td>Motor 2.4 Turbo</td>\n",
              "      <td>92612.10</td>\n",
              "      <td>25757.0</td>\n",
              "    </tr>\n",
              "    <tr>\n",
              "      <th>...</th>\n",
              "      <td>...</td>\n",
              "      <td>...</td>\n",
              "      <td>...</td>\n",
              "    </tr>\n",
              "    <tr>\n",
              "      <th>Phantom 2013</th>\n",
              "      <td>Motor V8</td>\n",
              "      <td>51759.58</td>\n",
              "      <td>27505.0</td>\n",
              "    </tr>\n",
              "    <tr>\n",
              "      <th>Cadillac Ciel concept</th>\n",
              "      <td>Motor V8</td>\n",
              "      <td>51667.06</td>\n",
              "      <td>29981.0</td>\n",
              "    </tr>\n",
              "    <tr>\n",
              "      <th>Classe GLK</th>\n",
              "      <td>Motor 5.0 V8 Bi-Turbo</td>\n",
              "      <td>68934.03</td>\n",
              "      <td>52637.0</td>\n",
              "    </tr>\n",
              "    <tr>\n",
              "      <th>Aston Martin DB5</th>\n",
              "      <td>Motor Diesel</td>\n",
              "      <td>122110.90</td>\n",
              "      <td>7685.0</td>\n",
              "    </tr>\n",
              "    <tr>\n",
              "      <th>Macan</th>\n",
              "      <td>Motor Diesel V6</td>\n",
              "      <td>90381.47</td>\n",
              "      <td>50188.0</td>\n",
              "    </tr>\n",
              "  </tbody>\n",
              "</table>\n",
              "<p>258 rows × 3 columns</p>\n",
              "</div>\n",
              "      <button class=\"colab-df-convert\" onclick=\"convertToInteractive('df-80866bd1-b6b4-408a-81bb-1758175ef961')\"\n",
              "              title=\"Convert this dataframe to an interactive table.\"\n",
              "              style=\"display:none;\">\n",
              "        \n",
              "  <svg xmlns=\"http://www.w3.org/2000/svg\" height=\"24px\"viewBox=\"0 0 24 24\"\n",
              "       width=\"24px\">\n",
              "    <path d=\"M0 0h24v24H0V0z\" fill=\"none\"/>\n",
              "    <path d=\"M18.56 5.44l.94 2.06.94-2.06 2.06-.94-2.06-.94-.94-2.06-.94 2.06-2.06.94zm-11 1L8.5 8.5l.94-2.06 2.06-.94-2.06-.94L8.5 2.5l-.94 2.06-2.06.94zm10 10l.94 2.06.94-2.06 2.06-.94-2.06-.94-.94-2.06-.94 2.06-2.06.94z\"/><path d=\"M17.41 7.96l-1.37-1.37c-.4-.4-.92-.59-1.43-.59-.52 0-1.04.2-1.43.59L10.3 9.45l-7.72 7.72c-.78.78-.78 2.05 0 2.83L4 21.41c.39.39.9.59 1.41.59.51 0 1.02-.2 1.41-.59l7.78-7.78 2.81-2.81c.8-.78.8-2.07 0-2.86zM5.41 20L4 18.59l7.72-7.72 1.47 1.35L5.41 20z\"/>\n",
              "  </svg>\n",
              "      </button>\n",
              "      \n",
              "  <style>\n",
              "    .colab-df-container {\n",
              "      display:flex;\n",
              "      flex-wrap:wrap;\n",
              "      gap: 12px;\n",
              "    }\n",
              "\n",
              "    .colab-df-convert {\n",
              "      background-color: #E8F0FE;\n",
              "      border: none;\n",
              "      border-radius: 50%;\n",
              "      cursor: pointer;\n",
              "      display: none;\n",
              "      fill: #1967D2;\n",
              "      height: 32px;\n",
              "      padding: 0 0 0 0;\n",
              "      width: 32px;\n",
              "    }\n",
              "\n",
              "    .colab-df-convert:hover {\n",
              "      background-color: #E2EBFA;\n",
              "      box-shadow: 0px 1px 2px rgba(60, 64, 67, 0.3), 0px 1px 3px 1px rgba(60, 64, 67, 0.15);\n",
              "      fill: #174EA6;\n",
              "    }\n",
              "\n",
              "    [theme=dark] .colab-df-convert {\n",
              "      background-color: #3B4455;\n",
              "      fill: #D2E3FC;\n",
              "    }\n",
              "\n",
              "    [theme=dark] .colab-df-convert:hover {\n",
              "      background-color: #434B5C;\n",
              "      box-shadow: 0px 1px 3px 1px rgba(0, 0, 0, 0.15);\n",
              "      filter: drop-shadow(0px 1px 2px rgba(0, 0, 0, 0.3));\n",
              "      fill: #FFFFFF;\n",
              "    }\n",
              "  </style>\n",
              "\n",
              "      <script>\n",
              "        const buttonEl =\n",
              "          document.querySelector('#df-80866bd1-b6b4-408a-81bb-1758175ef961 button.colab-df-convert');\n",
              "        buttonEl.style.display =\n",
              "          google.colab.kernel.accessAllowed ? 'block' : 'none';\n",
              "\n",
              "        async function convertToInteractive(key) {\n",
              "          const element = document.querySelector('#df-80866bd1-b6b4-408a-81bb-1758175ef961');\n",
              "          const dataTable =\n",
              "            await google.colab.kernel.invokeFunction('convertToInteractive',\n",
              "                                                     [key], {});\n",
              "          if (!dataTable) return;\n",
              "\n",
              "          const docLinkHtml = 'Like what you see? Visit the ' +\n",
              "            '<a target=\"_blank\" href=https://colab.research.google.com/notebooks/data_table.ipynb>data table notebook</a>'\n",
              "            + ' to learn more about interactive tables.';\n",
              "          element.innerHTML = '';\n",
              "          dataTable['output_type'] = 'display_data';\n",
              "          await google.colab.output.renderOutput(dataTable, element);\n",
              "          const docLink = document.createElement('div');\n",
              "          docLink.innerHTML = docLinkHtml;\n",
              "          element.appendChild(docLink);\n",
              "        }\n",
              "      </script>\n",
              "    </div>\n",
              "  </div>\n",
              "  "
            ]
          },
          "metadata": {},
          "execution_count": 36
        }
      ]
    },
    {
      "cell_type": "markdown",
      "metadata": {
        "id": "eAbwq1oLD1BW"
      },
      "source": [
        "# 5.3 Queries com DataFrames"
      ]
    },
    {
      "cell_type": "code",
      "execution_count": 37,
      "metadata": {
        "id": "AOZTWzehD1BW",
        "scrolled": true,
        "outputId": "a44cd185-fbd7-4c89-ae88-b20f5232018b",
        "colab": {
          "base_uri": "https://localhost:8080/"
        }
      },
      "outputs": [
        {
          "output_type": "execute_result",
          "data": {
            "text/plain": [
              "Nome\n",
              "Jetta Variant                  Motor 4.0 Turbo\n",
              "Passat                            Motor Diesel\n",
              "Crossfox                       Motor Diesel V8\n",
              "DS5                            Motor 2.4 Turbo\n",
              "Aston Martin DB4               Motor 2.4 Turbo\n",
              "                                 ...          \n",
              "Phantom 2013                          Motor V8\n",
              "Cadillac Ciel concept                 Motor V8\n",
              "Classe GLK               Motor 5.0 V8 Bi-Turbo\n",
              "Aston Martin DB5                  Motor Diesel\n",
              "Macan                          Motor Diesel V6\n",
              "Name: Motor, Length: 258, dtype: object"
            ]
          },
          "metadata": {},
          "execution_count": 37
        }
      ],
      "source": [
        "dataset.Motor"
      ]
    },
    {
      "cell_type": "code",
      "execution_count": 40,
      "metadata": {
        "id": "rO5T4h94D1BX",
        "scrolled": true
      },
      "outputs": [],
      "source": [
        "select = dataset.Motor == 'Motor Diesel'"
      ]
    },
    {
      "cell_type": "code",
      "execution_count": 42,
      "metadata": {
        "id": "STZ-l8oaD1BX",
        "outputId": "96ffe85e-cc93-4e7d-9fbb-813a8141c66d",
        "colab": {
          "base_uri": "https://localhost:8080/"
        }
      },
      "outputs": [
        {
          "output_type": "execute_result",
          "data": {
            "text/plain": [
              "pandas.core.series.Series"
            ]
          },
          "metadata": {},
          "execution_count": 42
        }
      ],
      "source": [
        "type(select)"
      ]
    },
    {
      "cell_type": "code",
      "execution_count": 43,
      "metadata": {
        "id": "OZC8NAn6D1BX",
        "outputId": "d24cabc8-3609-4142-fa42-11eadd54807c",
        "colab": {
          "base_uri": "https://localhost:8080/",
          "height": 895
        }
      },
      "outputs": [
        {
          "output_type": "execute_result",
          "data": {
            "text/plain": [
              "                              Motor   Ano  Quilometragem  Zero_km  \\\n",
              "Nome                                                                \n",
              "Passat                 Motor Diesel  1991         5712.0    False   \n",
              "Effa Hafei Picape Baú  Motor Diesel  1991       102959.0    False   \n",
              "Sorento                Motor Diesel  2019            NaN     True   \n",
              "New Fiesta Hatch       Motor Diesel  2017       118895.0    False   \n",
              "Kangoo Express         Motor Diesel  2007        29132.0    False   \n",
              "Fit                    Motor Diesel  2013        44329.0    False   \n",
              "Cielo Hatch            Motor Diesel  2019            NaN     True   \n",
              "Symbol                 Motor Diesel  2016       117714.0    False   \n",
              "A4 Sedan               Motor Diesel  2002        30511.0    False   \n",
              "A4 Avant               Motor Diesel  2014        17357.0    False   \n",
              "Silver Shadow          Motor Diesel  2015        99052.0    False   \n",
              "Camry                  Motor Diesel  2019            NaN     True   \n",
              "Clio                   Motor Diesel  1990        66437.0    False   \n",
              "Série 3 M3 Coupé       Motor Diesel  2013        19896.0    False   \n",
              "Gallardo LP 560 – 4    Motor Diesel  2000       113045.0    False   \n",
              "Chana Utility          Motor Diesel  2009        52034.0    False   \n",
              "TT Roadster            Motor Diesel  1998       107392.0    False   \n",
              "Aston Martin Virage    Motor Diesel  2019            NaN     True   \n",
              "Sandero                Motor Diesel  2015        34783.0    False   \n",
              "XKR                    Motor Diesel  1996        85127.0    False   \n",
              "X5                     Motor Diesel  2002        13606.0    False   \n",
              "Dodge Dakota           Motor Diesel  1993        71544.0    False   \n",
              "i30 CW                 Motor Diesel  2015         8497.0    False   \n",
              "Série 7 Sedã           Motor Diesel  2019            NaN     True   \n",
              "V60                    Motor Diesel  2004        91840.0    False   \n",
              "Aston Martin DB5       Motor Diesel  1996         7685.0    False   \n",
              "\n",
              "                                                              Acessórios  \\\n",
              "Nome                                                                       \n",
              "Passat                 ['Central multimídia', 'Teto panorâmico', 'Fre...   \n",
              "Effa Hafei Picape Baú  ['Controle de estabilidade', 'Painel digital',...   \n",
              "Sorento                ['Sensor de chuva', 'Câmera de estacionamento'...   \n",
              "New Fiesta Hatch       ['Sensor de estacionamento', 'Travas elétricas...   \n",
              "Kangoo Express         ['Bancos de couro', 'Câmbio automático', 'Pilo...   \n",
              "Fit                    ['Freios ABS', 'Câmera de estacionamento', 'Câ...   \n",
              "Cielo Hatch            ['Painel digital', 'Central multimídia', 'Câme...   \n",
              "Symbol                 ['4 X 4', 'Piloto automático', 'Sensor crepusc...   \n",
              "A4 Sedan               ['Câmera de estacionamento', '4 X 4', 'Travas ...   \n",
              "A4 Avant               ['Teto panorâmico', '4 X 4', 'Bancos de couro'...   \n",
              "Silver Shadow          ['4 X 4', 'Central multimídia', 'Ar condiciona...   \n",
              "Camry                  ['Travas elétricas', 'Rodas de liga', 'Sensor ...   \n",
              "Clio                   ['4 X 4', 'Câmbio automático', 'Freios ABS', '...   \n",
              "Série 3 M3 Coupé       ['Bancos de couro', 'Sensor de chuva', 'Ar con...   \n",
              "Gallardo LP 560 – 4    ['Freios ABS', 'Teto panorâmico', 'Central mul...   \n",
              "Chana Utility          ['Ar condicionado', 'Sensor de estacionamento'...   \n",
              "TT Roadster            ['Ar condicionado', 'Sensor de estacionamento'...   \n",
              "Aston Martin Virage    ['Travas elétricas', 'Controle de tração', 'Câ...   \n",
              "Sandero                ['Piloto automático', 'Teto panorâmico', 'Câmb...   \n",
              "XKR                    ['Controle de tração', 'Ar condicionado', 'Tra...   \n",
              "X5                     ['Controle de tração', 'Piloto automático', 'T...   \n",
              "Dodge Dakota           ['Controle de tração', 'Sensor de estacionamen...   \n",
              "i30 CW                 ['Sensor de chuva', 'Vidros elétricos', 'Contr...   \n",
              "Série 7 Sedã           ['Vidros elétricos', 'Travas elétricas', 'Roda...   \n",
              "V60                    ['Rodas de liga', 'Sensor crepuscular', 'Ar co...   \n",
              "Aston Martin DB5       ['Ar condicionado', '4 X 4', 'Câmbio automátic...   \n",
              "\n",
              "                           Valor  \n",
              "Nome                              \n",
              "Passat                 106161.94  \n",
              "Effa Hafei Picape Baú  125684.65  \n",
              "Sorento                 81399.35  \n",
              "New Fiesta Hatch        66007.16  \n",
              "Kangoo Express         146716.91  \n",
              "Fit                     77836.23  \n",
              "Cielo Hatch            145197.70  \n",
              "Symbol                 133030.60  \n",
              "A4 Sedan                96369.04  \n",
              "A4 Avant               138946.88  \n",
              "Silver Shadow          143568.22  \n",
              "Camry                  138597.27  \n",
              "Clio                   111130.33  \n",
              "Série 3 M3 Coupé        69219.89  \n",
              "Gallardo LP 560 – 4    144118.91  \n",
              "Chana Utility          132662.32  \n",
              "TT Roadster             85311.40  \n",
              "Aston Martin Virage     97290.18  \n",
              "Sandero                112350.61  \n",
              "XKR                     54263.16  \n",
              "X5                      62041.32  \n",
              "Dodge Dakota           141083.35  \n",
              "i30 CW                  73311.75  \n",
              "Série 7 Sedã            67539.79  \n",
              "V60                    114728.74  \n",
              "Aston Martin DB5       122110.90  "
            ],
            "text/html": [
              "\n",
              "  <div id=\"df-dfd63361-4823-4d12-b4b8-d2f36c7711b0\">\n",
              "    <div class=\"colab-df-container\">\n",
              "      <div>\n",
              "<style scoped>\n",
              "    .dataframe tbody tr th:only-of-type {\n",
              "        vertical-align: middle;\n",
              "    }\n",
              "\n",
              "    .dataframe tbody tr th {\n",
              "        vertical-align: top;\n",
              "    }\n",
              "\n",
              "    .dataframe thead th {\n",
              "        text-align: right;\n",
              "    }\n",
              "</style>\n",
              "<table border=\"1\" class=\"dataframe\">\n",
              "  <thead>\n",
              "    <tr style=\"text-align: right;\">\n",
              "      <th></th>\n",
              "      <th>Motor</th>\n",
              "      <th>Ano</th>\n",
              "      <th>Quilometragem</th>\n",
              "      <th>Zero_km</th>\n",
              "      <th>Acessórios</th>\n",
              "      <th>Valor</th>\n",
              "    </tr>\n",
              "    <tr>\n",
              "      <th>Nome</th>\n",
              "      <th></th>\n",
              "      <th></th>\n",
              "      <th></th>\n",
              "      <th></th>\n",
              "      <th></th>\n",
              "      <th></th>\n",
              "    </tr>\n",
              "  </thead>\n",
              "  <tbody>\n",
              "    <tr>\n",
              "      <th>Passat</th>\n",
              "      <td>Motor Diesel</td>\n",
              "      <td>1991</td>\n",
              "      <td>5712.0</td>\n",
              "      <td>False</td>\n",
              "      <td>['Central multimídia', 'Teto panorâmico', 'Fre...</td>\n",
              "      <td>106161.94</td>\n",
              "    </tr>\n",
              "    <tr>\n",
              "      <th>Effa Hafei Picape Baú</th>\n",
              "      <td>Motor Diesel</td>\n",
              "      <td>1991</td>\n",
              "      <td>102959.0</td>\n",
              "      <td>False</td>\n",
              "      <td>['Controle de estabilidade', 'Painel digital',...</td>\n",
              "      <td>125684.65</td>\n",
              "    </tr>\n",
              "    <tr>\n",
              "      <th>Sorento</th>\n",
              "      <td>Motor Diesel</td>\n",
              "      <td>2019</td>\n",
              "      <td>NaN</td>\n",
              "      <td>True</td>\n",
              "      <td>['Sensor de chuva', 'Câmera de estacionamento'...</td>\n",
              "      <td>81399.35</td>\n",
              "    </tr>\n",
              "    <tr>\n",
              "      <th>New Fiesta Hatch</th>\n",
              "      <td>Motor Diesel</td>\n",
              "      <td>2017</td>\n",
              "      <td>118895.0</td>\n",
              "      <td>False</td>\n",
              "      <td>['Sensor de estacionamento', 'Travas elétricas...</td>\n",
              "      <td>66007.16</td>\n",
              "    </tr>\n",
              "    <tr>\n",
              "      <th>Kangoo Express</th>\n",
              "      <td>Motor Diesel</td>\n",
              "      <td>2007</td>\n",
              "      <td>29132.0</td>\n",
              "      <td>False</td>\n",
              "      <td>['Bancos de couro', 'Câmbio automático', 'Pilo...</td>\n",
              "      <td>146716.91</td>\n",
              "    </tr>\n",
              "    <tr>\n",
              "      <th>Fit</th>\n",
              "      <td>Motor Diesel</td>\n",
              "      <td>2013</td>\n",
              "      <td>44329.0</td>\n",
              "      <td>False</td>\n",
              "      <td>['Freios ABS', 'Câmera de estacionamento', 'Câ...</td>\n",
              "      <td>77836.23</td>\n",
              "    </tr>\n",
              "    <tr>\n",
              "      <th>Cielo Hatch</th>\n",
              "      <td>Motor Diesel</td>\n",
              "      <td>2019</td>\n",
              "      <td>NaN</td>\n",
              "      <td>True</td>\n",
              "      <td>['Painel digital', 'Central multimídia', 'Câme...</td>\n",
              "      <td>145197.70</td>\n",
              "    </tr>\n",
              "    <tr>\n",
              "      <th>Symbol</th>\n",
              "      <td>Motor Diesel</td>\n",
              "      <td>2016</td>\n",
              "      <td>117714.0</td>\n",
              "      <td>False</td>\n",
              "      <td>['4 X 4', 'Piloto automático', 'Sensor crepusc...</td>\n",
              "      <td>133030.60</td>\n",
              "    </tr>\n",
              "    <tr>\n",
              "      <th>A4 Sedan</th>\n",
              "      <td>Motor Diesel</td>\n",
              "      <td>2002</td>\n",
              "      <td>30511.0</td>\n",
              "      <td>False</td>\n",
              "      <td>['Câmera de estacionamento', '4 X 4', 'Travas ...</td>\n",
              "      <td>96369.04</td>\n",
              "    </tr>\n",
              "    <tr>\n",
              "      <th>A4 Avant</th>\n",
              "      <td>Motor Diesel</td>\n",
              "      <td>2014</td>\n",
              "      <td>17357.0</td>\n",
              "      <td>False</td>\n",
              "      <td>['Teto panorâmico', '4 X 4', 'Bancos de couro'...</td>\n",
              "      <td>138946.88</td>\n",
              "    </tr>\n",
              "    <tr>\n",
              "      <th>Silver Shadow</th>\n",
              "      <td>Motor Diesel</td>\n",
              "      <td>2015</td>\n",
              "      <td>99052.0</td>\n",
              "      <td>False</td>\n",
              "      <td>['4 X 4', 'Central multimídia', 'Ar condiciona...</td>\n",
              "      <td>143568.22</td>\n",
              "    </tr>\n",
              "    <tr>\n",
              "      <th>Camry</th>\n",
              "      <td>Motor Diesel</td>\n",
              "      <td>2019</td>\n",
              "      <td>NaN</td>\n",
              "      <td>True</td>\n",
              "      <td>['Travas elétricas', 'Rodas de liga', 'Sensor ...</td>\n",
              "      <td>138597.27</td>\n",
              "    </tr>\n",
              "    <tr>\n",
              "      <th>Clio</th>\n",
              "      <td>Motor Diesel</td>\n",
              "      <td>1990</td>\n",
              "      <td>66437.0</td>\n",
              "      <td>False</td>\n",
              "      <td>['4 X 4', 'Câmbio automático', 'Freios ABS', '...</td>\n",
              "      <td>111130.33</td>\n",
              "    </tr>\n",
              "    <tr>\n",
              "      <th>Série 3 M3 Coupé</th>\n",
              "      <td>Motor Diesel</td>\n",
              "      <td>2013</td>\n",
              "      <td>19896.0</td>\n",
              "      <td>False</td>\n",
              "      <td>['Bancos de couro', 'Sensor de chuva', 'Ar con...</td>\n",
              "      <td>69219.89</td>\n",
              "    </tr>\n",
              "    <tr>\n",
              "      <th>Gallardo LP 560 – 4</th>\n",
              "      <td>Motor Diesel</td>\n",
              "      <td>2000</td>\n",
              "      <td>113045.0</td>\n",
              "      <td>False</td>\n",
              "      <td>['Freios ABS', 'Teto panorâmico', 'Central mul...</td>\n",
              "      <td>144118.91</td>\n",
              "    </tr>\n",
              "    <tr>\n",
              "      <th>Chana Utility</th>\n",
              "      <td>Motor Diesel</td>\n",
              "      <td>2009</td>\n",
              "      <td>52034.0</td>\n",
              "      <td>False</td>\n",
              "      <td>['Ar condicionado', 'Sensor de estacionamento'...</td>\n",
              "      <td>132662.32</td>\n",
              "    </tr>\n",
              "    <tr>\n",
              "      <th>TT Roadster</th>\n",
              "      <td>Motor Diesel</td>\n",
              "      <td>1998</td>\n",
              "      <td>107392.0</td>\n",
              "      <td>False</td>\n",
              "      <td>['Ar condicionado', 'Sensor de estacionamento'...</td>\n",
              "      <td>85311.40</td>\n",
              "    </tr>\n",
              "    <tr>\n",
              "      <th>Aston Martin Virage</th>\n",
              "      <td>Motor Diesel</td>\n",
              "      <td>2019</td>\n",
              "      <td>NaN</td>\n",
              "      <td>True</td>\n",
              "      <td>['Travas elétricas', 'Controle de tração', 'Câ...</td>\n",
              "      <td>97290.18</td>\n",
              "    </tr>\n",
              "    <tr>\n",
              "      <th>Sandero</th>\n",
              "      <td>Motor Diesel</td>\n",
              "      <td>2015</td>\n",
              "      <td>34783.0</td>\n",
              "      <td>False</td>\n",
              "      <td>['Piloto automático', 'Teto panorâmico', 'Câmb...</td>\n",
              "      <td>112350.61</td>\n",
              "    </tr>\n",
              "    <tr>\n",
              "      <th>XKR</th>\n",
              "      <td>Motor Diesel</td>\n",
              "      <td>1996</td>\n",
              "      <td>85127.0</td>\n",
              "      <td>False</td>\n",
              "      <td>['Controle de tração', 'Ar condicionado', 'Tra...</td>\n",
              "      <td>54263.16</td>\n",
              "    </tr>\n",
              "    <tr>\n",
              "      <th>X5</th>\n",
              "      <td>Motor Diesel</td>\n",
              "      <td>2002</td>\n",
              "      <td>13606.0</td>\n",
              "      <td>False</td>\n",
              "      <td>['Controle de tração', 'Piloto automático', 'T...</td>\n",
              "      <td>62041.32</td>\n",
              "    </tr>\n",
              "    <tr>\n",
              "      <th>Dodge Dakota</th>\n",
              "      <td>Motor Diesel</td>\n",
              "      <td>1993</td>\n",
              "      <td>71544.0</td>\n",
              "      <td>False</td>\n",
              "      <td>['Controle de tração', 'Sensor de estacionamen...</td>\n",
              "      <td>141083.35</td>\n",
              "    </tr>\n",
              "    <tr>\n",
              "      <th>i30 CW</th>\n",
              "      <td>Motor Diesel</td>\n",
              "      <td>2015</td>\n",
              "      <td>8497.0</td>\n",
              "      <td>False</td>\n",
              "      <td>['Sensor de chuva', 'Vidros elétricos', 'Contr...</td>\n",
              "      <td>73311.75</td>\n",
              "    </tr>\n",
              "    <tr>\n",
              "      <th>Série 7 Sedã</th>\n",
              "      <td>Motor Diesel</td>\n",
              "      <td>2019</td>\n",
              "      <td>NaN</td>\n",
              "      <td>True</td>\n",
              "      <td>['Vidros elétricos', 'Travas elétricas', 'Roda...</td>\n",
              "      <td>67539.79</td>\n",
              "    </tr>\n",
              "    <tr>\n",
              "      <th>V60</th>\n",
              "      <td>Motor Diesel</td>\n",
              "      <td>2004</td>\n",
              "      <td>91840.0</td>\n",
              "      <td>False</td>\n",
              "      <td>['Rodas de liga', 'Sensor crepuscular', 'Ar co...</td>\n",
              "      <td>114728.74</td>\n",
              "    </tr>\n",
              "    <tr>\n",
              "      <th>Aston Martin DB5</th>\n",
              "      <td>Motor Diesel</td>\n",
              "      <td>1996</td>\n",
              "      <td>7685.0</td>\n",
              "      <td>False</td>\n",
              "      <td>['Ar condicionado', '4 X 4', 'Câmbio automátic...</td>\n",
              "      <td>122110.90</td>\n",
              "    </tr>\n",
              "  </tbody>\n",
              "</table>\n",
              "</div>\n",
              "      <button class=\"colab-df-convert\" onclick=\"convertToInteractive('df-dfd63361-4823-4d12-b4b8-d2f36c7711b0')\"\n",
              "              title=\"Convert this dataframe to an interactive table.\"\n",
              "              style=\"display:none;\">\n",
              "        \n",
              "  <svg xmlns=\"http://www.w3.org/2000/svg\" height=\"24px\"viewBox=\"0 0 24 24\"\n",
              "       width=\"24px\">\n",
              "    <path d=\"M0 0h24v24H0V0z\" fill=\"none\"/>\n",
              "    <path d=\"M18.56 5.44l.94 2.06.94-2.06 2.06-.94-2.06-.94-.94-2.06-.94 2.06-2.06.94zm-11 1L8.5 8.5l.94-2.06 2.06-.94-2.06-.94L8.5 2.5l-.94 2.06-2.06.94zm10 10l.94 2.06.94-2.06 2.06-.94-2.06-.94-.94-2.06-.94 2.06-2.06.94z\"/><path d=\"M17.41 7.96l-1.37-1.37c-.4-.4-.92-.59-1.43-.59-.52 0-1.04.2-1.43.59L10.3 9.45l-7.72 7.72c-.78.78-.78 2.05 0 2.83L4 21.41c.39.39.9.59 1.41.59.51 0 1.02-.2 1.41-.59l7.78-7.78 2.81-2.81c.8-.78.8-2.07 0-2.86zM5.41 20L4 18.59l7.72-7.72 1.47 1.35L5.41 20z\"/>\n",
              "  </svg>\n",
              "      </button>\n",
              "      \n",
              "  <style>\n",
              "    .colab-df-container {\n",
              "      display:flex;\n",
              "      flex-wrap:wrap;\n",
              "      gap: 12px;\n",
              "    }\n",
              "\n",
              "    .colab-df-convert {\n",
              "      background-color: #E8F0FE;\n",
              "      border: none;\n",
              "      border-radius: 50%;\n",
              "      cursor: pointer;\n",
              "      display: none;\n",
              "      fill: #1967D2;\n",
              "      height: 32px;\n",
              "      padding: 0 0 0 0;\n",
              "      width: 32px;\n",
              "    }\n",
              "\n",
              "    .colab-df-convert:hover {\n",
              "      background-color: #E2EBFA;\n",
              "      box-shadow: 0px 1px 2px rgba(60, 64, 67, 0.3), 0px 1px 3px 1px rgba(60, 64, 67, 0.15);\n",
              "      fill: #174EA6;\n",
              "    }\n",
              "\n",
              "    [theme=dark] .colab-df-convert {\n",
              "      background-color: #3B4455;\n",
              "      fill: #D2E3FC;\n",
              "    }\n",
              "\n",
              "    [theme=dark] .colab-df-convert:hover {\n",
              "      background-color: #434B5C;\n",
              "      box-shadow: 0px 1px 3px 1px rgba(0, 0, 0, 0.15);\n",
              "      filter: drop-shadow(0px 1px 2px rgba(0, 0, 0, 0.3));\n",
              "      fill: #FFFFFF;\n",
              "    }\n",
              "  </style>\n",
              "\n",
              "      <script>\n",
              "        const buttonEl =\n",
              "          document.querySelector('#df-dfd63361-4823-4d12-b4b8-d2f36c7711b0 button.colab-df-convert');\n",
              "        buttonEl.style.display =\n",
              "          google.colab.kernel.accessAllowed ? 'block' : 'none';\n",
              "\n",
              "        async function convertToInteractive(key) {\n",
              "          const element = document.querySelector('#df-dfd63361-4823-4d12-b4b8-d2f36c7711b0');\n",
              "          const dataTable =\n",
              "            await google.colab.kernel.invokeFunction('convertToInteractive',\n",
              "                                                     [key], {});\n",
              "          if (!dataTable) return;\n",
              "\n",
              "          const docLinkHtml = 'Like what you see? Visit the ' +\n",
              "            '<a target=\"_blank\" href=https://colab.research.google.com/notebooks/data_table.ipynb>data table notebook</a>'\n",
              "            + ' to learn more about interactive tables.';\n",
              "          element.innerHTML = '';\n",
              "          dataTable['output_type'] = 'display_data';\n",
              "          await google.colab.output.renderOutput(dataTable, element);\n",
              "          const docLink = document.createElement('div');\n",
              "          docLink.innerHTML = docLinkHtml;\n",
              "          element.appendChild(docLink);\n",
              "        }\n",
              "      </script>\n",
              "    </div>\n",
              "  </div>\n",
              "  "
            ]
          },
          "metadata": {},
          "execution_count": 43
        }
      ],
      "source": [
        "dataset[select]"
      ]
    },
    {
      "cell_type": "code",
      "execution_count": 45,
      "metadata": {
        "id": "OzXC2M40D1BY",
        "scrolled": true,
        "outputId": "52a83ee2-f5a9-4cfb-8731-7f3c261952f3",
        "colab": {
          "base_uri": "https://localhost:8080/",
          "height": 237
        }
      },
      "outputs": [
        {
          "output_type": "execute_result",
          "data": {
            "text/plain": [
              "                            Motor   Ano  Quilometragem  Zero_km  \\\n",
              "Nome                                                              \n",
              "Sorento              Motor Diesel  2019            NaN     True   \n",
              "Cielo Hatch          Motor Diesel  2019            NaN     True   \n",
              "Camry                Motor Diesel  2019            NaN     True   \n",
              "Aston Martin Virage  Motor Diesel  2019            NaN     True   \n",
              "Série 7 Sedã         Motor Diesel  2019            NaN     True   \n",
              "\n",
              "                                                            Acessórios  \\\n",
              "Nome                                                                     \n",
              "Sorento              ['Sensor de chuva', 'Câmera de estacionamento'...   \n",
              "Cielo Hatch          ['Painel digital', 'Central multimídia', 'Câme...   \n",
              "Camry                ['Travas elétricas', 'Rodas de liga', 'Sensor ...   \n",
              "Aston Martin Virage  ['Travas elétricas', 'Controle de tração', 'Câ...   \n",
              "Série 7 Sedã         ['Vidros elétricos', 'Travas elétricas', 'Roda...   \n",
              "\n",
              "                         Valor  \n",
              "Nome                            \n",
              "Sorento               81399.35  \n",
              "Cielo Hatch          145197.70  \n",
              "Camry                138597.27  \n",
              "Aston Martin Virage   97290.18  \n",
              "Série 7 Sedã          67539.79  "
            ],
            "text/html": [
              "\n",
              "  <div id=\"df-9a50f256-4e93-44f1-b602-806e74087e5b\">\n",
              "    <div class=\"colab-df-container\">\n",
              "      <div>\n",
              "<style scoped>\n",
              "    .dataframe tbody tr th:only-of-type {\n",
              "        vertical-align: middle;\n",
              "    }\n",
              "\n",
              "    .dataframe tbody tr th {\n",
              "        vertical-align: top;\n",
              "    }\n",
              "\n",
              "    .dataframe thead th {\n",
              "        text-align: right;\n",
              "    }\n",
              "</style>\n",
              "<table border=\"1\" class=\"dataframe\">\n",
              "  <thead>\n",
              "    <tr style=\"text-align: right;\">\n",
              "      <th></th>\n",
              "      <th>Motor</th>\n",
              "      <th>Ano</th>\n",
              "      <th>Quilometragem</th>\n",
              "      <th>Zero_km</th>\n",
              "      <th>Acessórios</th>\n",
              "      <th>Valor</th>\n",
              "    </tr>\n",
              "    <tr>\n",
              "      <th>Nome</th>\n",
              "      <th></th>\n",
              "      <th></th>\n",
              "      <th></th>\n",
              "      <th></th>\n",
              "      <th></th>\n",
              "      <th></th>\n",
              "    </tr>\n",
              "  </thead>\n",
              "  <tbody>\n",
              "    <tr>\n",
              "      <th>Sorento</th>\n",
              "      <td>Motor Diesel</td>\n",
              "      <td>2019</td>\n",
              "      <td>NaN</td>\n",
              "      <td>True</td>\n",
              "      <td>['Sensor de chuva', 'Câmera de estacionamento'...</td>\n",
              "      <td>81399.35</td>\n",
              "    </tr>\n",
              "    <tr>\n",
              "      <th>Cielo Hatch</th>\n",
              "      <td>Motor Diesel</td>\n",
              "      <td>2019</td>\n",
              "      <td>NaN</td>\n",
              "      <td>True</td>\n",
              "      <td>['Painel digital', 'Central multimídia', 'Câme...</td>\n",
              "      <td>145197.70</td>\n",
              "    </tr>\n",
              "    <tr>\n",
              "      <th>Camry</th>\n",
              "      <td>Motor Diesel</td>\n",
              "      <td>2019</td>\n",
              "      <td>NaN</td>\n",
              "      <td>True</td>\n",
              "      <td>['Travas elétricas', 'Rodas de liga', 'Sensor ...</td>\n",
              "      <td>138597.27</td>\n",
              "    </tr>\n",
              "    <tr>\n",
              "      <th>Aston Martin Virage</th>\n",
              "      <td>Motor Diesel</td>\n",
              "      <td>2019</td>\n",
              "      <td>NaN</td>\n",
              "      <td>True</td>\n",
              "      <td>['Travas elétricas', 'Controle de tração', 'Câ...</td>\n",
              "      <td>97290.18</td>\n",
              "    </tr>\n",
              "    <tr>\n",
              "      <th>Série 7 Sedã</th>\n",
              "      <td>Motor Diesel</td>\n",
              "      <td>2019</td>\n",
              "      <td>NaN</td>\n",
              "      <td>True</td>\n",
              "      <td>['Vidros elétricos', 'Travas elétricas', 'Roda...</td>\n",
              "      <td>67539.79</td>\n",
              "    </tr>\n",
              "  </tbody>\n",
              "</table>\n",
              "</div>\n",
              "      <button class=\"colab-df-convert\" onclick=\"convertToInteractive('df-9a50f256-4e93-44f1-b602-806e74087e5b')\"\n",
              "              title=\"Convert this dataframe to an interactive table.\"\n",
              "              style=\"display:none;\">\n",
              "        \n",
              "  <svg xmlns=\"http://www.w3.org/2000/svg\" height=\"24px\"viewBox=\"0 0 24 24\"\n",
              "       width=\"24px\">\n",
              "    <path d=\"M0 0h24v24H0V0z\" fill=\"none\"/>\n",
              "    <path d=\"M18.56 5.44l.94 2.06.94-2.06 2.06-.94-2.06-.94-.94-2.06-.94 2.06-2.06.94zm-11 1L8.5 8.5l.94-2.06 2.06-.94-2.06-.94L8.5 2.5l-.94 2.06-2.06.94zm10 10l.94 2.06.94-2.06 2.06-.94-2.06-.94-.94-2.06-.94 2.06-2.06.94z\"/><path d=\"M17.41 7.96l-1.37-1.37c-.4-.4-.92-.59-1.43-.59-.52 0-1.04.2-1.43.59L10.3 9.45l-7.72 7.72c-.78.78-.78 2.05 0 2.83L4 21.41c.39.39.9.59 1.41.59.51 0 1.02-.2 1.41-.59l7.78-7.78 2.81-2.81c.8-.78.8-2.07 0-2.86zM5.41 20L4 18.59l7.72-7.72 1.47 1.35L5.41 20z\"/>\n",
              "  </svg>\n",
              "      </button>\n",
              "      \n",
              "  <style>\n",
              "    .colab-df-container {\n",
              "      display:flex;\n",
              "      flex-wrap:wrap;\n",
              "      gap: 12px;\n",
              "    }\n",
              "\n",
              "    .colab-df-convert {\n",
              "      background-color: #E8F0FE;\n",
              "      border: none;\n",
              "      border-radius: 50%;\n",
              "      cursor: pointer;\n",
              "      display: none;\n",
              "      fill: #1967D2;\n",
              "      height: 32px;\n",
              "      padding: 0 0 0 0;\n",
              "      width: 32px;\n",
              "    }\n",
              "\n",
              "    .colab-df-convert:hover {\n",
              "      background-color: #E2EBFA;\n",
              "      box-shadow: 0px 1px 2px rgba(60, 64, 67, 0.3), 0px 1px 3px 1px rgba(60, 64, 67, 0.15);\n",
              "      fill: #174EA6;\n",
              "    }\n",
              "\n",
              "    [theme=dark] .colab-df-convert {\n",
              "      background-color: #3B4455;\n",
              "      fill: #D2E3FC;\n",
              "    }\n",
              "\n",
              "    [theme=dark] .colab-df-convert:hover {\n",
              "      background-color: #434B5C;\n",
              "      box-shadow: 0px 1px 3px 1px rgba(0, 0, 0, 0.15);\n",
              "      filter: drop-shadow(0px 1px 2px rgba(0, 0, 0, 0.3));\n",
              "      fill: #FFFFFF;\n",
              "    }\n",
              "  </style>\n",
              "\n",
              "      <script>\n",
              "        const buttonEl =\n",
              "          document.querySelector('#df-9a50f256-4e93-44f1-b602-806e74087e5b button.colab-df-convert');\n",
              "        buttonEl.style.display =\n",
              "          google.colab.kernel.accessAllowed ? 'block' : 'none';\n",
              "\n",
              "        async function convertToInteractive(key) {\n",
              "          const element = document.querySelector('#df-9a50f256-4e93-44f1-b602-806e74087e5b');\n",
              "          const dataTable =\n",
              "            await google.colab.kernel.invokeFunction('convertToInteractive',\n",
              "                                                     [key], {});\n",
              "          if (!dataTable) return;\n",
              "\n",
              "          const docLinkHtml = 'Like what you see? Visit the ' +\n",
              "            '<a target=\"_blank\" href=https://colab.research.google.com/notebooks/data_table.ipynb>data table notebook</a>'\n",
              "            + ' to learn more about interactive tables.';\n",
              "          element.innerHTML = '';\n",
              "          dataTable['output_type'] = 'display_data';\n",
              "          await google.colab.output.renderOutput(dataTable, element);\n",
              "          const docLink = document.createElement('div');\n",
              "          docLink.innerHTML = docLinkHtml;\n",
              "          element.appendChild(docLink);\n",
              "        }\n",
              "      </script>\n",
              "    </div>\n",
              "  </div>\n",
              "  "
            ]
          },
          "metadata": {},
          "execution_count": 45
        }
      ],
      "source": [
        "dataset[(dataset.Motor == 'Motor Diesel') & (dataset.Zero_km == True)]"
      ]
    },
    {
      "cell_type": "code",
      "source": [
        "(dataset.Motor == 'Motor Diesel') & (dataset.Zero_km == True)"
      ],
      "metadata": {
        "id": "mg9cWR1gnI6c",
        "outputId": "6bd6abb3-4e28-4bf6-d6ce-7fc214c5c8b6",
        "colab": {
          "base_uri": "https://localhost:8080/"
        }
      },
      "execution_count": 46,
      "outputs": [
        {
          "output_type": "execute_result",
          "data": {
            "text/plain": [
              "Nome\n",
              "Jetta Variant            False\n",
              "Passat                   False\n",
              "Crossfox                 False\n",
              "DS5                      False\n",
              "Aston Martin DB4         False\n",
              "                         ...  \n",
              "Phantom 2013             False\n",
              "Cadillac Ciel concept    False\n",
              "Classe GLK               False\n",
              "Aston Martin DB5         False\n",
              "Macan                    False\n",
              "Length: 258, dtype: bool"
            ]
          },
          "metadata": {},
          "execution_count": 46
        }
      ]
    },
    {
      "cell_type": "markdown",
      "metadata": {
        "id": "_XKXcWO-D1BY"
      },
      "source": [
        "### Utilizando o método query"
      ]
    },
    {
      "cell_type": "code",
      "execution_count": 49,
      "metadata": {
        "id": "AB9JirSoD1BY",
        "outputId": "042baead-b79c-47fc-858a-ecf6344ec0f2",
        "colab": {
          "base_uri": "https://localhost:8080/",
          "height": 237
        }
      },
      "outputs": [
        {
          "output_type": "execute_result",
          "data": {
            "text/plain": [
              "                            Motor   Ano  Quilometragem  Zero_km  \\\n",
              "Nome                                                              \n",
              "Sorento              Motor Diesel  2019            NaN     True   \n",
              "Cielo Hatch          Motor Diesel  2019            NaN     True   \n",
              "Camry                Motor Diesel  2019            NaN     True   \n",
              "Aston Martin Virage  Motor Diesel  2019            NaN     True   \n",
              "Série 7 Sedã         Motor Diesel  2019            NaN     True   \n",
              "\n",
              "                                                            Acessórios  \\\n",
              "Nome                                                                     \n",
              "Sorento              ['Sensor de chuva', 'Câmera de estacionamento'...   \n",
              "Cielo Hatch          ['Painel digital', 'Central multimídia', 'Câme...   \n",
              "Camry                ['Travas elétricas', 'Rodas de liga', 'Sensor ...   \n",
              "Aston Martin Virage  ['Travas elétricas', 'Controle de tração', 'Câ...   \n",
              "Série 7 Sedã         ['Vidros elétricos', 'Travas elétricas', 'Roda...   \n",
              "\n",
              "                         Valor  \n",
              "Nome                            \n",
              "Sorento               81399.35  \n",
              "Cielo Hatch          145197.70  \n",
              "Camry                138597.27  \n",
              "Aston Martin Virage   97290.18  \n",
              "Série 7 Sedã          67539.79  "
            ],
            "text/html": [
              "\n",
              "  <div id=\"df-304d8723-d531-4a80-a39c-4b096fd68140\">\n",
              "    <div class=\"colab-df-container\">\n",
              "      <div>\n",
              "<style scoped>\n",
              "    .dataframe tbody tr th:only-of-type {\n",
              "        vertical-align: middle;\n",
              "    }\n",
              "\n",
              "    .dataframe tbody tr th {\n",
              "        vertical-align: top;\n",
              "    }\n",
              "\n",
              "    .dataframe thead th {\n",
              "        text-align: right;\n",
              "    }\n",
              "</style>\n",
              "<table border=\"1\" class=\"dataframe\">\n",
              "  <thead>\n",
              "    <tr style=\"text-align: right;\">\n",
              "      <th></th>\n",
              "      <th>Motor</th>\n",
              "      <th>Ano</th>\n",
              "      <th>Quilometragem</th>\n",
              "      <th>Zero_km</th>\n",
              "      <th>Acessórios</th>\n",
              "      <th>Valor</th>\n",
              "    </tr>\n",
              "    <tr>\n",
              "      <th>Nome</th>\n",
              "      <th></th>\n",
              "      <th></th>\n",
              "      <th></th>\n",
              "      <th></th>\n",
              "      <th></th>\n",
              "      <th></th>\n",
              "    </tr>\n",
              "  </thead>\n",
              "  <tbody>\n",
              "    <tr>\n",
              "      <th>Sorento</th>\n",
              "      <td>Motor Diesel</td>\n",
              "      <td>2019</td>\n",
              "      <td>NaN</td>\n",
              "      <td>True</td>\n",
              "      <td>['Sensor de chuva', 'Câmera de estacionamento'...</td>\n",
              "      <td>81399.35</td>\n",
              "    </tr>\n",
              "    <tr>\n",
              "      <th>Cielo Hatch</th>\n",
              "      <td>Motor Diesel</td>\n",
              "      <td>2019</td>\n",
              "      <td>NaN</td>\n",
              "      <td>True</td>\n",
              "      <td>['Painel digital', 'Central multimídia', 'Câme...</td>\n",
              "      <td>145197.70</td>\n",
              "    </tr>\n",
              "    <tr>\n",
              "      <th>Camry</th>\n",
              "      <td>Motor Diesel</td>\n",
              "      <td>2019</td>\n",
              "      <td>NaN</td>\n",
              "      <td>True</td>\n",
              "      <td>['Travas elétricas', 'Rodas de liga', 'Sensor ...</td>\n",
              "      <td>138597.27</td>\n",
              "    </tr>\n",
              "    <tr>\n",
              "      <th>Aston Martin Virage</th>\n",
              "      <td>Motor Diesel</td>\n",
              "      <td>2019</td>\n",
              "      <td>NaN</td>\n",
              "      <td>True</td>\n",
              "      <td>['Travas elétricas', 'Controle de tração', 'Câ...</td>\n",
              "      <td>97290.18</td>\n",
              "    </tr>\n",
              "    <tr>\n",
              "      <th>Série 7 Sedã</th>\n",
              "      <td>Motor Diesel</td>\n",
              "      <td>2019</td>\n",
              "      <td>NaN</td>\n",
              "      <td>True</td>\n",
              "      <td>['Vidros elétricos', 'Travas elétricas', 'Roda...</td>\n",
              "      <td>67539.79</td>\n",
              "    </tr>\n",
              "  </tbody>\n",
              "</table>\n",
              "</div>\n",
              "      <button class=\"colab-df-convert\" onclick=\"convertToInteractive('df-304d8723-d531-4a80-a39c-4b096fd68140')\"\n",
              "              title=\"Convert this dataframe to an interactive table.\"\n",
              "              style=\"display:none;\">\n",
              "        \n",
              "  <svg xmlns=\"http://www.w3.org/2000/svg\" height=\"24px\"viewBox=\"0 0 24 24\"\n",
              "       width=\"24px\">\n",
              "    <path d=\"M0 0h24v24H0V0z\" fill=\"none\"/>\n",
              "    <path d=\"M18.56 5.44l.94 2.06.94-2.06 2.06-.94-2.06-.94-.94-2.06-.94 2.06-2.06.94zm-11 1L8.5 8.5l.94-2.06 2.06-.94-2.06-.94L8.5 2.5l-.94 2.06-2.06.94zm10 10l.94 2.06.94-2.06 2.06-.94-2.06-.94-.94-2.06-.94 2.06-2.06.94z\"/><path d=\"M17.41 7.96l-1.37-1.37c-.4-.4-.92-.59-1.43-.59-.52 0-1.04.2-1.43.59L10.3 9.45l-7.72 7.72c-.78.78-.78 2.05 0 2.83L4 21.41c.39.39.9.59 1.41.59.51 0 1.02-.2 1.41-.59l7.78-7.78 2.81-2.81c.8-.78.8-2.07 0-2.86zM5.41 20L4 18.59l7.72-7.72 1.47 1.35L5.41 20z\"/>\n",
              "  </svg>\n",
              "      </button>\n",
              "      \n",
              "  <style>\n",
              "    .colab-df-container {\n",
              "      display:flex;\n",
              "      flex-wrap:wrap;\n",
              "      gap: 12px;\n",
              "    }\n",
              "\n",
              "    .colab-df-convert {\n",
              "      background-color: #E8F0FE;\n",
              "      border: none;\n",
              "      border-radius: 50%;\n",
              "      cursor: pointer;\n",
              "      display: none;\n",
              "      fill: #1967D2;\n",
              "      height: 32px;\n",
              "      padding: 0 0 0 0;\n",
              "      width: 32px;\n",
              "    }\n",
              "\n",
              "    .colab-df-convert:hover {\n",
              "      background-color: #E2EBFA;\n",
              "      box-shadow: 0px 1px 2px rgba(60, 64, 67, 0.3), 0px 1px 3px 1px rgba(60, 64, 67, 0.15);\n",
              "      fill: #174EA6;\n",
              "    }\n",
              "\n",
              "    [theme=dark] .colab-df-convert {\n",
              "      background-color: #3B4455;\n",
              "      fill: #D2E3FC;\n",
              "    }\n",
              "\n",
              "    [theme=dark] .colab-df-convert:hover {\n",
              "      background-color: #434B5C;\n",
              "      box-shadow: 0px 1px 3px 1px rgba(0, 0, 0, 0.15);\n",
              "      filter: drop-shadow(0px 1px 2px rgba(0, 0, 0, 0.3));\n",
              "      fill: #FFFFFF;\n",
              "    }\n",
              "  </style>\n",
              "\n",
              "      <script>\n",
              "        const buttonEl =\n",
              "          document.querySelector('#df-304d8723-d531-4a80-a39c-4b096fd68140 button.colab-df-convert');\n",
              "        buttonEl.style.display =\n",
              "          google.colab.kernel.accessAllowed ? 'block' : 'none';\n",
              "\n",
              "        async function convertToInteractive(key) {\n",
              "          const element = document.querySelector('#df-304d8723-d531-4a80-a39c-4b096fd68140');\n",
              "          const dataTable =\n",
              "            await google.colab.kernel.invokeFunction('convertToInteractive',\n",
              "                                                     [key], {});\n",
              "          if (!dataTable) return;\n",
              "\n",
              "          const docLinkHtml = 'Like what you see? Visit the ' +\n",
              "            '<a target=\"_blank\" href=https://colab.research.google.com/notebooks/data_table.ipynb>data table notebook</a>'\n",
              "            + ' to learn more about interactive tables.';\n",
              "          element.innerHTML = '';\n",
              "          dataTable['output_type'] = 'display_data';\n",
              "          await google.colab.output.renderOutput(dataTable, element);\n",
              "          const docLink = document.createElement('div');\n",
              "          docLink.innerHTML = docLinkHtml;\n",
              "          element.appendChild(docLink);\n",
              "        }\n",
              "      </script>\n",
              "    </div>\n",
              "  </div>\n",
              "  "
            ]
          },
          "metadata": {},
          "execution_count": 49
        }
      ],
      "source": [
        "dataset.query('Motor == \"Motor Diesel\" and Zero_km == True')"
      ]
    },
    {
      "cell_type": "markdown",
      "metadata": {
        "id": "ciJ4dw_FD1BZ"
      },
      "source": [
        "# 5.4 Iterando com DataFrames"
      ]
    },
    {
      "cell_type": "code",
      "execution_count": 51,
      "metadata": {
        "id": "TKAB-g5KD1BZ",
        "outputId": "51191617-7033-4103-c7cb-3a23717e0e7f",
        "colab": {
          "base_uri": "https://localhost:8080/"
        }
      },
      "outputs": [
        {
          "output_type": "stream",
          "name": "stdout",
          "text": [
            "Motor\n",
            "Ano\n",
            "Quilometragem\n",
            "Zero_km\n",
            "Acessórios\n",
            "Valor\n"
          ]
        }
      ],
      "source": [
        "for item in dataset:\n",
        "  print(item)"
      ]
    },
    {
      "cell_type": "code",
      "execution_count": 54,
      "metadata": {
        "id": "eFTNtPRWD1Ba",
        "outputId": "47c9e200-1a54-4cc7-de2d-c3d78c94f209",
        "colab": {
          "base_uri": "https://localhost:8080/",
          "height": 455
        }
      },
      "outputs": [
        {
          "output_type": "execute_result",
          "data": {
            "text/plain": [
              "                                       Motor   Ano  Quilometragem  Zero_km  \\\n",
              "Nome                                                                         \n",
              "Jetta Variant                Motor 4.0 Turbo  2003        44410.0    False   \n",
              "Passat                          Motor Diesel  1991         5712.0    False   \n",
              "Crossfox                     Motor Diesel V8  1990        37123.0    False   \n",
              "DS5                          Motor 2.4 Turbo  2019            NaN     True   \n",
              "Aston Martin DB4             Motor 2.4 Turbo  2006        25757.0    False   \n",
              "...                                      ...   ...            ...      ...   \n",
              "Phantom 2013                        Motor V8  2014        27505.0    False   \n",
              "Cadillac Ciel concept               Motor V8  1991        29981.0    False   \n",
              "Classe GLK             Motor 5.0 V8 Bi-Turbo  2002        52637.0    False   \n",
              "Aston Martin DB5                Motor Diesel  1996         7685.0    False   \n",
              "Macan                        Motor Diesel V6  1992        50188.0    False   \n",
              "\n",
              "                                                              Acessórios  \\\n",
              "Nome                                                                       \n",
              "Jetta Variant          ['Rodas de liga', 'Travas elétricas', 'Piloto ...   \n",
              "Passat                 ['Central multimídia', 'Teto panorâmico', 'Fre...   \n",
              "Crossfox               ['Piloto automático', 'Controle de estabilidad...   \n",
              "DS5                    ['Travas elétricas', '4 X 4', 'Vidros elétrico...   \n",
              "Aston Martin DB4       ['Rodas de liga', '4 X 4', 'Central multimídia...   \n",
              "...                                                                  ...   \n",
              "Phantom 2013           ['Controle de estabilidade', 'Piloto automátic...   \n",
              "Cadillac Ciel concept  ['Bancos de couro', 'Painel digital', 'Sensor ...   \n",
              "Classe GLK             ['Rodas de liga', 'Controle de tração', 'Câmbi...   \n",
              "Aston Martin DB5       ['Ar condicionado', '4 X 4', 'Câmbio automátic...   \n",
              "Macan                  ['Central multimídia', 'Teto panorâmico', 'Vid...   \n",
              "\n",
              "                           Valor     Km_media  \n",
              "Nome                                           \n",
              "Jetta Variant           88078.64  2775.625000  \n",
              "Passat                 106161.94   204.000000  \n",
              "Crossfox                72832.16  1280.103448  \n",
              "DS5                    124549.07     0.000000  \n",
              "Aston Martin DB4        92612.10  1981.307692  \n",
              "...                          ...          ...  \n",
              "Phantom 2013            51759.58  5501.000000  \n",
              "Cadillac Ciel concept   51667.06  1070.750000  \n",
              "Classe GLK              68934.03  3096.294118  \n",
              "Aston Martin DB5       122110.90   334.130435  \n",
              "Macan                   90381.47  1858.814815  \n",
              "\n",
              "[258 rows x 7 columns]"
            ],
            "text/html": [
              "\n",
              "  <div id=\"df-ae7dddc9-2c3c-43ec-ac14-6d79e5703105\">\n",
              "    <div class=\"colab-df-container\">\n",
              "      <div>\n",
              "<style scoped>\n",
              "    .dataframe tbody tr th:only-of-type {\n",
              "        vertical-align: middle;\n",
              "    }\n",
              "\n",
              "    .dataframe tbody tr th {\n",
              "        vertical-align: top;\n",
              "    }\n",
              "\n",
              "    .dataframe thead th {\n",
              "        text-align: right;\n",
              "    }\n",
              "</style>\n",
              "<table border=\"1\" class=\"dataframe\">\n",
              "  <thead>\n",
              "    <tr style=\"text-align: right;\">\n",
              "      <th></th>\n",
              "      <th>Motor</th>\n",
              "      <th>Ano</th>\n",
              "      <th>Quilometragem</th>\n",
              "      <th>Zero_km</th>\n",
              "      <th>Acessórios</th>\n",
              "      <th>Valor</th>\n",
              "      <th>Km_media</th>\n",
              "    </tr>\n",
              "    <tr>\n",
              "      <th>Nome</th>\n",
              "      <th></th>\n",
              "      <th></th>\n",
              "      <th></th>\n",
              "      <th></th>\n",
              "      <th></th>\n",
              "      <th></th>\n",
              "      <th></th>\n",
              "    </tr>\n",
              "  </thead>\n",
              "  <tbody>\n",
              "    <tr>\n",
              "      <th>Jetta Variant</th>\n",
              "      <td>Motor 4.0 Turbo</td>\n",
              "      <td>2003</td>\n",
              "      <td>44410.0</td>\n",
              "      <td>False</td>\n",
              "      <td>['Rodas de liga', 'Travas elétricas', 'Piloto ...</td>\n",
              "      <td>88078.64</td>\n",
              "      <td>2775.625000</td>\n",
              "    </tr>\n",
              "    <tr>\n",
              "      <th>Passat</th>\n",
              "      <td>Motor Diesel</td>\n",
              "      <td>1991</td>\n",
              "      <td>5712.0</td>\n",
              "      <td>False</td>\n",
              "      <td>['Central multimídia', 'Teto panorâmico', 'Fre...</td>\n",
              "      <td>106161.94</td>\n",
              "      <td>204.000000</td>\n",
              "    </tr>\n",
              "    <tr>\n",
              "      <th>Crossfox</th>\n",
              "      <td>Motor Diesel V8</td>\n",
              "      <td>1990</td>\n",
              "      <td>37123.0</td>\n",
              "      <td>False</td>\n",
              "      <td>['Piloto automático', 'Controle de estabilidad...</td>\n",
              "      <td>72832.16</td>\n",
              "      <td>1280.103448</td>\n",
              "    </tr>\n",
              "    <tr>\n",
              "      <th>DS5</th>\n",
              "      <td>Motor 2.4 Turbo</td>\n",
              "      <td>2019</td>\n",
              "      <td>NaN</td>\n",
              "      <td>True</td>\n",
              "      <td>['Travas elétricas', '4 X 4', 'Vidros elétrico...</td>\n",
              "      <td>124549.07</td>\n",
              "      <td>0.000000</td>\n",
              "    </tr>\n",
              "    <tr>\n",
              "      <th>Aston Martin DB4</th>\n",
              "      <td>Motor 2.4 Turbo</td>\n",
              "      <td>2006</td>\n",
              "      <td>25757.0</td>\n",
              "      <td>False</td>\n",
              "      <td>['Rodas de liga', '4 X 4', 'Central multimídia...</td>\n",
              "      <td>92612.10</td>\n",
              "      <td>1981.307692</td>\n",
              "    </tr>\n",
              "    <tr>\n",
              "      <th>...</th>\n",
              "      <td>...</td>\n",
              "      <td>...</td>\n",
              "      <td>...</td>\n",
              "      <td>...</td>\n",
              "      <td>...</td>\n",
              "      <td>...</td>\n",
              "      <td>...</td>\n",
              "    </tr>\n",
              "    <tr>\n",
              "      <th>Phantom 2013</th>\n",
              "      <td>Motor V8</td>\n",
              "      <td>2014</td>\n",
              "      <td>27505.0</td>\n",
              "      <td>False</td>\n",
              "      <td>['Controle de estabilidade', 'Piloto automátic...</td>\n",
              "      <td>51759.58</td>\n",
              "      <td>5501.000000</td>\n",
              "    </tr>\n",
              "    <tr>\n",
              "      <th>Cadillac Ciel concept</th>\n",
              "      <td>Motor V8</td>\n",
              "      <td>1991</td>\n",
              "      <td>29981.0</td>\n",
              "      <td>False</td>\n",
              "      <td>['Bancos de couro', 'Painel digital', 'Sensor ...</td>\n",
              "      <td>51667.06</td>\n",
              "      <td>1070.750000</td>\n",
              "    </tr>\n",
              "    <tr>\n",
              "      <th>Classe GLK</th>\n",
              "      <td>Motor 5.0 V8 Bi-Turbo</td>\n",
              "      <td>2002</td>\n",
              "      <td>52637.0</td>\n",
              "      <td>False</td>\n",
              "      <td>['Rodas de liga', 'Controle de tração', 'Câmbi...</td>\n",
              "      <td>68934.03</td>\n",
              "      <td>3096.294118</td>\n",
              "    </tr>\n",
              "    <tr>\n",
              "      <th>Aston Martin DB5</th>\n",
              "      <td>Motor Diesel</td>\n",
              "      <td>1996</td>\n",
              "      <td>7685.0</td>\n",
              "      <td>False</td>\n",
              "      <td>['Ar condicionado', '4 X 4', 'Câmbio automátic...</td>\n",
              "      <td>122110.90</td>\n",
              "      <td>334.130435</td>\n",
              "    </tr>\n",
              "    <tr>\n",
              "      <th>Macan</th>\n",
              "      <td>Motor Diesel V6</td>\n",
              "      <td>1992</td>\n",
              "      <td>50188.0</td>\n",
              "      <td>False</td>\n",
              "      <td>['Central multimídia', 'Teto panorâmico', 'Vid...</td>\n",
              "      <td>90381.47</td>\n",
              "      <td>1858.814815</td>\n",
              "    </tr>\n",
              "  </tbody>\n",
              "</table>\n",
              "<p>258 rows × 7 columns</p>\n",
              "</div>\n",
              "      <button class=\"colab-df-convert\" onclick=\"convertToInteractive('df-ae7dddc9-2c3c-43ec-ac14-6d79e5703105')\"\n",
              "              title=\"Convert this dataframe to an interactive table.\"\n",
              "              style=\"display:none;\">\n",
              "        \n",
              "  <svg xmlns=\"http://www.w3.org/2000/svg\" height=\"24px\"viewBox=\"0 0 24 24\"\n",
              "       width=\"24px\">\n",
              "    <path d=\"M0 0h24v24H0V0z\" fill=\"none\"/>\n",
              "    <path d=\"M18.56 5.44l.94 2.06.94-2.06 2.06-.94-2.06-.94-.94-2.06-.94 2.06-2.06.94zm-11 1L8.5 8.5l.94-2.06 2.06-.94-2.06-.94L8.5 2.5l-.94 2.06-2.06.94zm10 10l.94 2.06.94-2.06 2.06-.94-2.06-.94-.94-2.06-.94 2.06-2.06.94z\"/><path d=\"M17.41 7.96l-1.37-1.37c-.4-.4-.92-.59-1.43-.59-.52 0-1.04.2-1.43.59L10.3 9.45l-7.72 7.72c-.78.78-.78 2.05 0 2.83L4 21.41c.39.39.9.59 1.41.59.51 0 1.02-.2 1.41-.59l7.78-7.78 2.81-2.81c.8-.78.8-2.07 0-2.86zM5.41 20L4 18.59l7.72-7.72 1.47 1.35L5.41 20z\"/>\n",
              "  </svg>\n",
              "      </button>\n",
              "      \n",
              "  <style>\n",
              "    .colab-df-container {\n",
              "      display:flex;\n",
              "      flex-wrap:wrap;\n",
              "      gap: 12px;\n",
              "    }\n",
              "\n",
              "    .colab-df-convert {\n",
              "      background-color: #E8F0FE;\n",
              "      border: none;\n",
              "      border-radius: 50%;\n",
              "      cursor: pointer;\n",
              "      display: none;\n",
              "      fill: #1967D2;\n",
              "      height: 32px;\n",
              "      padding: 0 0 0 0;\n",
              "      width: 32px;\n",
              "    }\n",
              "\n",
              "    .colab-df-convert:hover {\n",
              "      background-color: #E2EBFA;\n",
              "      box-shadow: 0px 1px 2px rgba(60, 64, 67, 0.3), 0px 1px 3px 1px rgba(60, 64, 67, 0.15);\n",
              "      fill: #174EA6;\n",
              "    }\n",
              "\n",
              "    [theme=dark] .colab-df-convert {\n",
              "      background-color: #3B4455;\n",
              "      fill: #D2E3FC;\n",
              "    }\n",
              "\n",
              "    [theme=dark] .colab-df-convert:hover {\n",
              "      background-color: #434B5C;\n",
              "      box-shadow: 0px 1px 3px 1px rgba(0, 0, 0, 0.15);\n",
              "      filter: drop-shadow(0px 1px 2px rgba(0, 0, 0, 0.3));\n",
              "      fill: #FFFFFF;\n",
              "    }\n",
              "  </style>\n",
              "\n",
              "      <script>\n",
              "        const buttonEl =\n",
              "          document.querySelector('#df-ae7dddc9-2c3c-43ec-ac14-6d79e5703105 button.colab-df-convert');\n",
              "        buttonEl.style.display =\n",
              "          google.colab.kernel.accessAllowed ? 'block' : 'none';\n",
              "\n",
              "        async function convertToInteractive(key) {\n",
              "          const element = document.querySelector('#df-ae7dddc9-2c3c-43ec-ac14-6d79e5703105');\n",
              "          const dataTable =\n",
              "            await google.colab.kernel.invokeFunction('convertToInteractive',\n",
              "                                                     [key], {});\n",
              "          if (!dataTable) return;\n",
              "\n",
              "          const docLinkHtml = 'Like what you see? Visit the ' +\n",
              "            '<a target=\"_blank\" href=https://colab.research.google.com/notebooks/data_table.ipynb>data table notebook</a>'\n",
              "            + ' to learn more about interactive tables.';\n",
              "          element.innerHTML = '';\n",
              "          dataTable['output_type'] = 'display_data';\n",
              "          await google.colab.output.renderOutput(dataTable, element);\n",
              "          const docLink = document.createElement('div');\n",
              "          docLink.innerHTML = docLinkHtml;\n",
              "          element.appendChild(docLink);\n",
              "        }\n",
              "      </script>\n",
              "    </div>\n",
              "  </div>\n",
              "  "
            ]
          },
          "metadata": {},
          "execution_count": 54
        }
      ],
      "source": [
        "for index, row in dataset.iterrows():\n",
        "  if(2019 - row['Ano'] != 0):\n",
        "    dataset.loc[index, 'Km_media'] = row['Quilometragem'] / (2019 - row['Ano'])\n",
        "  else:\n",
        "    dataset.loc[index, 'Km_media'] = 0\n",
        "\n",
        "dataset"
      ]
    },
    {
      "cell_type": "markdown",
      "metadata": {
        "id": "HnUzHFQPD1Ba"
      },
      "source": [
        "# 5.5 Tratamento de dados"
      ]
    },
    {
      "cell_type": "code",
      "execution_count": 55,
      "metadata": {
        "id": "FRxBWoBGD1Ba",
        "outputId": "5155efc8-9f75-476c-ac2a-c96496087e29",
        "colab": {
          "base_uri": "https://localhost:8080/",
          "height": 237
        }
      },
      "outputs": [
        {
          "output_type": "execute_result",
          "data": {
            "text/plain": [
              "                            Motor   Ano  Quilometragem  Zero_km  \\\n",
              "Nome                                                              \n",
              "Jetta Variant     Motor 4.0 Turbo  2003        44410.0    False   \n",
              "Passat               Motor Diesel  1991         5712.0    False   \n",
              "Crossfox          Motor Diesel V8  1990        37123.0    False   \n",
              "DS5               Motor 2.4 Turbo  2019            NaN     True   \n",
              "Aston Martin DB4  Motor 2.4 Turbo  2006        25757.0    False   \n",
              "\n",
              "                                                         Acessórios  \\\n",
              "Nome                                                                  \n",
              "Jetta Variant     ['Rodas de liga', 'Travas elétricas', 'Piloto ...   \n",
              "Passat            ['Central multimídia', 'Teto panorâmico', 'Fre...   \n",
              "Crossfox          ['Piloto automático', 'Controle de estabilidad...   \n",
              "DS5               ['Travas elétricas', '4 X 4', 'Vidros elétrico...   \n",
              "Aston Martin DB4  ['Rodas de liga', '4 X 4', 'Central multimídia...   \n",
              "\n",
              "                      Valor     Km_media  \n",
              "Nome                                      \n",
              "Jetta Variant      88078.64  2775.625000  \n",
              "Passat            106161.94   204.000000  \n",
              "Crossfox           72832.16  1280.103448  \n",
              "DS5               124549.07     0.000000  \n",
              "Aston Martin DB4   92612.10  1981.307692  "
            ],
            "text/html": [
              "\n",
              "  <div id=\"df-d55eed2d-22c3-487a-8a62-672af7f9c608\">\n",
              "    <div class=\"colab-df-container\">\n",
              "      <div>\n",
              "<style scoped>\n",
              "    .dataframe tbody tr th:only-of-type {\n",
              "        vertical-align: middle;\n",
              "    }\n",
              "\n",
              "    .dataframe tbody tr th {\n",
              "        vertical-align: top;\n",
              "    }\n",
              "\n",
              "    .dataframe thead th {\n",
              "        text-align: right;\n",
              "    }\n",
              "</style>\n",
              "<table border=\"1\" class=\"dataframe\">\n",
              "  <thead>\n",
              "    <tr style=\"text-align: right;\">\n",
              "      <th></th>\n",
              "      <th>Motor</th>\n",
              "      <th>Ano</th>\n",
              "      <th>Quilometragem</th>\n",
              "      <th>Zero_km</th>\n",
              "      <th>Acessórios</th>\n",
              "      <th>Valor</th>\n",
              "      <th>Km_media</th>\n",
              "    </tr>\n",
              "    <tr>\n",
              "      <th>Nome</th>\n",
              "      <th></th>\n",
              "      <th></th>\n",
              "      <th></th>\n",
              "      <th></th>\n",
              "      <th></th>\n",
              "      <th></th>\n",
              "      <th></th>\n",
              "    </tr>\n",
              "  </thead>\n",
              "  <tbody>\n",
              "    <tr>\n",
              "      <th>Jetta Variant</th>\n",
              "      <td>Motor 4.0 Turbo</td>\n",
              "      <td>2003</td>\n",
              "      <td>44410.0</td>\n",
              "      <td>False</td>\n",
              "      <td>['Rodas de liga', 'Travas elétricas', 'Piloto ...</td>\n",
              "      <td>88078.64</td>\n",
              "      <td>2775.625000</td>\n",
              "    </tr>\n",
              "    <tr>\n",
              "      <th>Passat</th>\n",
              "      <td>Motor Diesel</td>\n",
              "      <td>1991</td>\n",
              "      <td>5712.0</td>\n",
              "      <td>False</td>\n",
              "      <td>['Central multimídia', 'Teto panorâmico', 'Fre...</td>\n",
              "      <td>106161.94</td>\n",
              "      <td>204.000000</td>\n",
              "    </tr>\n",
              "    <tr>\n",
              "      <th>Crossfox</th>\n",
              "      <td>Motor Diesel V8</td>\n",
              "      <td>1990</td>\n",
              "      <td>37123.0</td>\n",
              "      <td>False</td>\n",
              "      <td>['Piloto automático', 'Controle de estabilidad...</td>\n",
              "      <td>72832.16</td>\n",
              "      <td>1280.103448</td>\n",
              "    </tr>\n",
              "    <tr>\n",
              "      <th>DS5</th>\n",
              "      <td>Motor 2.4 Turbo</td>\n",
              "      <td>2019</td>\n",
              "      <td>NaN</td>\n",
              "      <td>True</td>\n",
              "      <td>['Travas elétricas', '4 X 4', 'Vidros elétrico...</td>\n",
              "      <td>124549.07</td>\n",
              "      <td>0.000000</td>\n",
              "    </tr>\n",
              "    <tr>\n",
              "      <th>Aston Martin DB4</th>\n",
              "      <td>Motor 2.4 Turbo</td>\n",
              "      <td>2006</td>\n",
              "      <td>25757.0</td>\n",
              "      <td>False</td>\n",
              "      <td>['Rodas de liga', '4 X 4', 'Central multimídia...</td>\n",
              "      <td>92612.10</td>\n",
              "      <td>1981.307692</td>\n",
              "    </tr>\n",
              "  </tbody>\n",
              "</table>\n",
              "</div>\n",
              "      <button class=\"colab-df-convert\" onclick=\"convertToInteractive('df-d55eed2d-22c3-487a-8a62-672af7f9c608')\"\n",
              "              title=\"Convert this dataframe to an interactive table.\"\n",
              "              style=\"display:none;\">\n",
              "        \n",
              "  <svg xmlns=\"http://www.w3.org/2000/svg\" height=\"24px\"viewBox=\"0 0 24 24\"\n",
              "       width=\"24px\">\n",
              "    <path d=\"M0 0h24v24H0V0z\" fill=\"none\"/>\n",
              "    <path d=\"M18.56 5.44l.94 2.06.94-2.06 2.06-.94-2.06-.94-.94-2.06-.94 2.06-2.06.94zm-11 1L8.5 8.5l.94-2.06 2.06-.94-2.06-.94L8.5 2.5l-.94 2.06-2.06.94zm10 10l.94 2.06.94-2.06 2.06-.94-2.06-.94-.94-2.06-.94 2.06-2.06.94z\"/><path d=\"M17.41 7.96l-1.37-1.37c-.4-.4-.92-.59-1.43-.59-.52 0-1.04.2-1.43.59L10.3 9.45l-7.72 7.72c-.78.78-.78 2.05 0 2.83L4 21.41c.39.39.9.59 1.41.59.51 0 1.02-.2 1.41-.59l7.78-7.78 2.81-2.81c.8-.78.8-2.07 0-2.86zM5.41 20L4 18.59l7.72-7.72 1.47 1.35L5.41 20z\"/>\n",
              "  </svg>\n",
              "      </button>\n",
              "      \n",
              "  <style>\n",
              "    .colab-df-container {\n",
              "      display:flex;\n",
              "      flex-wrap:wrap;\n",
              "      gap: 12px;\n",
              "    }\n",
              "\n",
              "    .colab-df-convert {\n",
              "      background-color: #E8F0FE;\n",
              "      border: none;\n",
              "      border-radius: 50%;\n",
              "      cursor: pointer;\n",
              "      display: none;\n",
              "      fill: #1967D2;\n",
              "      height: 32px;\n",
              "      padding: 0 0 0 0;\n",
              "      width: 32px;\n",
              "    }\n",
              "\n",
              "    .colab-df-convert:hover {\n",
              "      background-color: #E2EBFA;\n",
              "      box-shadow: 0px 1px 2px rgba(60, 64, 67, 0.3), 0px 1px 3px 1px rgba(60, 64, 67, 0.15);\n",
              "      fill: #174EA6;\n",
              "    }\n",
              "\n",
              "    [theme=dark] .colab-df-convert {\n",
              "      background-color: #3B4455;\n",
              "      fill: #D2E3FC;\n",
              "    }\n",
              "\n",
              "    [theme=dark] .colab-df-convert:hover {\n",
              "      background-color: #434B5C;\n",
              "      box-shadow: 0px 1px 3px 1px rgba(0, 0, 0, 0.15);\n",
              "      filter: drop-shadow(0px 1px 2px rgba(0, 0, 0, 0.3));\n",
              "      fill: #FFFFFF;\n",
              "    }\n",
              "  </style>\n",
              "\n",
              "      <script>\n",
              "        const buttonEl =\n",
              "          document.querySelector('#df-d55eed2d-22c3-487a-8a62-672af7f9c608 button.colab-df-convert');\n",
              "        buttonEl.style.display =\n",
              "          google.colab.kernel.accessAllowed ? 'block' : 'none';\n",
              "\n",
              "        async function convertToInteractive(key) {\n",
              "          const element = document.querySelector('#df-d55eed2d-22c3-487a-8a62-672af7f9c608');\n",
              "          const dataTable =\n",
              "            await google.colab.kernel.invokeFunction('convertToInteractive',\n",
              "                                                     [key], {});\n",
              "          if (!dataTable) return;\n",
              "\n",
              "          const docLinkHtml = 'Like what you see? Visit the ' +\n",
              "            '<a target=\"_blank\" href=https://colab.research.google.com/notebooks/data_table.ipynb>data table notebook</a>'\n",
              "            + ' to learn more about interactive tables.';\n",
              "          element.innerHTML = '';\n",
              "          dataTable['output_type'] = 'display_data';\n",
              "          await google.colab.output.renderOutput(dataTable, element);\n",
              "          const docLink = document.createElement('div');\n",
              "          docLink.innerHTML = docLinkHtml;\n",
              "          element.appendChild(docLink);\n",
              "        }\n",
              "      </script>\n",
              "    </div>\n",
              "  </div>\n",
              "  "
            ]
          },
          "metadata": {},
          "execution_count": 55
        }
      ],
      "source": [
        "dataset.head()"
      ]
    },
    {
      "cell_type": "code",
      "execution_count": 56,
      "metadata": {
        "id": "HHSwH0ZaD1Bc",
        "outputId": "ff8367b2-4412-4e2a-af00-d769a73e1548",
        "colab": {
          "base_uri": "https://localhost:8080/"
        }
      },
      "outputs": [
        {
          "output_type": "stream",
          "name": "stdout",
          "text": [
            "<class 'pandas.core.frame.DataFrame'>\n",
            "Index: 258 entries, Jetta Variant to Macan\n",
            "Data columns (total 7 columns):\n",
            " #   Column         Non-Null Count  Dtype  \n",
            "---  ------         --------------  -----  \n",
            " 0   Motor          258 non-null    object \n",
            " 1   Ano            258 non-null    int64  \n",
            " 2   Quilometragem  197 non-null    float64\n",
            " 3   Zero_km        258 non-null    bool   \n",
            " 4   Acessórios     258 non-null    object \n",
            " 5   Valor          258 non-null    float64\n",
            " 6   Km_media       258 non-null    float64\n",
            "dtypes: bool(1), float64(3), int64(1), object(2)\n",
            "memory usage: 22.5+ KB\n"
          ]
        }
      ],
      "source": [
        "dataset.info()"
      ]
    },
    {
      "cell_type": "code",
      "execution_count": 57,
      "metadata": {
        "id": "G27pxgZ5D1Bd",
        "scrolled": true,
        "outputId": "9f8e4d47-b63c-4426-9cdf-ac1c9aa1e210",
        "colab": {
          "base_uri": "https://localhost:8080/"
        }
      },
      "outputs": [
        {
          "output_type": "execute_result",
          "data": {
            "text/plain": [
              "Nome\n",
              "Jetta Variant            False\n",
              "Passat                   False\n",
              "Crossfox                 False\n",
              "DS5                       True\n",
              "Aston Martin DB4         False\n",
              "                         ...  \n",
              "Phantom 2013             False\n",
              "Cadillac Ciel concept    False\n",
              "Classe GLK               False\n",
              "Aston Martin DB5         False\n",
              "Macan                    False\n",
              "Name: Quilometragem, Length: 258, dtype: bool"
            ]
          },
          "metadata": {},
          "execution_count": 57
        }
      ],
      "source": [
        "dataset.Quilometragem.isna()"
      ]
    },
    {
      "cell_type": "code",
      "execution_count": 58,
      "metadata": {
        "id": "DhlRbxy2D1Bd",
        "scrolled": true,
        "outputId": "42f4f30a-6808-4968-afd8-79d6c33a18a6",
        "colab": {
          "base_uri": "https://localhost:8080/",
          "height": 455
        }
      },
      "outputs": [
        {
          "output_type": "execute_result",
          "data": {
            "text/plain": [
              "                                Motor   Ano  Quilometragem  Zero_km  \\\n",
              "Nome                                                                  \n",
              "DS5                   Motor 2.4 Turbo  2019            NaN     True   \n",
              "A5                    Motor 4.0 Turbo  2019            NaN     True   \n",
              "J5                           Motor V6  2019            NaN     True   \n",
              "A3                       Motor 1.0 8v  2019            NaN     True   \n",
              "Série 1 M                    Motor V8  2019            NaN     True   \n",
              "...                               ...   ...            ...      ...   \n",
              "Lamborghini Reventón  Motor 4.0 Turbo  2019            NaN     True   \n",
              "Benni Mini                   Motor V8  2019            NaN     True   \n",
              "Uno                   Motor Diesel V6  2019            NaN     True   \n",
              "Santa Fe                Motor 3.0 32v  2019            NaN     True   \n",
              "XC60                  Motor 4.0 Turbo  2019            NaN     True   \n",
              "\n",
              "                                                             Acessórios  \\\n",
              "Nome                                                                      \n",
              "DS5                   ['Travas elétricas', '4 X 4', 'Vidros elétrico...   \n",
              "A5                    ['Câmbio automático', 'Câmera de estacionament...   \n",
              "J5                    ['Sensor crepuscular', 'Painel digital', 'Roda...   \n",
              "A3                    ['4 X 4', 'Piloto automático', 'Central multim...   \n",
              "Série 1 M             ['Controle de estabilidade', 'Central multimíd...   \n",
              "...                                                                 ...   \n",
              "Lamborghini Reventón  ['Controle de tração', 'Ar condicionado', 'Cen...   \n",
              "Benni Mini            ['Sensor crepuscular', 'Câmbio automático', 'C...   \n",
              "Uno                   ['Central multimídia', 'Sensor crepuscular', '...   \n",
              "Santa Fe              ['Travas elétricas', 'Ar condicionado', '4 X 4...   \n",
              "XC60                  ['Painel digital', 'Piloto automático', 'Centr...   \n",
              "\n",
              "                          Valor  Km_media  \n",
              "Nome                                       \n",
              "DS5                   124549.07       0.0  \n",
              "A5                     56445.20       0.0  \n",
              "J5                     53183.38       0.0  \n",
              "A3                     88552.39       0.0  \n",
              "Série 1 M              94564.40       0.0  \n",
              "...                         ...       ...  \n",
              "Lamborghini Reventón   67664.86       0.0  \n",
              "Benni Mini            126247.84       0.0  \n",
              "Uno                   128852.21       0.0  \n",
              "Santa Fe              129415.33       0.0  \n",
              "XC60                   77675.79       0.0  \n",
              "\n",
              "[61 rows x 7 columns]"
            ],
            "text/html": [
              "\n",
              "  <div id=\"df-7ca1e428-939f-45d8-8d01-c6735b98c8e6\">\n",
              "    <div class=\"colab-df-container\">\n",
              "      <div>\n",
              "<style scoped>\n",
              "    .dataframe tbody tr th:only-of-type {\n",
              "        vertical-align: middle;\n",
              "    }\n",
              "\n",
              "    .dataframe tbody tr th {\n",
              "        vertical-align: top;\n",
              "    }\n",
              "\n",
              "    .dataframe thead th {\n",
              "        text-align: right;\n",
              "    }\n",
              "</style>\n",
              "<table border=\"1\" class=\"dataframe\">\n",
              "  <thead>\n",
              "    <tr style=\"text-align: right;\">\n",
              "      <th></th>\n",
              "      <th>Motor</th>\n",
              "      <th>Ano</th>\n",
              "      <th>Quilometragem</th>\n",
              "      <th>Zero_km</th>\n",
              "      <th>Acessórios</th>\n",
              "      <th>Valor</th>\n",
              "      <th>Km_media</th>\n",
              "    </tr>\n",
              "    <tr>\n",
              "      <th>Nome</th>\n",
              "      <th></th>\n",
              "      <th></th>\n",
              "      <th></th>\n",
              "      <th></th>\n",
              "      <th></th>\n",
              "      <th></th>\n",
              "      <th></th>\n",
              "    </tr>\n",
              "  </thead>\n",
              "  <tbody>\n",
              "    <tr>\n",
              "      <th>DS5</th>\n",
              "      <td>Motor 2.4 Turbo</td>\n",
              "      <td>2019</td>\n",
              "      <td>NaN</td>\n",
              "      <td>True</td>\n",
              "      <td>['Travas elétricas', '4 X 4', 'Vidros elétrico...</td>\n",
              "      <td>124549.07</td>\n",
              "      <td>0.0</td>\n",
              "    </tr>\n",
              "    <tr>\n",
              "      <th>A5</th>\n",
              "      <td>Motor 4.0 Turbo</td>\n",
              "      <td>2019</td>\n",
              "      <td>NaN</td>\n",
              "      <td>True</td>\n",
              "      <td>['Câmbio automático', 'Câmera de estacionament...</td>\n",
              "      <td>56445.20</td>\n",
              "      <td>0.0</td>\n",
              "    </tr>\n",
              "    <tr>\n",
              "      <th>J5</th>\n",
              "      <td>Motor V6</td>\n",
              "      <td>2019</td>\n",
              "      <td>NaN</td>\n",
              "      <td>True</td>\n",
              "      <td>['Sensor crepuscular', 'Painel digital', 'Roda...</td>\n",
              "      <td>53183.38</td>\n",
              "      <td>0.0</td>\n",
              "    </tr>\n",
              "    <tr>\n",
              "      <th>A3</th>\n",
              "      <td>Motor 1.0 8v</td>\n",
              "      <td>2019</td>\n",
              "      <td>NaN</td>\n",
              "      <td>True</td>\n",
              "      <td>['4 X 4', 'Piloto automático', 'Central multim...</td>\n",
              "      <td>88552.39</td>\n",
              "      <td>0.0</td>\n",
              "    </tr>\n",
              "    <tr>\n",
              "      <th>Série 1 M</th>\n",
              "      <td>Motor V8</td>\n",
              "      <td>2019</td>\n",
              "      <td>NaN</td>\n",
              "      <td>True</td>\n",
              "      <td>['Controle de estabilidade', 'Central multimíd...</td>\n",
              "      <td>94564.40</td>\n",
              "      <td>0.0</td>\n",
              "    </tr>\n",
              "    <tr>\n",
              "      <th>...</th>\n",
              "      <td>...</td>\n",
              "      <td>...</td>\n",
              "      <td>...</td>\n",
              "      <td>...</td>\n",
              "      <td>...</td>\n",
              "      <td>...</td>\n",
              "      <td>...</td>\n",
              "    </tr>\n",
              "    <tr>\n",
              "      <th>Lamborghini Reventón</th>\n",
              "      <td>Motor 4.0 Turbo</td>\n",
              "      <td>2019</td>\n",
              "      <td>NaN</td>\n",
              "      <td>True</td>\n",
              "      <td>['Controle de tração', 'Ar condicionado', 'Cen...</td>\n",
              "      <td>67664.86</td>\n",
              "      <td>0.0</td>\n",
              "    </tr>\n",
              "    <tr>\n",
              "      <th>Benni Mini</th>\n",
              "      <td>Motor V8</td>\n",
              "      <td>2019</td>\n",
              "      <td>NaN</td>\n",
              "      <td>True</td>\n",
              "      <td>['Sensor crepuscular', 'Câmbio automático', 'C...</td>\n",
              "      <td>126247.84</td>\n",
              "      <td>0.0</td>\n",
              "    </tr>\n",
              "    <tr>\n",
              "      <th>Uno</th>\n",
              "      <td>Motor Diesel V6</td>\n",
              "      <td>2019</td>\n",
              "      <td>NaN</td>\n",
              "      <td>True</td>\n",
              "      <td>['Central multimídia', 'Sensor crepuscular', '...</td>\n",
              "      <td>128852.21</td>\n",
              "      <td>0.0</td>\n",
              "    </tr>\n",
              "    <tr>\n",
              "      <th>Santa Fe</th>\n",
              "      <td>Motor 3.0 32v</td>\n",
              "      <td>2019</td>\n",
              "      <td>NaN</td>\n",
              "      <td>True</td>\n",
              "      <td>['Travas elétricas', 'Ar condicionado', '4 X 4...</td>\n",
              "      <td>129415.33</td>\n",
              "      <td>0.0</td>\n",
              "    </tr>\n",
              "    <tr>\n",
              "      <th>XC60</th>\n",
              "      <td>Motor 4.0 Turbo</td>\n",
              "      <td>2019</td>\n",
              "      <td>NaN</td>\n",
              "      <td>True</td>\n",
              "      <td>['Painel digital', 'Piloto automático', 'Centr...</td>\n",
              "      <td>77675.79</td>\n",
              "      <td>0.0</td>\n",
              "    </tr>\n",
              "  </tbody>\n",
              "</table>\n",
              "<p>61 rows × 7 columns</p>\n",
              "</div>\n",
              "      <button class=\"colab-df-convert\" onclick=\"convertToInteractive('df-7ca1e428-939f-45d8-8d01-c6735b98c8e6')\"\n",
              "              title=\"Convert this dataframe to an interactive table.\"\n",
              "              style=\"display:none;\">\n",
              "        \n",
              "  <svg xmlns=\"http://www.w3.org/2000/svg\" height=\"24px\"viewBox=\"0 0 24 24\"\n",
              "       width=\"24px\">\n",
              "    <path d=\"M0 0h24v24H0V0z\" fill=\"none\"/>\n",
              "    <path d=\"M18.56 5.44l.94 2.06.94-2.06 2.06-.94-2.06-.94-.94-2.06-.94 2.06-2.06.94zm-11 1L8.5 8.5l.94-2.06 2.06-.94-2.06-.94L8.5 2.5l-.94 2.06-2.06.94zm10 10l.94 2.06.94-2.06 2.06-.94-2.06-.94-.94-2.06-.94 2.06-2.06.94z\"/><path d=\"M17.41 7.96l-1.37-1.37c-.4-.4-.92-.59-1.43-.59-.52 0-1.04.2-1.43.59L10.3 9.45l-7.72 7.72c-.78.78-.78 2.05 0 2.83L4 21.41c.39.39.9.59 1.41.59.51 0 1.02-.2 1.41-.59l7.78-7.78 2.81-2.81c.8-.78.8-2.07 0-2.86zM5.41 20L4 18.59l7.72-7.72 1.47 1.35L5.41 20z\"/>\n",
              "  </svg>\n",
              "      </button>\n",
              "      \n",
              "  <style>\n",
              "    .colab-df-container {\n",
              "      display:flex;\n",
              "      flex-wrap:wrap;\n",
              "      gap: 12px;\n",
              "    }\n",
              "\n",
              "    .colab-df-convert {\n",
              "      background-color: #E8F0FE;\n",
              "      border: none;\n",
              "      border-radius: 50%;\n",
              "      cursor: pointer;\n",
              "      display: none;\n",
              "      fill: #1967D2;\n",
              "      height: 32px;\n",
              "      padding: 0 0 0 0;\n",
              "      width: 32px;\n",
              "    }\n",
              "\n",
              "    .colab-df-convert:hover {\n",
              "      background-color: #E2EBFA;\n",
              "      box-shadow: 0px 1px 2px rgba(60, 64, 67, 0.3), 0px 1px 3px 1px rgba(60, 64, 67, 0.15);\n",
              "      fill: #174EA6;\n",
              "    }\n",
              "\n",
              "    [theme=dark] .colab-df-convert {\n",
              "      background-color: #3B4455;\n",
              "      fill: #D2E3FC;\n",
              "    }\n",
              "\n",
              "    [theme=dark] .colab-df-convert:hover {\n",
              "      background-color: #434B5C;\n",
              "      box-shadow: 0px 1px 3px 1px rgba(0, 0, 0, 0.15);\n",
              "      filter: drop-shadow(0px 1px 2px rgba(0, 0, 0, 0.3));\n",
              "      fill: #FFFFFF;\n",
              "    }\n",
              "  </style>\n",
              "\n",
              "      <script>\n",
              "        const buttonEl =\n",
              "          document.querySelector('#df-7ca1e428-939f-45d8-8d01-c6735b98c8e6 button.colab-df-convert');\n",
              "        buttonEl.style.display =\n",
              "          google.colab.kernel.accessAllowed ? 'block' : 'none';\n",
              "\n",
              "        async function convertToInteractive(key) {\n",
              "          const element = document.querySelector('#df-7ca1e428-939f-45d8-8d01-c6735b98c8e6');\n",
              "          const dataTable =\n",
              "            await google.colab.kernel.invokeFunction('convertToInteractive',\n",
              "                                                     [key], {});\n",
              "          if (!dataTable) return;\n",
              "\n",
              "          const docLinkHtml = 'Like what you see? Visit the ' +\n",
              "            '<a target=\"_blank\" href=https://colab.research.google.com/notebooks/data_table.ipynb>data table notebook</a>'\n",
              "            + ' to learn more about interactive tables.';\n",
              "          element.innerHTML = '';\n",
              "          dataTable['output_type'] = 'display_data';\n",
              "          await google.colab.output.renderOutput(dataTable, element);\n",
              "          const docLink = document.createElement('div');\n",
              "          docLink.innerHTML = docLinkHtml;\n",
              "          element.appendChild(docLink);\n",
              "        }\n",
              "      </script>\n",
              "    </div>\n",
              "  </div>\n",
              "  "
            ]
          },
          "metadata": {},
          "execution_count": 58
        }
      ],
      "source": [
        "dataset[dataset.Quilometragem.isna()]"
      ]
    },
    {
      "cell_type": "code",
      "execution_count": 61,
      "metadata": {
        "id": "OL04QU5RD1Be"
      },
      "outputs": [],
      "source": [
        "dataset.fillna(0, inplace = True)"
      ]
    },
    {
      "cell_type": "code",
      "execution_count": 62,
      "metadata": {
        "id": "fTH2JkGDD1Bf",
        "scrolled": true,
        "outputId": "8e4f67c0-6c26-4882-f46b-c8fd31ed840e",
        "colab": {
          "base_uri": "https://localhost:8080/",
          "height": 455
        }
      },
      "outputs": [
        {
          "output_type": "execute_result",
          "data": {
            "text/plain": [
              "                                       Motor   Ano  Quilometragem  Zero_km  \\\n",
              "Nome                                                                         \n",
              "Jetta Variant                Motor 4.0 Turbo  2003        44410.0    False   \n",
              "Passat                          Motor Diesel  1991         5712.0    False   \n",
              "Crossfox                     Motor Diesel V8  1990        37123.0    False   \n",
              "DS5                          Motor 2.4 Turbo  2019            0.0     True   \n",
              "Aston Martin DB4             Motor 2.4 Turbo  2006        25757.0    False   \n",
              "...                                      ...   ...            ...      ...   \n",
              "Phantom 2013                        Motor V8  2014        27505.0    False   \n",
              "Cadillac Ciel concept               Motor V8  1991        29981.0    False   \n",
              "Classe GLK             Motor 5.0 V8 Bi-Turbo  2002        52637.0    False   \n",
              "Aston Martin DB5                Motor Diesel  1996         7685.0    False   \n",
              "Macan                        Motor Diesel V6  1992        50188.0    False   \n",
              "\n",
              "                                                              Acessórios  \\\n",
              "Nome                                                                       \n",
              "Jetta Variant          ['Rodas de liga', 'Travas elétricas', 'Piloto ...   \n",
              "Passat                 ['Central multimídia', 'Teto panorâmico', 'Fre...   \n",
              "Crossfox               ['Piloto automático', 'Controle de estabilidad...   \n",
              "DS5                    ['Travas elétricas', '4 X 4', 'Vidros elétrico...   \n",
              "Aston Martin DB4       ['Rodas de liga', '4 X 4', 'Central multimídia...   \n",
              "...                                                                  ...   \n",
              "Phantom 2013           ['Controle de estabilidade', 'Piloto automátic...   \n",
              "Cadillac Ciel concept  ['Bancos de couro', 'Painel digital', 'Sensor ...   \n",
              "Classe GLK             ['Rodas de liga', 'Controle de tração', 'Câmbi...   \n",
              "Aston Martin DB5       ['Ar condicionado', '4 X 4', 'Câmbio automátic...   \n",
              "Macan                  ['Central multimídia', 'Teto panorâmico', 'Vid...   \n",
              "\n",
              "                           Valor     Km_media  \n",
              "Nome                                           \n",
              "Jetta Variant           88078.64  2775.625000  \n",
              "Passat                 106161.94   204.000000  \n",
              "Crossfox                72832.16  1280.103448  \n",
              "DS5                    124549.07     0.000000  \n",
              "Aston Martin DB4        92612.10  1981.307692  \n",
              "...                          ...          ...  \n",
              "Phantom 2013            51759.58  5501.000000  \n",
              "Cadillac Ciel concept   51667.06  1070.750000  \n",
              "Classe GLK              68934.03  3096.294118  \n",
              "Aston Martin DB5       122110.90   334.130435  \n",
              "Macan                   90381.47  1858.814815  \n",
              "\n",
              "[258 rows x 7 columns]"
            ],
            "text/html": [
              "\n",
              "  <div id=\"df-9bdd1cb5-39e1-486c-aed6-2ecc43938a7a\">\n",
              "    <div class=\"colab-df-container\">\n",
              "      <div>\n",
              "<style scoped>\n",
              "    .dataframe tbody tr th:only-of-type {\n",
              "        vertical-align: middle;\n",
              "    }\n",
              "\n",
              "    .dataframe tbody tr th {\n",
              "        vertical-align: top;\n",
              "    }\n",
              "\n",
              "    .dataframe thead th {\n",
              "        text-align: right;\n",
              "    }\n",
              "</style>\n",
              "<table border=\"1\" class=\"dataframe\">\n",
              "  <thead>\n",
              "    <tr style=\"text-align: right;\">\n",
              "      <th></th>\n",
              "      <th>Motor</th>\n",
              "      <th>Ano</th>\n",
              "      <th>Quilometragem</th>\n",
              "      <th>Zero_km</th>\n",
              "      <th>Acessórios</th>\n",
              "      <th>Valor</th>\n",
              "      <th>Km_media</th>\n",
              "    </tr>\n",
              "    <tr>\n",
              "      <th>Nome</th>\n",
              "      <th></th>\n",
              "      <th></th>\n",
              "      <th></th>\n",
              "      <th></th>\n",
              "      <th></th>\n",
              "      <th></th>\n",
              "      <th></th>\n",
              "    </tr>\n",
              "  </thead>\n",
              "  <tbody>\n",
              "    <tr>\n",
              "      <th>Jetta Variant</th>\n",
              "      <td>Motor 4.0 Turbo</td>\n",
              "      <td>2003</td>\n",
              "      <td>44410.0</td>\n",
              "      <td>False</td>\n",
              "      <td>['Rodas de liga', 'Travas elétricas', 'Piloto ...</td>\n",
              "      <td>88078.64</td>\n",
              "      <td>2775.625000</td>\n",
              "    </tr>\n",
              "    <tr>\n",
              "      <th>Passat</th>\n",
              "      <td>Motor Diesel</td>\n",
              "      <td>1991</td>\n",
              "      <td>5712.0</td>\n",
              "      <td>False</td>\n",
              "      <td>['Central multimídia', 'Teto panorâmico', 'Fre...</td>\n",
              "      <td>106161.94</td>\n",
              "      <td>204.000000</td>\n",
              "    </tr>\n",
              "    <tr>\n",
              "      <th>Crossfox</th>\n",
              "      <td>Motor Diesel V8</td>\n",
              "      <td>1990</td>\n",
              "      <td>37123.0</td>\n",
              "      <td>False</td>\n",
              "      <td>['Piloto automático', 'Controle de estabilidad...</td>\n",
              "      <td>72832.16</td>\n",
              "      <td>1280.103448</td>\n",
              "    </tr>\n",
              "    <tr>\n",
              "      <th>DS5</th>\n",
              "      <td>Motor 2.4 Turbo</td>\n",
              "      <td>2019</td>\n",
              "      <td>0.0</td>\n",
              "      <td>True</td>\n",
              "      <td>['Travas elétricas', '4 X 4', 'Vidros elétrico...</td>\n",
              "      <td>124549.07</td>\n",
              "      <td>0.000000</td>\n",
              "    </tr>\n",
              "    <tr>\n",
              "      <th>Aston Martin DB4</th>\n",
              "      <td>Motor 2.4 Turbo</td>\n",
              "      <td>2006</td>\n",
              "      <td>25757.0</td>\n",
              "      <td>False</td>\n",
              "      <td>['Rodas de liga', '4 X 4', 'Central multimídia...</td>\n",
              "      <td>92612.10</td>\n",
              "      <td>1981.307692</td>\n",
              "    </tr>\n",
              "    <tr>\n",
              "      <th>...</th>\n",
              "      <td>...</td>\n",
              "      <td>...</td>\n",
              "      <td>...</td>\n",
              "      <td>...</td>\n",
              "      <td>...</td>\n",
              "      <td>...</td>\n",
              "      <td>...</td>\n",
              "    </tr>\n",
              "    <tr>\n",
              "      <th>Phantom 2013</th>\n",
              "      <td>Motor V8</td>\n",
              "      <td>2014</td>\n",
              "      <td>27505.0</td>\n",
              "      <td>False</td>\n",
              "      <td>['Controle de estabilidade', 'Piloto automátic...</td>\n",
              "      <td>51759.58</td>\n",
              "      <td>5501.000000</td>\n",
              "    </tr>\n",
              "    <tr>\n",
              "      <th>Cadillac Ciel concept</th>\n",
              "      <td>Motor V8</td>\n",
              "      <td>1991</td>\n",
              "      <td>29981.0</td>\n",
              "      <td>False</td>\n",
              "      <td>['Bancos de couro', 'Painel digital', 'Sensor ...</td>\n",
              "      <td>51667.06</td>\n",
              "      <td>1070.750000</td>\n",
              "    </tr>\n",
              "    <tr>\n",
              "      <th>Classe GLK</th>\n",
              "      <td>Motor 5.0 V8 Bi-Turbo</td>\n",
              "      <td>2002</td>\n",
              "      <td>52637.0</td>\n",
              "      <td>False</td>\n",
              "      <td>['Rodas de liga', 'Controle de tração', 'Câmbi...</td>\n",
              "      <td>68934.03</td>\n",
              "      <td>3096.294118</td>\n",
              "    </tr>\n",
              "    <tr>\n",
              "      <th>Aston Martin DB5</th>\n",
              "      <td>Motor Diesel</td>\n",
              "      <td>1996</td>\n",
              "      <td>7685.0</td>\n",
              "      <td>False</td>\n",
              "      <td>['Ar condicionado', '4 X 4', 'Câmbio automátic...</td>\n",
              "      <td>122110.90</td>\n",
              "      <td>334.130435</td>\n",
              "    </tr>\n",
              "    <tr>\n",
              "      <th>Macan</th>\n",
              "      <td>Motor Diesel V6</td>\n",
              "      <td>1992</td>\n",
              "      <td>50188.0</td>\n",
              "      <td>False</td>\n",
              "      <td>['Central multimídia', 'Teto panorâmico', 'Vid...</td>\n",
              "      <td>90381.47</td>\n",
              "      <td>1858.814815</td>\n",
              "    </tr>\n",
              "  </tbody>\n",
              "</table>\n",
              "<p>258 rows × 7 columns</p>\n",
              "</div>\n",
              "      <button class=\"colab-df-convert\" onclick=\"convertToInteractive('df-9bdd1cb5-39e1-486c-aed6-2ecc43938a7a')\"\n",
              "              title=\"Convert this dataframe to an interactive table.\"\n",
              "              style=\"display:none;\">\n",
              "        \n",
              "  <svg xmlns=\"http://www.w3.org/2000/svg\" height=\"24px\"viewBox=\"0 0 24 24\"\n",
              "       width=\"24px\">\n",
              "    <path d=\"M0 0h24v24H0V0z\" fill=\"none\"/>\n",
              "    <path d=\"M18.56 5.44l.94 2.06.94-2.06 2.06-.94-2.06-.94-.94-2.06-.94 2.06-2.06.94zm-11 1L8.5 8.5l.94-2.06 2.06-.94-2.06-.94L8.5 2.5l-.94 2.06-2.06.94zm10 10l.94 2.06.94-2.06 2.06-.94-2.06-.94-.94-2.06-.94 2.06-2.06.94z\"/><path d=\"M17.41 7.96l-1.37-1.37c-.4-.4-.92-.59-1.43-.59-.52 0-1.04.2-1.43.59L10.3 9.45l-7.72 7.72c-.78.78-.78 2.05 0 2.83L4 21.41c.39.39.9.59 1.41.59.51 0 1.02-.2 1.41-.59l7.78-7.78 2.81-2.81c.8-.78.8-2.07 0-2.86zM5.41 20L4 18.59l7.72-7.72 1.47 1.35L5.41 20z\"/>\n",
              "  </svg>\n",
              "      </button>\n",
              "      \n",
              "  <style>\n",
              "    .colab-df-container {\n",
              "      display:flex;\n",
              "      flex-wrap:wrap;\n",
              "      gap: 12px;\n",
              "    }\n",
              "\n",
              "    .colab-df-convert {\n",
              "      background-color: #E8F0FE;\n",
              "      border: none;\n",
              "      border-radius: 50%;\n",
              "      cursor: pointer;\n",
              "      display: none;\n",
              "      fill: #1967D2;\n",
              "      height: 32px;\n",
              "      padding: 0 0 0 0;\n",
              "      width: 32px;\n",
              "    }\n",
              "\n",
              "    .colab-df-convert:hover {\n",
              "      background-color: #E2EBFA;\n",
              "      box-shadow: 0px 1px 2px rgba(60, 64, 67, 0.3), 0px 1px 3px 1px rgba(60, 64, 67, 0.15);\n",
              "      fill: #174EA6;\n",
              "    }\n",
              "\n",
              "    [theme=dark] .colab-df-convert {\n",
              "      background-color: #3B4455;\n",
              "      fill: #D2E3FC;\n",
              "    }\n",
              "\n",
              "    [theme=dark] .colab-df-convert:hover {\n",
              "      background-color: #434B5C;\n",
              "      box-shadow: 0px 1px 3px 1px rgba(0, 0, 0, 0.15);\n",
              "      filter: drop-shadow(0px 1px 2px rgba(0, 0, 0, 0.3));\n",
              "      fill: #FFFFFF;\n",
              "    }\n",
              "  </style>\n",
              "\n",
              "      <script>\n",
              "        const buttonEl =\n",
              "          document.querySelector('#df-9bdd1cb5-39e1-486c-aed6-2ecc43938a7a button.colab-df-convert');\n",
              "        buttonEl.style.display =\n",
              "          google.colab.kernel.accessAllowed ? 'block' : 'none';\n",
              "\n",
              "        async function convertToInteractive(key) {\n",
              "          const element = document.querySelector('#df-9bdd1cb5-39e1-486c-aed6-2ecc43938a7a');\n",
              "          const dataTable =\n",
              "            await google.colab.kernel.invokeFunction('convertToInteractive',\n",
              "                                                     [key], {});\n",
              "          if (!dataTable) return;\n",
              "\n",
              "          const docLinkHtml = 'Like what you see? Visit the ' +\n",
              "            '<a target=\"_blank\" href=https://colab.research.google.com/notebooks/data_table.ipynb>data table notebook</a>'\n",
              "            + ' to learn more about interactive tables.';\n",
              "          element.innerHTML = '';\n",
              "          dataTable['output_type'] = 'display_data';\n",
              "          await google.colab.output.renderOutput(dataTable, element);\n",
              "          const docLink = document.createElement('div');\n",
              "          docLink.innerHTML = docLinkHtml;\n",
              "          element.appendChild(docLink);\n",
              "        }\n",
              "      </script>\n",
              "    </div>\n",
              "  </div>\n",
              "  "
            ]
          },
          "metadata": {},
          "execution_count": 62
        }
      ],
      "source": [
        "dataset"
      ]
    },
    {
      "cell_type": "code",
      "execution_count": 63,
      "metadata": {
        "id": "lure2GvpD1Bg",
        "outputId": "472b85e6-851f-4171-82c2-137073bd792a",
        "colab": {
          "base_uri": "https://localhost:8080/",
          "height": 455
        }
      },
      "outputs": [
        {
          "output_type": "execute_result",
          "data": {
            "text/plain": [
              "                                Motor   Ano  Quilometragem  Zero_km  \\\n",
              "Nome                                                                  \n",
              "DS5                   Motor 2.4 Turbo  2019            0.0     True   \n",
              "A5                    Motor 4.0 Turbo  2019            0.0     True   \n",
              "J5                           Motor V6  2019            0.0     True   \n",
              "A3                       Motor 1.0 8v  2019            0.0     True   \n",
              "Série 1 M                    Motor V8  2019            0.0     True   \n",
              "...                               ...   ...            ...      ...   \n",
              "Lamborghini Reventón  Motor 4.0 Turbo  2019            0.0     True   \n",
              "Benni Mini                   Motor V8  2019            0.0     True   \n",
              "Uno                   Motor Diesel V6  2019            0.0     True   \n",
              "Santa Fe                Motor 3.0 32v  2019            0.0     True   \n",
              "XC60                  Motor 4.0 Turbo  2019            0.0     True   \n",
              "\n",
              "                                                             Acessórios  \\\n",
              "Nome                                                                      \n",
              "DS5                   ['Travas elétricas', '4 X 4', 'Vidros elétrico...   \n",
              "A5                    ['Câmbio automático', 'Câmera de estacionament...   \n",
              "J5                    ['Sensor crepuscular', 'Painel digital', 'Roda...   \n",
              "A3                    ['4 X 4', 'Piloto automático', 'Central multim...   \n",
              "Série 1 M             ['Controle de estabilidade', 'Central multimíd...   \n",
              "...                                                                 ...   \n",
              "Lamborghini Reventón  ['Controle de tração', 'Ar condicionado', 'Cen...   \n",
              "Benni Mini            ['Sensor crepuscular', 'Câmbio automático', 'C...   \n",
              "Uno                   ['Central multimídia', 'Sensor crepuscular', '...   \n",
              "Santa Fe              ['Travas elétricas', 'Ar condicionado', '4 X 4...   \n",
              "XC60                  ['Painel digital', 'Piloto automático', 'Centr...   \n",
              "\n",
              "                          Valor  Km_media  \n",
              "Nome                                       \n",
              "DS5                   124549.07       0.0  \n",
              "A5                     56445.20       0.0  \n",
              "J5                     53183.38       0.0  \n",
              "A3                     88552.39       0.0  \n",
              "Série 1 M              94564.40       0.0  \n",
              "...                         ...       ...  \n",
              "Lamborghini Reventón   67664.86       0.0  \n",
              "Benni Mini            126247.84       0.0  \n",
              "Uno                   128852.21       0.0  \n",
              "Santa Fe              129415.33       0.0  \n",
              "XC60                   77675.79       0.0  \n",
              "\n",
              "[61 rows x 7 columns]"
            ],
            "text/html": [
              "\n",
              "  <div id=\"df-6db96eef-813e-4837-b0b6-d8d2a00a9217\">\n",
              "    <div class=\"colab-df-container\">\n",
              "      <div>\n",
              "<style scoped>\n",
              "    .dataframe tbody tr th:only-of-type {\n",
              "        vertical-align: middle;\n",
              "    }\n",
              "\n",
              "    .dataframe tbody tr th {\n",
              "        vertical-align: top;\n",
              "    }\n",
              "\n",
              "    .dataframe thead th {\n",
              "        text-align: right;\n",
              "    }\n",
              "</style>\n",
              "<table border=\"1\" class=\"dataframe\">\n",
              "  <thead>\n",
              "    <tr style=\"text-align: right;\">\n",
              "      <th></th>\n",
              "      <th>Motor</th>\n",
              "      <th>Ano</th>\n",
              "      <th>Quilometragem</th>\n",
              "      <th>Zero_km</th>\n",
              "      <th>Acessórios</th>\n",
              "      <th>Valor</th>\n",
              "      <th>Km_media</th>\n",
              "    </tr>\n",
              "    <tr>\n",
              "      <th>Nome</th>\n",
              "      <th></th>\n",
              "      <th></th>\n",
              "      <th></th>\n",
              "      <th></th>\n",
              "      <th></th>\n",
              "      <th></th>\n",
              "      <th></th>\n",
              "    </tr>\n",
              "  </thead>\n",
              "  <tbody>\n",
              "    <tr>\n",
              "      <th>DS5</th>\n",
              "      <td>Motor 2.4 Turbo</td>\n",
              "      <td>2019</td>\n",
              "      <td>0.0</td>\n",
              "      <td>True</td>\n",
              "      <td>['Travas elétricas', '4 X 4', 'Vidros elétrico...</td>\n",
              "      <td>124549.07</td>\n",
              "      <td>0.0</td>\n",
              "    </tr>\n",
              "    <tr>\n",
              "      <th>A5</th>\n",
              "      <td>Motor 4.0 Turbo</td>\n",
              "      <td>2019</td>\n",
              "      <td>0.0</td>\n",
              "      <td>True</td>\n",
              "      <td>['Câmbio automático', 'Câmera de estacionament...</td>\n",
              "      <td>56445.20</td>\n",
              "      <td>0.0</td>\n",
              "    </tr>\n",
              "    <tr>\n",
              "      <th>J5</th>\n",
              "      <td>Motor V6</td>\n",
              "      <td>2019</td>\n",
              "      <td>0.0</td>\n",
              "      <td>True</td>\n",
              "      <td>['Sensor crepuscular', 'Painel digital', 'Roda...</td>\n",
              "      <td>53183.38</td>\n",
              "      <td>0.0</td>\n",
              "    </tr>\n",
              "    <tr>\n",
              "      <th>A3</th>\n",
              "      <td>Motor 1.0 8v</td>\n",
              "      <td>2019</td>\n",
              "      <td>0.0</td>\n",
              "      <td>True</td>\n",
              "      <td>['4 X 4', 'Piloto automático', 'Central multim...</td>\n",
              "      <td>88552.39</td>\n",
              "      <td>0.0</td>\n",
              "    </tr>\n",
              "    <tr>\n",
              "      <th>Série 1 M</th>\n",
              "      <td>Motor V8</td>\n",
              "      <td>2019</td>\n",
              "      <td>0.0</td>\n",
              "      <td>True</td>\n",
              "      <td>['Controle de estabilidade', 'Central multimíd...</td>\n",
              "      <td>94564.40</td>\n",
              "      <td>0.0</td>\n",
              "    </tr>\n",
              "    <tr>\n",
              "      <th>...</th>\n",
              "      <td>...</td>\n",
              "      <td>...</td>\n",
              "      <td>...</td>\n",
              "      <td>...</td>\n",
              "      <td>...</td>\n",
              "      <td>...</td>\n",
              "      <td>...</td>\n",
              "    </tr>\n",
              "    <tr>\n",
              "      <th>Lamborghini Reventón</th>\n",
              "      <td>Motor 4.0 Turbo</td>\n",
              "      <td>2019</td>\n",
              "      <td>0.0</td>\n",
              "      <td>True</td>\n",
              "      <td>['Controle de tração', 'Ar condicionado', 'Cen...</td>\n",
              "      <td>67664.86</td>\n",
              "      <td>0.0</td>\n",
              "    </tr>\n",
              "    <tr>\n",
              "      <th>Benni Mini</th>\n",
              "      <td>Motor V8</td>\n",
              "      <td>2019</td>\n",
              "      <td>0.0</td>\n",
              "      <td>True</td>\n",
              "      <td>['Sensor crepuscular', 'Câmbio automático', 'C...</td>\n",
              "      <td>126247.84</td>\n",
              "      <td>0.0</td>\n",
              "    </tr>\n",
              "    <tr>\n",
              "      <th>Uno</th>\n",
              "      <td>Motor Diesel V6</td>\n",
              "      <td>2019</td>\n",
              "      <td>0.0</td>\n",
              "      <td>True</td>\n",
              "      <td>['Central multimídia', 'Sensor crepuscular', '...</td>\n",
              "      <td>128852.21</td>\n",
              "      <td>0.0</td>\n",
              "    </tr>\n",
              "    <tr>\n",
              "      <th>Santa Fe</th>\n",
              "      <td>Motor 3.0 32v</td>\n",
              "      <td>2019</td>\n",
              "      <td>0.0</td>\n",
              "      <td>True</td>\n",
              "      <td>['Travas elétricas', 'Ar condicionado', '4 X 4...</td>\n",
              "      <td>129415.33</td>\n",
              "      <td>0.0</td>\n",
              "    </tr>\n",
              "    <tr>\n",
              "      <th>XC60</th>\n",
              "      <td>Motor 4.0 Turbo</td>\n",
              "      <td>2019</td>\n",
              "      <td>0.0</td>\n",
              "      <td>True</td>\n",
              "      <td>['Painel digital', 'Piloto automático', 'Centr...</td>\n",
              "      <td>77675.79</td>\n",
              "      <td>0.0</td>\n",
              "    </tr>\n",
              "  </tbody>\n",
              "</table>\n",
              "<p>61 rows × 7 columns</p>\n",
              "</div>\n",
              "      <button class=\"colab-df-convert\" onclick=\"convertToInteractive('df-6db96eef-813e-4837-b0b6-d8d2a00a9217')\"\n",
              "              title=\"Convert this dataframe to an interactive table.\"\n",
              "              style=\"display:none;\">\n",
              "        \n",
              "  <svg xmlns=\"http://www.w3.org/2000/svg\" height=\"24px\"viewBox=\"0 0 24 24\"\n",
              "       width=\"24px\">\n",
              "    <path d=\"M0 0h24v24H0V0z\" fill=\"none\"/>\n",
              "    <path d=\"M18.56 5.44l.94 2.06.94-2.06 2.06-.94-2.06-.94-.94-2.06-.94 2.06-2.06.94zm-11 1L8.5 8.5l.94-2.06 2.06-.94-2.06-.94L8.5 2.5l-.94 2.06-2.06.94zm10 10l.94 2.06.94-2.06 2.06-.94-2.06-.94-.94-2.06-.94 2.06-2.06.94z\"/><path d=\"M17.41 7.96l-1.37-1.37c-.4-.4-.92-.59-1.43-.59-.52 0-1.04.2-1.43.59L10.3 9.45l-7.72 7.72c-.78.78-.78 2.05 0 2.83L4 21.41c.39.39.9.59 1.41.59.51 0 1.02-.2 1.41-.59l7.78-7.78 2.81-2.81c.8-.78.8-2.07 0-2.86zM5.41 20L4 18.59l7.72-7.72 1.47 1.35L5.41 20z\"/>\n",
              "  </svg>\n",
              "      </button>\n",
              "      \n",
              "  <style>\n",
              "    .colab-df-container {\n",
              "      display:flex;\n",
              "      flex-wrap:wrap;\n",
              "      gap: 12px;\n",
              "    }\n",
              "\n",
              "    .colab-df-convert {\n",
              "      background-color: #E8F0FE;\n",
              "      border: none;\n",
              "      border-radius: 50%;\n",
              "      cursor: pointer;\n",
              "      display: none;\n",
              "      fill: #1967D2;\n",
              "      height: 32px;\n",
              "      padding: 0 0 0 0;\n",
              "      width: 32px;\n",
              "    }\n",
              "\n",
              "    .colab-df-convert:hover {\n",
              "      background-color: #E2EBFA;\n",
              "      box-shadow: 0px 1px 2px rgba(60, 64, 67, 0.3), 0px 1px 3px 1px rgba(60, 64, 67, 0.15);\n",
              "      fill: #174EA6;\n",
              "    }\n",
              "\n",
              "    [theme=dark] .colab-df-convert {\n",
              "      background-color: #3B4455;\n",
              "      fill: #D2E3FC;\n",
              "    }\n",
              "\n",
              "    [theme=dark] .colab-df-convert:hover {\n",
              "      background-color: #434B5C;\n",
              "      box-shadow: 0px 1px 3px 1px rgba(0, 0, 0, 0.15);\n",
              "      filter: drop-shadow(0px 1px 2px rgba(0, 0, 0, 0.3));\n",
              "      fill: #FFFFFF;\n",
              "    }\n",
              "  </style>\n",
              "\n",
              "      <script>\n",
              "        const buttonEl =\n",
              "          document.querySelector('#df-6db96eef-813e-4837-b0b6-d8d2a00a9217 button.colab-df-convert');\n",
              "        buttonEl.style.display =\n",
              "          google.colab.kernel.accessAllowed ? 'block' : 'none';\n",
              "\n",
              "        async function convertToInteractive(key) {\n",
              "          const element = document.querySelector('#df-6db96eef-813e-4837-b0b6-d8d2a00a9217');\n",
              "          const dataTable =\n",
              "            await google.colab.kernel.invokeFunction('convertToInteractive',\n",
              "                                                     [key], {});\n",
              "          if (!dataTable) return;\n",
              "\n",
              "          const docLinkHtml = 'Like what you see? Visit the ' +\n",
              "            '<a target=\"_blank\" href=https://colab.research.google.com/notebooks/data_table.ipynb>data table notebook</a>'\n",
              "            + ' to learn more about interactive tables.';\n",
              "          element.innerHTML = '';\n",
              "          dataTable['output_type'] = 'display_data';\n",
              "          await google.colab.output.renderOutput(dataTable, element);\n",
              "          const docLink = document.createElement('div');\n",
              "          docLink.innerHTML = docLinkHtml;\n",
              "          element.appendChild(docLink);\n",
              "        }\n",
              "      </script>\n",
              "    </div>\n",
              "  </div>\n",
              "  "
            ]
          },
          "metadata": {},
          "execution_count": 63
        }
      ],
      "source": [
        "dataset.query(\"Zero_km == True\")"
      ]
    },
    {
      "cell_type": "code",
      "execution_count": 64,
      "metadata": {
        "id": "4-ZvhXjvD1Bj"
      },
      "outputs": [],
      "source": [
        "dataset = pd.read_csv('db.csv', sep = ';')"
      ]
    },
    {
      "cell_type": "code",
      "execution_count": 65,
      "metadata": {
        "id": "MQUw7i1OD1Bk",
        "scrolled": true,
        "outputId": "4941aa0d-4362-49b4-a910-78ca3a2d7508",
        "colab": {
          "base_uri": "https://localhost:8080/",
          "height": 423
        }
      },
      "outputs": [
        {
          "output_type": "execute_result",
          "data": {
            "text/plain": [
              "                      Nome                  Motor   Ano  Quilometragem  \\\n",
              "0            Jetta Variant        Motor 4.0 Turbo  2003        44410.0   \n",
              "1                   Passat           Motor Diesel  1991         5712.0   \n",
              "2                 Crossfox        Motor Diesel V8  1990        37123.0   \n",
              "3                      DS5        Motor 2.4 Turbo  2019            NaN   \n",
              "4         Aston Martin DB4        Motor 2.4 Turbo  2006        25757.0   \n",
              "..                     ...                    ...   ...            ...   \n",
              "253           Phantom 2013               Motor V8  2014        27505.0   \n",
              "254  Cadillac Ciel concept               Motor V8  1991        29981.0   \n",
              "255             Classe GLK  Motor 5.0 V8 Bi-Turbo  2002        52637.0   \n",
              "256       Aston Martin DB5           Motor Diesel  1996         7685.0   \n",
              "257                  Macan        Motor Diesel V6  1992        50188.0   \n",
              "\n",
              "     Zero_km                                         Acessórios      Valor  \n",
              "0      False  ['Rodas de liga', 'Travas elétricas', 'Piloto ...   88078.64  \n",
              "1      False  ['Central multimídia', 'Teto panorâmico', 'Fre...  106161.94  \n",
              "2      False  ['Piloto automático', 'Controle de estabilidad...   72832.16  \n",
              "3       True  ['Travas elétricas', '4 X 4', 'Vidros elétrico...  124549.07  \n",
              "4      False  ['Rodas de liga', '4 X 4', 'Central multimídia...   92612.10  \n",
              "..       ...                                                ...        ...  \n",
              "253    False  ['Controle de estabilidade', 'Piloto automátic...   51759.58  \n",
              "254    False  ['Bancos de couro', 'Painel digital', 'Sensor ...   51667.06  \n",
              "255    False  ['Rodas de liga', 'Controle de tração', 'Câmbi...   68934.03  \n",
              "256    False  ['Ar condicionado', '4 X 4', 'Câmbio automátic...  122110.90  \n",
              "257    False  ['Central multimídia', 'Teto panorâmico', 'Vid...   90381.47  \n",
              "\n",
              "[258 rows x 7 columns]"
            ],
            "text/html": [
              "\n",
              "  <div id=\"df-1d041498-dcc8-4831-8878-6d43beb3c522\">\n",
              "    <div class=\"colab-df-container\">\n",
              "      <div>\n",
              "<style scoped>\n",
              "    .dataframe tbody tr th:only-of-type {\n",
              "        vertical-align: middle;\n",
              "    }\n",
              "\n",
              "    .dataframe tbody tr th {\n",
              "        vertical-align: top;\n",
              "    }\n",
              "\n",
              "    .dataframe thead th {\n",
              "        text-align: right;\n",
              "    }\n",
              "</style>\n",
              "<table border=\"1\" class=\"dataframe\">\n",
              "  <thead>\n",
              "    <tr style=\"text-align: right;\">\n",
              "      <th></th>\n",
              "      <th>Nome</th>\n",
              "      <th>Motor</th>\n",
              "      <th>Ano</th>\n",
              "      <th>Quilometragem</th>\n",
              "      <th>Zero_km</th>\n",
              "      <th>Acessórios</th>\n",
              "      <th>Valor</th>\n",
              "    </tr>\n",
              "  </thead>\n",
              "  <tbody>\n",
              "    <tr>\n",
              "      <th>0</th>\n",
              "      <td>Jetta Variant</td>\n",
              "      <td>Motor 4.0 Turbo</td>\n",
              "      <td>2003</td>\n",
              "      <td>44410.0</td>\n",
              "      <td>False</td>\n",
              "      <td>['Rodas de liga', 'Travas elétricas', 'Piloto ...</td>\n",
              "      <td>88078.64</td>\n",
              "    </tr>\n",
              "    <tr>\n",
              "      <th>1</th>\n",
              "      <td>Passat</td>\n",
              "      <td>Motor Diesel</td>\n",
              "      <td>1991</td>\n",
              "      <td>5712.0</td>\n",
              "      <td>False</td>\n",
              "      <td>['Central multimídia', 'Teto panorâmico', 'Fre...</td>\n",
              "      <td>106161.94</td>\n",
              "    </tr>\n",
              "    <tr>\n",
              "      <th>2</th>\n",
              "      <td>Crossfox</td>\n",
              "      <td>Motor Diesel V8</td>\n",
              "      <td>1990</td>\n",
              "      <td>37123.0</td>\n",
              "      <td>False</td>\n",
              "      <td>['Piloto automático', 'Controle de estabilidad...</td>\n",
              "      <td>72832.16</td>\n",
              "    </tr>\n",
              "    <tr>\n",
              "      <th>3</th>\n",
              "      <td>DS5</td>\n",
              "      <td>Motor 2.4 Turbo</td>\n",
              "      <td>2019</td>\n",
              "      <td>NaN</td>\n",
              "      <td>True</td>\n",
              "      <td>['Travas elétricas', '4 X 4', 'Vidros elétrico...</td>\n",
              "      <td>124549.07</td>\n",
              "    </tr>\n",
              "    <tr>\n",
              "      <th>4</th>\n",
              "      <td>Aston Martin DB4</td>\n",
              "      <td>Motor 2.4 Turbo</td>\n",
              "      <td>2006</td>\n",
              "      <td>25757.0</td>\n",
              "      <td>False</td>\n",
              "      <td>['Rodas de liga', '4 X 4', 'Central multimídia...</td>\n",
              "      <td>92612.10</td>\n",
              "    </tr>\n",
              "    <tr>\n",
              "      <th>...</th>\n",
              "      <td>...</td>\n",
              "      <td>...</td>\n",
              "      <td>...</td>\n",
              "      <td>...</td>\n",
              "      <td>...</td>\n",
              "      <td>...</td>\n",
              "      <td>...</td>\n",
              "    </tr>\n",
              "    <tr>\n",
              "      <th>253</th>\n",
              "      <td>Phantom 2013</td>\n",
              "      <td>Motor V8</td>\n",
              "      <td>2014</td>\n",
              "      <td>27505.0</td>\n",
              "      <td>False</td>\n",
              "      <td>['Controle de estabilidade', 'Piloto automátic...</td>\n",
              "      <td>51759.58</td>\n",
              "    </tr>\n",
              "    <tr>\n",
              "      <th>254</th>\n",
              "      <td>Cadillac Ciel concept</td>\n",
              "      <td>Motor V8</td>\n",
              "      <td>1991</td>\n",
              "      <td>29981.0</td>\n",
              "      <td>False</td>\n",
              "      <td>['Bancos de couro', 'Painel digital', 'Sensor ...</td>\n",
              "      <td>51667.06</td>\n",
              "    </tr>\n",
              "    <tr>\n",
              "      <th>255</th>\n",
              "      <td>Classe GLK</td>\n",
              "      <td>Motor 5.0 V8 Bi-Turbo</td>\n",
              "      <td>2002</td>\n",
              "      <td>52637.0</td>\n",
              "      <td>False</td>\n",
              "      <td>['Rodas de liga', 'Controle de tração', 'Câmbi...</td>\n",
              "      <td>68934.03</td>\n",
              "    </tr>\n",
              "    <tr>\n",
              "      <th>256</th>\n",
              "      <td>Aston Martin DB5</td>\n",
              "      <td>Motor Diesel</td>\n",
              "      <td>1996</td>\n",
              "      <td>7685.0</td>\n",
              "      <td>False</td>\n",
              "      <td>['Ar condicionado', '4 X 4', 'Câmbio automátic...</td>\n",
              "      <td>122110.90</td>\n",
              "    </tr>\n",
              "    <tr>\n",
              "      <th>257</th>\n",
              "      <td>Macan</td>\n",
              "      <td>Motor Diesel V6</td>\n",
              "      <td>1992</td>\n",
              "      <td>50188.0</td>\n",
              "      <td>False</td>\n",
              "      <td>['Central multimídia', 'Teto panorâmico', 'Vid...</td>\n",
              "      <td>90381.47</td>\n",
              "    </tr>\n",
              "  </tbody>\n",
              "</table>\n",
              "<p>258 rows × 7 columns</p>\n",
              "</div>\n",
              "      <button class=\"colab-df-convert\" onclick=\"convertToInteractive('df-1d041498-dcc8-4831-8878-6d43beb3c522')\"\n",
              "              title=\"Convert this dataframe to an interactive table.\"\n",
              "              style=\"display:none;\">\n",
              "        \n",
              "  <svg xmlns=\"http://www.w3.org/2000/svg\" height=\"24px\"viewBox=\"0 0 24 24\"\n",
              "       width=\"24px\">\n",
              "    <path d=\"M0 0h24v24H0V0z\" fill=\"none\"/>\n",
              "    <path d=\"M18.56 5.44l.94 2.06.94-2.06 2.06-.94-2.06-.94-.94-2.06-.94 2.06-2.06.94zm-11 1L8.5 8.5l.94-2.06 2.06-.94-2.06-.94L8.5 2.5l-.94 2.06-2.06.94zm10 10l.94 2.06.94-2.06 2.06-.94-2.06-.94-.94-2.06-.94 2.06-2.06.94z\"/><path d=\"M17.41 7.96l-1.37-1.37c-.4-.4-.92-.59-1.43-.59-.52 0-1.04.2-1.43.59L10.3 9.45l-7.72 7.72c-.78.78-.78 2.05 0 2.83L4 21.41c.39.39.9.59 1.41.59.51 0 1.02-.2 1.41-.59l7.78-7.78 2.81-2.81c.8-.78.8-2.07 0-2.86zM5.41 20L4 18.59l7.72-7.72 1.47 1.35L5.41 20z\"/>\n",
              "  </svg>\n",
              "      </button>\n",
              "      \n",
              "  <style>\n",
              "    .colab-df-container {\n",
              "      display:flex;\n",
              "      flex-wrap:wrap;\n",
              "      gap: 12px;\n",
              "    }\n",
              "\n",
              "    .colab-df-convert {\n",
              "      background-color: #E8F0FE;\n",
              "      border: none;\n",
              "      border-radius: 50%;\n",
              "      cursor: pointer;\n",
              "      display: none;\n",
              "      fill: #1967D2;\n",
              "      height: 32px;\n",
              "      padding: 0 0 0 0;\n",
              "      width: 32px;\n",
              "    }\n",
              "\n",
              "    .colab-df-convert:hover {\n",
              "      background-color: #E2EBFA;\n",
              "      box-shadow: 0px 1px 2px rgba(60, 64, 67, 0.3), 0px 1px 3px 1px rgba(60, 64, 67, 0.15);\n",
              "      fill: #174EA6;\n",
              "    }\n",
              "\n",
              "    [theme=dark] .colab-df-convert {\n",
              "      background-color: #3B4455;\n",
              "      fill: #D2E3FC;\n",
              "    }\n",
              "\n",
              "    [theme=dark] .colab-df-convert:hover {\n",
              "      background-color: #434B5C;\n",
              "      box-shadow: 0px 1px 3px 1px rgba(0, 0, 0, 0.15);\n",
              "      filter: drop-shadow(0px 1px 2px rgba(0, 0, 0, 0.3));\n",
              "      fill: #FFFFFF;\n",
              "    }\n",
              "  </style>\n",
              "\n",
              "      <script>\n",
              "        const buttonEl =\n",
              "          document.querySelector('#df-1d041498-dcc8-4831-8878-6d43beb3c522 button.colab-df-convert');\n",
              "        buttonEl.style.display =\n",
              "          google.colab.kernel.accessAllowed ? 'block' : 'none';\n",
              "\n",
              "        async function convertToInteractive(key) {\n",
              "          const element = document.querySelector('#df-1d041498-dcc8-4831-8878-6d43beb3c522');\n",
              "          const dataTable =\n",
              "            await google.colab.kernel.invokeFunction('convertToInteractive',\n",
              "                                                     [key], {});\n",
              "          if (!dataTable) return;\n",
              "\n",
              "          const docLinkHtml = 'Like what you see? Visit the ' +\n",
              "            '<a target=\"_blank\" href=https://colab.research.google.com/notebooks/data_table.ipynb>data table notebook</a>'\n",
              "            + ' to learn more about interactive tables.';\n",
              "          element.innerHTML = '';\n",
              "          dataTable['output_type'] = 'display_data';\n",
              "          await google.colab.output.renderOutput(dataTable, element);\n",
              "          const docLink = document.createElement('div');\n",
              "          docLink.innerHTML = docLinkHtml;\n",
              "          element.appendChild(docLink);\n",
              "        }\n",
              "      </script>\n",
              "    </div>\n",
              "  </div>\n",
              "  "
            ]
          },
          "metadata": {},
          "execution_count": 65
        }
      ],
      "source": [
        "dataset"
      ]
    },
    {
      "cell_type": "code",
      "execution_count": 67,
      "metadata": {
        "id": "U4Cse7miD1Bl"
      },
      "outputs": [],
      "source": [
        "dataset.dropna(subset = ['Quilometragem'], inplace = True)"
      ]
    },
    {
      "cell_type": "code",
      "execution_count": 68,
      "metadata": {
        "id": "8L4wum05D1Bl",
        "scrolled": true,
        "outputId": "2ce837d6-4002-4d46-bd21-4feed7409546",
        "colab": {
          "base_uri": "https://localhost:8080/",
          "height": 423
        }
      },
      "outputs": [
        {
          "output_type": "execute_result",
          "data": {
            "text/plain": [
              "                      Nome                  Motor   Ano  Quilometragem  \\\n",
              "0            Jetta Variant        Motor 4.0 Turbo  2003        44410.0   \n",
              "1                   Passat           Motor Diesel  1991         5712.0   \n",
              "2                 Crossfox        Motor Diesel V8  1990        37123.0   \n",
              "4         Aston Martin DB4        Motor 2.4 Turbo  2006        25757.0   \n",
              "5            Palio Weekend          Motor 1.8 16v  2012        10728.0   \n",
              "..                     ...                    ...   ...            ...   \n",
              "253           Phantom 2013               Motor V8  2014        27505.0   \n",
              "254  Cadillac Ciel concept               Motor V8  1991        29981.0   \n",
              "255             Classe GLK  Motor 5.0 V8 Bi-Turbo  2002        52637.0   \n",
              "256       Aston Martin DB5           Motor Diesel  1996         7685.0   \n",
              "257                  Macan        Motor Diesel V6  1992        50188.0   \n",
              "\n",
              "     Zero_km                                         Acessórios      Valor  \n",
              "0      False  ['Rodas de liga', 'Travas elétricas', 'Piloto ...   88078.64  \n",
              "1      False  ['Central multimídia', 'Teto panorâmico', 'Fre...  106161.94  \n",
              "2      False  ['Piloto automático', 'Controle de estabilidad...   72832.16  \n",
              "4      False  ['Rodas de liga', '4 X 4', 'Central multimídia...   92612.10  \n",
              "5      False  ['Sensor de estacionamento', 'Teto panorâmico'...   97497.73  \n",
              "..       ...                                                ...        ...  \n",
              "253    False  ['Controle de estabilidade', 'Piloto automátic...   51759.58  \n",
              "254    False  ['Bancos de couro', 'Painel digital', 'Sensor ...   51667.06  \n",
              "255    False  ['Rodas de liga', 'Controle de tração', 'Câmbi...   68934.03  \n",
              "256    False  ['Ar condicionado', '4 X 4', 'Câmbio automátic...  122110.90  \n",
              "257    False  ['Central multimídia', 'Teto panorâmico', 'Vid...   90381.47  \n",
              "\n",
              "[197 rows x 7 columns]"
            ],
            "text/html": [
              "\n",
              "  <div id=\"df-29e28f38-4d06-497d-aa39-f6c7f4f9e2de\">\n",
              "    <div class=\"colab-df-container\">\n",
              "      <div>\n",
              "<style scoped>\n",
              "    .dataframe tbody tr th:only-of-type {\n",
              "        vertical-align: middle;\n",
              "    }\n",
              "\n",
              "    .dataframe tbody tr th {\n",
              "        vertical-align: top;\n",
              "    }\n",
              "\n",
              "    .dataframe thead th {\n",
              "        text-align: right;\n",
              "    }\n",
              "</style>\n",
              "<table border=\"1\" class=\"dataframe\">\n",
              "  <thead>\n",
              "    <tr style=\"text-align: right;\">\n",
              "      <th></th>\n",
              "      <th>Nome</th>\n",
              "      <th>Motor</th>\n",
              "      <th>Ano</th>\n",
              "      <th>Quilometragem</th>\n",
              "      <th>Zero_km</th>\n",
              "      <th>Acessórios</th>\n",
              "      <th>Valor</th>\n",
              "    </tr>\n",
              "  </thead>\n",
              "  <tbody>\n",
              "    <tr>\n",
              "      <th>0</th>\n",
              "      <td>Jetta Variant</td>\n",
              "      <td>Motor 4.0 Turbo</td>\n",
              "      <td>2003</td>\n",
              "      <td>44410.0</td>\n",
              "      <td>False</td>\n",
              "      <td>['Rodas de liga', 'Travas elétricas', 'Piloto ...</td>\n",
              "      <td>88078.64</td>\n",
              "    </tr>\n",
              "    <tr>\n",
              "      <th>1</th>\n",
              "      <td>Passat</td>\n",
              "      <td>Motor Diesel</td>\n",
              "      <td>1991</td>\n",
              "      <td>5712.0</td>\n",
              "      <td>False</td>\n",
              "      <td>['Central multimídia', 'Teto panorâmico', 'Fre...</td>\n",
              "      <td>106161.94</td>\n",
              "    </tr>\n",
              "    <tr>\n",
              "      <th>2</th>\n",
              "      <td>Crossfox</td>\n",
              "      <td>Motor Diesel V8</td>\n",
              "      <td>1990</td>\n",
              "      <td>37123.0</td>\n",
              "      <td>False</td>\n",
              "      <td>['Piloto automático', 'Controle de estabilidad...</td>\n",
              "      <td>72832.16</td>\n",
              "    </tr>\n",
              "    <tr>\n",
              "      <th>4</th>\n",
              "      <td>Aston Martin DB4</td>\n",
              "      <td>Motor 2.4 Turbo</td>\n",
              "      <td>2006</td>\n",
              "      <td>25757.0</td>\n",
              "      <td>False</td>\n",
              "      <td>['Rodas de liga', '4 X 4', 'Central multimídia...</td>\n",
              "      <td>92612.10</td>\n",
              "    </tr>\n",
              "    <tr>\n",
              "      <th>5</th>\n",
              "      <td>Palio Weekend</td>\n",
              "      <td>Motor 1.8 16v</td>\n",
              "      <td>2012</td>\n",
              "      <td>10728.0</td>\n",
              "      <td>False</td>\n",
              "      <td>['Sensor de estacionamento', 'Teto panorâmico'...</td>\n",
              "      <td>97497.73</td>\n",
              "    </tr>\n",
              "    <tr>\n",
              "      <th>...</th>\n",
              "      <td>...</td>\n",
              "      <td>...</td>\n",
              "      <td>...</td>\n",
              "      <td>...</td>\n",
              "      <td>...</td>\n",
              "      <td>...</td>\n",
              "      <td>...</td>\n",
              "    </tr>\n",
              "    <tr>\n",
              "      <th>253</th>\n",
              "      <td>Phantom 2013</td>\n",
              "      <td>Motor V8</td>\n",
              "      <td>2014</td>\n",
              "      <td>27505.0</td>\n",
              "      <td>False</td>\n",
              "      <td>['Controle de estabilidade', 'Piloto automátic...</td>\n",
              "      <td>51759.58</td>\n",
              "    </tr>\n",
              "    <tr>\n",
              "      <th>254</th>\n",
              "      <td>Cadillac Ciel concept</td>\n",
              "      <td>Motor V8</td>\n",
              "      <td>1991</td>\n",
              "      <td>29981.0</td>\n",
              "      <td>False</td>\n",
              "      <td>['Bancos de couro', 'Painel digital', 'Sensor ...</td>\n",
              "      <td>51667.06</td>\n",
              "    </tr>\n",
              "    <tr>\n",
              "      <th>255</th>\n",
              "      <td>Classe GLK</td>\n",
              "      <td>Motor 5.0 V8 Bi-Turbo</td>\n",
              "      <td>2002</td>\n",
              "      <td>52637.0</td>\n",
              "      <td>False</td>\n",
              "      <td>['Rodas de liga', 'Controle de tração', 'Câmbi...</td>\n",
              "      <td>68934.03</td>\n",
              "    </tr>\n",
              "    <tr>\n",
              "      <th>256</th>\n",
              "      <td>Aston Martin DB5</td>\n",
              "      <td>Motor Diesel</td>\n",
              "      <td>1996</td>\n",
              "      <td>7685.0</td>\n",
              "      <td>False</td>\n",
              "      <td>['Ar condicionado', '4 X 4', 'Câmbio automátic...</td>\n",
              "      <td>122110.90</td>\n",
              "    </tr>\n",
              "    <tr>\n",
              "      <th>257</th>\n",
              "      <td>Macan</td>\n",
              "      <td>Motor Diesel V6</td>\n",
              "      <td>1992</td>\n",
              "      <td>50188.0</td>\n",
              "      <td>False</td>\n",
              "      <td>['Central multimídia', 'Teto panorâmico', 'Vid...</td>\n",
              "      <td>90381.47</td>\n",
              "    </tr>\n",
              "  </tbody>\n",
              "</table>\n",
              "<p>197 rows × 7 columns</p>\n",
              "</div>\n",
              "      <button class=\"colab-df-convert\" onclick=\"convertToInteractive('df-29e28f38-4d06-497d-aa39-f6c7f4f9e2de')\"\n",
              "              title=\"Convert this dataframe to an interactive table.\"\n",
              "              style=\"display:none;\">\n",
              "        \n",
              "  <svg xmlns=\"http://www.w3.org/2000/svg\" height=\"24px\"viewBox=\"0 0 24 24\"\n",
              "       width=\"24px\">\n",
              "    <path d=\"M0 0h24v24H0V0z\" fill=\"none\"/>\n",
              "    <path d=\"M18.56 5.44l.94 2.06.94-2.06 2.06-.94-2.06-.94-.94-2.06-.94 2.06-2.06.94zm-11 1L8.5 8.5l.94-2.06 2.06-.94-2.06-.94L8.5 2.5l-.94 2.06-2.06.94zm10 10l.94 2.06.94-2.06 2.06-.94-2.06-.94-.94-2.06-.94 2.06-2.06.94z\"/><path d=\"M17.41 7.96l-1.37-1.37c-.4-.4-.92-.59-1.43-.59-.52 0-1.04.2-1.43.59L10.3 9.45l-7.72 7.72c-.78.78-.78 2.05 0 2.83L4 21.41c.39.39.9.59 1.41.59.51 0 1.02-.2 1.41-.59l7.78-7.78 2.81-2.81c.8-.78.8-2.07 0-2.86zM5.41 20L4 18.59l7.72-7.72 1.47 1.35L5.41 20z\"/>\n",
              "  </svg>\n",
              "      </button>\n",
              "      \n",
              "  <style>\n",
              "    .colab-df-container {\n",
              "      display:flex;\n",
              "      flex-wrap:wrap;\n",
              "      gap: 12px;\n",
              "    }\n",
              "\n",
              "    .colab-df-convert {\n",
              "      background-color: #E8F0FE;\n",
              "      border: none;\n",
              "      border-radius: 50%;\n",
              "      cursor: pointer;\n",
              "      display: none;\n",
              "      fill: #1967D2;\n",
              "      height: 32px;\n",
              "      padding: 0 0 0 0;\n",
              "      width: 32px;\n",
              "    }\n",
              "\n",
              "    .colab-df-convert:hover {\n",
              "      background-color: #E2EBFA;\n",
              "      box-shadow: 0px 1px 2px rgba(60, 64, 67, 0.3), 0px 1px 3px 1px rgba(60, 64, 67, 0.15);\n",
              "      fill: #174EA6;\n",
              "    }\n",
              "\n",
              "    [theme=dark] .colab-df-convert {\n",
              "      background-color: #3B4455;\n",
              "      fill: #D2E3FC;\n",
              "    }\n",
              "\n",
              "    [theme=dark] .colab-df-convert:hover {\n",
              "      background-color: #434B5C;\n",
              "      box-shadow: 0px 1px 3px 1px rgba(0, 0, 0, 0.15);\n",
              "      filter: drop-shadow(0px 1px 2px rgba(0, 0, 0, 0.3));\n",
              "      fill: #FFFFFF;\n",
              "    }\n",
              "  </style>\n",
              "\n",
              "      <script>\n",
              "        const buttonEl =\n",
              "          document.querySelector('#df-29e28f38-4d06-497d-aa39-f6c7f4f9e2de button.colab-df-convert');\n",
              "        buttonEl.style.display =\n",
              "          google.colab.kernel.accessAllowed ? 'block' : 'none';\n",
              "\n",
              "        async function convertToInteractive(key) {\n",
              "          const element = document.querySelector('#df-29e28f38-4d06-497d-aa39-f6c7f4f9e2de');\n",
              "          const dataTable =\n",
              "            await google.colab.kernel.invokeFunction('convertToInteractive',\n",
              "                                                     [key], {});\n",
              "          if (!dataTable) return;\n",
              "\n",
              "          const docLinkHtml = 'Like what you see? Visit the ' +\n",
              "            '<a target=\"_blank\" href=https://colab.research.google.com/notebooks/data_table.ipynb>data table notebook</a>'\n",
              "            + ' to learn more about interactive tables.';\n",
              "          element.innerHTML = '';\n",
              "          dataTable['output_type'] = 'display_data';\n",
              "          await google.colab.output.renderOutput(dataTable, element);\n",
              "          const docLink = document.createElement('div');\n",
              "          docLink.innerHTML = docLinkHtml;\n",
              "          element.appendChild(docLink);\n",
              "        }\n",
              "      </script>\n",
              "    </div>\n",
              "  </div>\n",
              "  "
            ]
          },
          "metadata": {},
          "execution_count": 68
        }
      ],
      "source": [
        "dataset"
      ]
    }
  ],
  "metadata": {
    "colab": {
      "name": "Python para Data Science - Pandas.ipynb",
      "provenance": []
    },
    "kernelspec": {
      "display_name": "Python 3 (ipykernel)",
      "language": "python",
      "name": "python3"
    },
    "language_info": {
      "codemirror_mode": {
        "name": "ipython",
        "version": 3
      },
      "file_extension": ".py",
      "mimetype": "text/x-python",
      "name": "python",
      "nbconvert_exporter": "python",
      "pygments_lexer": "ipython3",
      "version": "3.9.2"
    },
    "vscode": {
      "interpreter": {
        "hash": "bcc210af304ee50a5a4272b09a7db1eddf14390eb4b96c1b204a8c72559345ba"
      }
    }
  },
  "nbformat": 4,
  "nbformat_minor": 0
}